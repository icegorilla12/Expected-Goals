{
 "cells": [
  {
   "cell_type": "code",
   "execution_count": 8,
   "metadata": {},
   "outputs": [],
   "source": [
    "import pandas as pd\n",
    "import matplotlib.pyplot as plt\n",
    "import seaborn as sns\n",
    "import numpy as np\n",
    "def getplayerinfo(id):\n",
    "    return players.loc[players['wyId']==id]\n"
   ]
  },
  {
   "cell_type": "code",
   "execution_count": 9,
   "metadata": {},
   "outputs": [],
   "source": [
    "allshots=pd.read_csv('allshots.csv')"
   ]
  },
  {
   "cell_type": "code",
   "execution_count": 10,
   "metadata": {},
   "outputs": [],
   "source": [
    "shots_leagues=allshots.loc[(allshots['competition']==0)|(allshots['competition']==1)|(allshots['competition']==2)|(allshots['competition']==3)|(allshots['competition']==5)]\n",
    "shots_worldcup=allshots.loc[allshots['competition']==4]"
   ]
  },
  {
   "cell_type": "code",
   "execution_count": 11,
   "metadata": {},
   "outputs": [],
   "source": [
    "import json\n",
    "players=pd.read_json(r'C:\\Users\\ATHARAVA SHUKLA\\Desktop\\study\\Football\\players.json')\n",
    "teams=pd.read_json(r'C:\\Users\\ATHARAVA SHUKLA\\Desktop\\study\\Football\\teams.json')\n"
   ]
  },
  {
   "cell_type": "code",
   "execution_count": null,
   "metadata": {},
   "outputs": [],
   "source": []
  },
  {
   "cell_type": "code",
   "execution_count": 13,
   "metadata": {},
   "outputs": [],
   "source": [
    "playerId=np.unique(shots_leagues['playerId'])"
   ]
  },
  {
   "cell_type": "code",
   "execution_count": 14,
   "metadata": {},
   "outputs": [],
   "source": [
    "goals=[]\n",
    "expectedgoals=[]\n",
    "headers=[]\n",
    "preferred_foot=[]\n",
    "shots=[]\n",
    "for id in playerId:\n",
    "    temp1=shots_leagues.loc[shots_leagues['playerId']==id,'goal'].sum()\n",
    "    temp2=shots_leagues.loc[shots_leagues['playerId']==id,'xG'].sum()\n",
    "    temp3=(shots_leagues.loc[shots_leagues['playerId']==id]).shape[0]\n",
    "    temp4=shots_leagues.loc[(shots_leagues['playerId']==id)&(shots_leagues['goal']==1),'headers'].sum()\n",
    "    temp5=shots_leagues.loc[(shots_leagues['playerId']==id)&(shots_leagues['goal']==1),'preferrence'].sum()\n",
    "    goals=np.append(goals,temp1)\n",
    "    expectedgoals=np.append(expectedgoals,temp2)\n",
    "    headers=np.append(headers,temp4)\n",
    "    preferred_foot=np.append(preferred_foot,temp5)\n",
    "    shots=np.append(shots,temp3)"
   ]
  },
  {
   "cell_type": "code",
   "execution_count": 15,
   "metadata": {},
   "outputs": [],
   "source": [
    "matrix=[[playerId,goals,expectedgoals,headers,preferred_foot,shots]]\n",
    "matrix=np.transpose(matrix)\n",
    "matrix=np.reshape(matrix,(np.shape(matrix)[0],np.shape(matrix)[1]))"
   ]
  },
  {
   "cell_type": "code",
   "execution_count": 16,
   "metadata": {},
   "outputs": [],
   "source": [
    "goalscoring_leagues = pd.DataFrame(matrix, columns=['playerId','goals','expectedgoals','headers','preferred_foot','shots'])"
   ]
  },
  {
   "cell_type": "code",
   "execution_count": null,
   "metadata": {},
   "outputs": [],
   "source": []
  },
  {
   "cell_type": "code",
   "execution_count": 17,
   "metadata": {},
   "outputs": [],
   "source": [
    "goalscoring_leagues['unpreferred_foot']=goalscoring_leagues['goals']-goalscoring_leagues['preferred_foot']\n"
   ]
  },
  {
   "cell_type": "code",
   "execution_count": 18,
   "metadata": {},
   "outputs": [],
   "source": [
    "goalscoring_leagues['preferred_foot']=goalscoring_leagues['preferred_foot']-goalscoring_leagues['headers']"
   ]
  },
  {
   "cell_type": "code",
   "execution_count": 19,
   "metadata": {},
   "outputs": [],
   "source": [
    "xGdifference=goalscoring_leagues.goals-goalscoring_leagues.expectedgoals"
   ]
  },
  {
   "cell_type": "code",
   "execution_count": 20,
   "metadata": {},
   "outputs": [],
   "source": [
    "goalscoring_leagues['xGdifference']=xGdifference"
   ]
  },
  {
   "cell_type": "code",
   "execution_count": 21,
   "metadata": {},
   "outputs": [],
   "source": [
    "birthDate=players.birthDate\n",
    "birthdates=[]\n",
    "for i in range(len(birthDate)):\n",
    "    temp=birthDate[i][0:4]\n",
    "    temp=int(temp)\n",
    "    temp = 2018-temp\n",
    "    birthdates=np.append(birthdates,temp)\n",
    "players['age']=birthdates"
   ]
  },
  {
   "cell_type": "code",
   "execution_count": 22,
   "metadata": {},
   "outputs": [],
   "source": [
    "lastname=[]\n",
    "age=[]\n",
    "for id in playerId:\n",
    "    temp1=players.loc[players['wyId']==id].shortName\n",
    "    temp2=players.loc[players['wyId']==id].age\n",
    "    lastname=np.append(lastname,temp1)\n",
    "    age=np.append(age,temp2)\n",
    "    "
   ]
  },
  {
   "cell_type": "code",
   "execution_count": 23,
   "metadata": {},
   "outputs": [
    {
     "data": {
      "text/html": [
       "<div>\n",
       "<style scoped>\n",
       "    .dataframe tbody tr th:only-of-type {\n",
       "        vertical-align: middle;\n",
       "    }\n",
       "\n",
       "    .dataframe tbody tr th {\n",
       "        vertical-align: top;\n",
       "    }\n",
       "\n",
       "    .dataframe thead th {\n",
       "        text-align: right;\n",
       "    }\n",
       "</style>\n",
       "<table border=\"1\" class=\"dataframe\">\n",
       "  <thead>\n",
       "    <tr style=\"text-align: right;\">\n",
       "      <th></th>\n",
       "      <th>playerId</th>\n",
       "      <th>goals</th>\n",
       "      <th>expectedgoals</th>\n",
       "      <th>headers</th>\n",
       "      <th>preferred_foot</th>\n",
       "      <th>shots</th>\n",
       "      <th>unpreferred_foot</th>\n",
       "      <th>xGdifference</th>\n",
       "    </tr>\n",
       "  </thead>\n",
       "  <tbody>\n",
       "    <tr>\n",
       "      <th>0</th>\n",
       "      <td>0.0</td>\n",
       "      <td>0.0</td>\n",
       "      <td>0.1479</td>\n",
       "      <td>0.0</td>\n",
       "      <td>0.0</td>\n",
       "      <td>3.0</td>\n",
       "      <td>0.0</td>\n",
       "      <td>-0.1479</td>\n",
       "    </tr>\n",
       "  </tbody>\n",
       "</table>\n",
       "</div>"
      ],
      "text/plain": [
       "   playerId  goals  expectedgoals  headers  preferred_foot  shots  \\\n",
       "0       0.0    0.0         0.1479      0.0             0.0    3.0   \n",
       "\n",
       "   unpreferred_foot  xGdifference  \n",
       "0               0.0       -0.1479  "
      ]
     },
     "execution_count": 23,
     "metadata": {},
     "output_type": "execute_result"
    }
   ],
   "source": [
    "goalscoring_leagues.loc[goalscoring_leagues['playerId']==0]"
   ]
  },
  {
   "cell_type": "code",
   "execution_count": 24,
   "metadata": {},
   "outputs": [],
   "source": [
    "goalscoring_leagues=goalscoring_leagues.drop(0)"
   ]
  },
  {
   "cell_type": "code",
   "execution_count": 25,
   "metadata": {},
   "outputs": [],
   "source": [
    "goalscoring_leagues['names']=lastname\n",
    "goalscoring_leagues['age']=age"
   ]
  },
  {
   "cell_type": "code",
   "execution_count": null,
   "metadata": {},
   "outputs": [],
   "source": []
  },
  {
   "cell_type": "code",
   "execution_count": 26,
   "metadata": {},
   "outputs": [],
   "source": [
    "goalscoring_leagues['playerId']=goalscoring_leagues['playerId'].astype(int)\n",
    "goalscoring_leagues['goals']=goalscoring_leagues['goals'].astype(int)\n",
    "goalscoring_leagues['headers']=goalscoring_leagues['headers'].astype(int)\n",
    "goalscoring_leagues['preferred_foot']=goalscoring_leagues['preferred_foot'].astype(int)\n",
    "goalscoring_leagues['shots']=goalscoring_leagues['shots'].astype(int)\n",
    "goalscoring_leagues['unpreferred_foot']=goalscoring_leagues['unpreferred_foot'].astype(int)\n",
    "goalscoring_leagues['age']=goalscoring_leagues['age'].astype(int)\n",
    "cols=['playerId', 'names','age','shots', 'goals', 'expectedgoals', 'xGdifference', 'headers', 'preferred_foot',\n",
    "       'unpreferred_foot']\n",
    "goalscoring_leagues=goalscoring_leagues[cols]"
   ]
  },
  {
   "cell_type": "code",
   "execution_count": null,
   "metadata": {},
   "outputs": [],
   "source": []
  },
  {
   "cell_type": "code",
   "execution_count": 27,
   "metadata": {},
   "outputs": [],
   "source": [
    "goalscoring_leagues = goalscoring_leagues.sort_values('goals',\n",
    "                                     ascending=False)"
   ]
  },
  {
   "cell_type": "code",
   "execution_count": null,
   "metadata": {},
   "outputs": [],
   "source": []
  },
  {
   "cell_type": "code",
   "execution_count": 402,
   "metadata": {},
   "outputs": [],
   "source": [
    "goalscoring_leagues.to_csv('openplaygoals_leagues.csv',index=False,float_format='%.4f')"
   ]
  },
  {
   "cell_type": "code",
   "execution_count": null,
   "metadata": {},
   "outputs": [],
   "source": []
  },
  {
   "cell_type": "code",
   "execution_count": null,
   "metadata": {},
   "outputs": [],
   "source": []
  },
  {
   "cell_type": "code",
   "execution_count": null,
   "metadata": {},
   "outputs": [],
   "source": []
  }
 ],
 "metadata": {
  "kernelspec": {
   "display_name": "Python 3",
   "language": "python",
   "name": "python3"
  },
  "language_info": {
   "codemirror_mode": {
    "name": "ipython",
    "version": 3
   },
   "file_extension": ".py",
   "mimetype": "text/x-python",
   "name": "python",
   "nbconvert_exporter": "python",
   "pygments_lexer": "ipython3",
   "version": "3.7.7"
  }
 },
 "nbformat": 4,
 "nbformat_minor": 4
}
