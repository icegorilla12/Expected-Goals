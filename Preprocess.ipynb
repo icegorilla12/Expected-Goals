{
 "cells": [
  {
   "cell_type": "code",
   "execution_count": 1,
   "metadata": {},
   "outputs": [],
   "source": [
    "import pandas as pd\n",
    "import numpy as np\n",
    "import matplotlib.pyplot as plt\n",
    "import seaborn as sns\n",
    "\n"
   ]
  },
  {
   "cell_type": "code",
   "execution_count": 15,
   "metadata": {},
   "outputs": [],
   "source": [
    "def simplifyDatabase(json_path,destination_path_name):\n",
    "    events=pd.read_json(json_path)\n",
    "    shots=events.loc[events['subEventName'] == 'Shot']\n",
    "    teamId=np.array(shots.teamId)\n",
    "    m = len(shots)\n",
    "    position_shots=shots.positions\n",
    "    position_shots=np.array(position_shots)\n",
    "    tags=shots.tags\n",
    "    tags=np.array(tags)\n",
    "    x_coord = np.zeros(m)\n",
    "    y_coord = np.zeros(m)\n",
    "    for i in range(m):\n",
    "            x_coord[i]=position_shots[i][0]['x']*1.05\n",
    "            y_coord[i]=position_shots[i][0]['y']*0.68\n",
    "    angles=np.zeros(m)\n",
    "    distance=np.zeros(m)\n",
    "    \n",
    "    for i in range(m):\n",
    "            temp = np.sqrt(np.square(x_coord[i]-105) + np.square(34-y_coord[i]))\n",
    "            distance[i]=temp\n",
    "    distance=np.around(distance,2)\n",
    "    angles=np.zeros(m)\n",
    "    for i in range(m):\n",
    "        dx = (np.square(x_coord[i]-105) + np.square(30.34-y_coord[i]))\n",
    "        dy = (np.square(x_coord[i]-105) + np.square(37.66-y_coord[i]))\n",
    "        temp = (dx+dy-np.square(7.32))/(2*np.sqrt(dx)*np.sqrt(dy))\n",
    "        angles[i]=temp\n",
    "    angles=np.arccos(angles);\n",
    "    angles=(angles/np.pi)*180;\n",
    "    np.around(angles, decimals=2)\n",
    "    np.around(angles, decimals=2)\n",
    "    time = shots.eventSec\n",
    "    matchPeriod = shots.matchPeriod\n",
    "    matchPeriod = np.array(matchPeriod)\n",
    "    time = np.array(time)\n",
    "    time = time/60\n",
    "    np.around(time, decimals=2)\n",
    "    for i in range(len(matchPeriod)):\n",
    "                if matchPeriod[i]=='1H':\n",
    "                   matchPeriod[i]=0\n",
    "                elif matchPeriod[i]=='2H':\n",
    "                    matchPeriod[i]=1\n",
    "                elif matchPeriod[i]=='E1':\n",
    "                    matchPeriod[i]=2\n",
    "                elif matchPeriod[i]=='E2':\n",
    "                    matchPeriod[i]=3\n",
    "                    \n",
    "    \n",
    "    for i in range(m):\n",
    "                if matchPeriod[i]==1:\n",
    "                   time[i]=time[i]+45\n",
    "    counter = np.zeros(m)\n",
    "    left = np.zeros(m)\n",
    "    right = np.zeros(m)\n",
    "    head = np.zeros(m)\n",
    "    goal = np.zeros(m)\n",
    "    block = np.zeros(m)\n",
    "    id = shots.id\n",
    "    id = np.array(id)\n",
    "    playerId = shots.playerId\n",
    "    playerId = np.array(playerId)\n",
    "    for i in range(len(tags)):\n",
    "        for j in range(len(tags[i])):\n",
    "            if tags[i][j]['id']==401:\n",
    "                left[i]=1\n",
    "            elif tags[i][j]['id']==402:\n",
    "                right[i]=1\n",
    "            elif tags[i][j]['id']==403:\n",
    "                head[i]=1\n",
    "            elif tags[i][j]['id']==1901:\n",
    "                counter[i]=1\n",
    "            elif tags[i][j]['id']==101:\n",
    "                goal[i]=1\n",
    "            elif tags[i][j]['id']==2101:\n",
    "                block[i]=1\n",
    "    shots = pd.DataFrame({ 'playerId' : playerId, 'id':id, 'x_coordinates': x_coord,\n",
    "                   'y_coordinates': y_coord, 'blocked':block,\n",
    "                   'goal': goal,\n",
    "                    'angles': angles,\n",
    "                          'distance':distance,\n",
    "                     'time':time,\n",
    "                      'matchPeriod':matchPeriod,\n",
    "                      'right':right,\n",
    "                      'left':left,\n",
    "                      'head':head,'counter':counter,'teamId':teamId})\n",
    "    shots= shots.dropna()\n",
    "    shots.to_csv(destination_path_name,index=False)\n",
    "    \n",
    "    \n",
    "    \n",
    "                   \n",
    "        \n",
    "    \n",
    "    \n",
    "    \n",
    "    \n",
    "    \n",
    "    \n",
    "    \n",
    "    \n",
    "    \n",
    "    \n",
    "    \n",
    "    \n",
    "\n",
    "    \n",
    "    \n",
    "    \n",
    "    \n",
    "    "
   ]
  },
  {
   "cell_type": "code",
   "execution_count": 16,
   "metadata": {},
   "outputs": [],
   "source": [
    "simplifyDatabase(r'C:\\Users\\ATHARAVA SHUKLA\\Desktop\\study\\Football\\events_World_Cup.json','WCtest.csv')\n",
    "\n"
   ]
  },
  {
   "cell_type": "code",
   "execution_count": null,
   "metadata": {},
   "outputs": [],
   "source": [
    "\n",
    "\n"
   ]
  },
  {
   "cell_type": "code",
   "execution_count": null,
   "metadata": {},
   "outputs": [],
   "source": [
    "\n",
    "\n"
   ]
  },
  {
   "cell_type": "code",
   "execution_count": null,
   "metadata": {},
   "outputs": [],
   "source": []
  },
  {
   "cell_type": "code",
   "execution_count": null,
   "metadata": {},
   "outputs": [],
   "source": []
  },
  {
   "cell_type": "raw",
   "metadata": {},
   "source": [
    "\n",
    "\n"
   ]
  },
  {
   "cell_type": "code",
   "execution_count": null,
   "metadata": {},
   "outputs": [],
   "source": []
  },
  {
   "cell_type": "code",
   "execution_count": null,
   "metadata": {},
   "outputs": [],
   "source": []
  },
  {
   "cell_type": "code",
   "execution_count": null,
   "metadata": {},
   "outputs": [],
   "source": []
  },
  {
   "cell_type": "code",
   "execution_count": null,
   "metadata": {},
   "outputs": [],
   "source": []
  },
  {
   "cell_type": "code",
   "execution_count": null,
   "metadata": {},
   "outputs": [],
   "source": []
  },
  {
   "cell_type": "code",
   "execution_count": null,
   "metadata": {},
   "outputs": [],
   "source": []
  },
  {
   "cell_type": "code",
   "execution_count": null,
   "metadata": {},
   "outputs": [],
   "source": []
  }
 ],
 "metadata": {
  "kernelspec": {
   "display_name": "Python 3",
   "language": "python",
   "name": "python3"
  },
  "language_info": {
   "codemirror_mode": {
    "name": "ipython",
    "version": 3
   },
   "file_extension": ".py",
   "mimetype": "text/x-python",
   "name": "python",
   "nbconvert_exporter": "python",
   "pygments_lexer": "ipython3",
   "version": "3.7.7"
  }
 },
 "nbformat": 4,
 "nbformat_minor": 4
}
