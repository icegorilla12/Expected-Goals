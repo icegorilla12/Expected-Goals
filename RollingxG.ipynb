{
 "cells": [
  {
   "cell_type": "markdown",
   "metadata": {},
   "source": [
    "ROLLING xG"
   ]
  },
  {
   "cell_type": "code",
   "execution_count": 2,
   "metadata": {},
   "outputs": [],
   "source": [
    "import pandas as pd\n",
    "import numpy as np\n",
    "import seaborn as sns\n",
    "import matplotlib.pyplot as plt\n",
    "import warnings\n",
    "warnings.filterwarnings(\"ignore\")"
   ]
  },
  {
   "cell_type": "code",
   "execution_count": 3,
   "metadata": {},
   "outputs": [],
   "source": [
    "matches_World_Cup=pd.read_json(r'C:\\Users\\ATHARAVA SHUKLA\\Desktop\\study\\Football\\matches_World_Cup.json')"
   ]
  },
  {
   "cell_type": "code",
   "execution_count": 4,
   "metadata": {},
   "outputs": [],
   "source": [
    "events_World_Cup=pd.read_json(r'C:\\Users\\ATHARAVA SHUKLA\\Desktop\\study\\Football\\events_World_Cup.json')"
   ]
  },
  {
   "cell_type": "code",
   "execution_count": 10,
   "metadata": {},
   "outputs": [],
   "source": [
    "allshots=pd.read_csv('allshots.csv')"
   ]
  },
  {
   "cell_type": "code",
   "execution_count": 19,
   "metadata": {},
   "outputs": [],
   "source": [
    "data=events_World_Cup[['id','matchId']]\n",
    "data_=events_World_Cup[['id','teamId']]\n",
    "data=data.set_index('id')\n",
    "data_=data_.set_index('id')"
   ]
  },
  {
   "cell_type": "code",
   "execution_count": 20,
   "metadata": {},
   "outputs": [],
   "source": [
    "team_dict=data_.to_dict()\n"
   ]
  },
  {
   "cell_type": "code",
   "execution_count": null,
   "metadata": {},
   "outputs": [],
   "source": []
  },
  {
   "cell_type": "code",
   "execution_count": 21,
   "metadata": {},
   "outputs": [],
   "source": [
    "worldcup_dict=data.to_dict()\n",
    "worldcup_dict=worldcup_dict['matchId']\n",
    "team_dict=team_dict['teamId']"
   ]
  },
  {
   "cell_type": "code",
   "execution_count": 22,
   "metadata": {},
   "outputs": [],
   "source": [
    "worldcup_shots=allshots.loc[allshots['competition']==4]"
   ]
  },
  {
   "cell_type": "code",
   "execution_count": null,
   "metadata": {},
   "outputs": [],
   "source": []
  },
  {
   "cell_type": "code",
   "execution_count": 24,
   "metadata": {},
   "outputs": [],
   "source": [
    "matchId=[]\n",
    "teamId=[]\n",
    "for i in range(worldcup_shots.shape[0]):\n",
    "    matchId=np.append(matchId, worldcup_dict[worldcup_shots.iloc[i]['id']])\n",
    "    teamId=np.append(teamId, team_dict[worldcup_shots.iloc[i]['id']])"
   ]
  },
  {
   "cell_type": "code",
   "execution_count": null,
   "metadata": {},
   "outputs": [],
   "source": []
  },
  {
   "cell_type": "code",
   "execution_count": 25,
   "metadata": {},
   "outputs": [],
   "source": [
    "worldcup_shots['matchId']=matchId\n",
    "worldcup_shots['teamId']=teamId"
   ]
  },
  {
   "cell_type": "code",
   "execution_count": 26,
   "metadata": {},
   "outputs": [],
   "source": [
    "worldcup_shots['matchId']=worldcup_shots['matchId'].astype(int)\n",
    "worldcup_shots['teamId']=worldcup_shots['teamId'].astype(int)"
   ]
  },
  {
   "cell_type": "code",
   "execution_count": null,
   "metadata": {},
   "outputs": [],
   "source": []
  },
  {
   "cell_type": "code",
   "execution_count": 28,
   "metadata": {},
   "outputs": [],
   "source": [
    "worldcup_shots.to_csv('worldcup_shots.csv',index=False)"
   ]
  },
  {
   "cell_type": "code",
   "execution_count": 29,
   "metadata": {},
   "outputs": [],
   "source": [
    "worldcup_match = worldcup_shots.loc[worldcup_shots['matchId']==2058010]"
   ]
  },
  {
   "cell_type": "code",
   "execution_count": null,
   "metadata": {},
   "outputs": [],
   "source": []
  },
  {
   "cell_type": "code",
   "execution_count": 30,
   "metadata": {},
   "outputs": [],
   "source": [
    "france_shots=worldcup_match[worldcup_match['teamId']==4418]"
   ]
  },
  {
   "cell_type": "code",
   "execution_count": 31,
   "metadata": {},
   "outputs": [],
   "source": [
    "uruguay_shots=worldcup_match[worldcup_match['teamId']==15670]"
   ]
  },
  {
   "cell_type": "code",
   "execution_count": 32,
   "metadata": {},
   "outputs": [
    {
     "data": {
      "text/html": [
       "<div>\n",
       "<style scoped>\n",
       "    .dataframe tbody tr th:only-of-type {\n",
       "        vertical-align: middle;\n",
       "    }\n",
       "\n",
       "    .dataframe tbody tr th {\n",
       "        vertical-align: top;\n",
       "    }\n",
       "\n",
       "    .dataframe thead th {\n",
       "        text-align: right;\n",
       "    }\n",
       "</style>\n",
       "<table border=\"1\" class=\"dataframe\">\n",
       "  <thead>\n",
       "    <tr style=\"text-align: right;\">\n",
       "      <th></th>\n",
       "      <th>playerId</th>\n",
       "      <th>id</th>\n",
       "      <th>x_coordinates</th>\n",
       "      <th>y_coordinates</th>\n",
       "      <th>blocked</th>\n",
       "      <th>goal</th>\n",
       "      <th>time</th>\n",
       "      <th>matchPeriod</th>\n",
       "      <th>counter</th>\n",
       "      <th>competition</th>\n",
       "      <th>foot</th>\n",
       "      <th>bodypart</th>\n",
       "      <th>preferrence</th>\n",
       "      <th>angles</th>\n",
       "      <th>distance</th>\n",
       "      <th>headers</th>\n",
       "      <th>xG</th>\n",
       "      <th>matchId</th>\n",
       "      <th>teamId</th>\n",
       "    </tr>\n",
       "  </thead>\n",
       "  <tbody>\n",
       "    <tr>\n",
       "      <th>33707</th>\n",
       "      <td>20460</td>\n",
       "      <td>262102716</td>\n",
       "      <td>50.40</td>\n",
       "      <td>60.52</td>\n",
       "      <td>0.0</td>\n",
       "      <td>0.0</td>\n",
       "      <td>30.0</td>\n",
       "      <td>0</td>\n",
       "      <td>0.0</td>\n",
       "      <td>4</td>\n",
       "      <td>1.0</td>\n",
       "      <td>1.0</td>\n",
       "      <td>1.0</td>\n",
       "      <td>6.21</td>\n",
       "      <td>60.70</td>\n",
       "      <td>0.0</td>\n",
       "      <td>0.0005</td>\n",
       "      <td>2058010</td>\n",
       "      <td>15670</td>\n",
       "    </tr>\n",
       "    <tr>\n",
       "      <th>33708</th>\n",
       "      <td>116349</td>\n",
       "      <td>262102786</td>\n",
       "      <td>91.35</td>\n",
       "      <td>43.52</td>\n",
       "      <td>0.0</td>\n",
       "      <td>0.0</td>\n",
       "      <td>35.0</td>\n",
       "      <td>0</td>\n",
       "      <td>0.0</td>\n",
       "      <td>4</td>\n",
       "      <td>1.0</td>\n",
       "      <td>1.0</td>\n",
       "      <td>1.0</td>\n",
       "      <td>20.76</td>\n",
       "      <td>16.64</td>\n",
       "      <td>0.0</td>\n",
       "      <td>0.0897</td>\n",
       "      <td>2058010</td>\n",
       "      <td>15670</td>\n",
       "    </tr>\n",
       "    <tr>\n",
       "      <th>33710</th>\n",
       "      <td>299618</td>\n",
       "      <td>262102888</td>\n",
       "      <td>76.65</td>\n",
       "      <td>23.80</td>\n",
       "      <td>0.0</td>\n",
       "      <td>0.0</td>\n",
       "      <td>42.0</td>\n",
       "      <td>0</td>\n",
       "      <td>0.0</td>\n",
       "      <td>4</td>\n",
       "      <td>1.0</td>\n",
       "      <td>2.0</td>\n",
       "      <td>0.0</td>\n",
       "      <td>13.06</td>\n",
       "      <td>30.13</td>\n",
       "      <td>0.0</td>\n",
       "      <td>0.0166</td>\n",
       "      <td>2058010</td>\n",
       "      <td>15670</td>\n",
       "    </tr>\n",
       "    <tr>\n",
       "      <th>33711</th>\n",
       "      <td>20460</td>\n",
       "      <td>262102916</td>\n",
       "      <td>94.50</td>\n",
       "      <td>34.00</td>\n",
       "      <td>0.0</td>\n",
       "      <td>0.0</td>\n",
       "      <td>43.0</td>\n",
       "      <td>0</td>\n",
       "      <td>0.0</td>\n",
       "      <td>4</td>\n",
       "      <td>1.0</td>\n",
       "      <td>3.0</td>\n",
       "      <td>1.0</td>\n",
       "      <td>38.43</td>\n",
       "      <td>10.50</td>\n",
       "      <td>1.0</td>\n",
       "      <td>0.1074</td>\n",
       "      <td>2058010</td>\n",
       "      <td>15670</td>\n",
       "    </tr>\n",
       "    <tr>\n",
       "      <th>33712</th>\n",
       "      <td>3433</td>\n",
       "      <td>262102919</td>\n",
       "      <td>102.90</td>\n",
       "      <td>29.24</td>\n",
       "      <td>0.0</td>\n",
       "      <td>0.0</td>\n",
       "      <td>43.0</td>\n",
       "      <td>0</td>\n",
       "      <td>0.0</td>\n",
       "      <td>4</td>\n",
       "      <td>1.0</td>\n",
       "      <td>2.0</td>\n",
       "      <td>0.0</td>\n",
       "      <td>48.35</td>\n",
       "      <td>5.20</td>\n",
       "      <td>0.0</td>\n",
       "      <td>0.3910</td>\n",
       "      <td>2058010</td>\n",
       "      <td>15670</td>\n",
       "    </tr>\n",
       "    <tr>\n",
       "      <th>33714</th>\n",
       "      <td>361807</td>\n",
       "      <td>262103243</td>\n",
       "      <td>86.10</td>\n",
       "      <td>48.96</td>\n",
       "      <td>0.0</td>\n",
       "      <td>0.0</td>\n",
       "      <td>55.0</td>\n",
       "      <td>1</td>\n",
       "      <td>0.0</td>\n",
       "      <td>4</td>\n",
       "      <td>1.0</td>\n",
       "      <td>2.0</td>\n",
       "      <td>0.0</td>\n",
       "      <td>13.70</td>\n",
       "      <td>24.10</td>\n",
       "      <td>0.0</td>\n",
       "      <td>0.0295</td>\n",
       "      <td>2058010</td>\n",
       "      <td>15670</td>\n",
       "    </tr>\n",
       "    <tr>\n",
       "      <th>33715</th>\n",
       "      <td>20460</td>\n",
       "      <td>262103289</td>\n",
       "      <td>91.35</td>\n",
       "      <td>51.00</td>\n",
       "      <td>0.0</td>\n",
       "      <td>0.0</td>\n",
       "      <td>58.0</td>\n",
       "      <td>1</td>\n",
       "      <td>0.0</td>\n",
       "      <td>4</td>\n",
       "      <td>1.0</td>\n",
       "      <td>1.0</td>\n",
       "      <td>1.0</td>\n",
       "      <td>12.21</td>\n",
       "      <td>21.80</td>\n",
       "      <td>0.0</td>\n",
       "      <td>0.0400</td>\n",
       "      <td>2058010</td>\n",
       "      <td>15670</td>\n",
       "    </tr>\n",
       "    <tr>\n",
       "      <th>33717</th>\n",
       "      <td>70095</td>\n",
       "      <td>262103355</td>\n",
       "      <td>81.90</td>\n",
       "      <td>27.88</td>\n",
       "      <td>1.0</td>\n",
       "      <td>0.0</td>\n",
       "      <td>63.0</td>\n",
       "      <td>1</td>\n",
       "      <td>0.0</td>\n",
       "      <td>4</td>\n",
       "      <td>0.0</td>\n",
       "      <td>2.0</td>\n",
       "      <td>1.0</td>\n",
       "      <td>16.87</td>\n",
       "      <td>23.90</td>\n",
       "      <td>0.0</td>\n",
       "      <td>0.0408</td>\n",
       "      <td>2058010</td>\n",
       "      <td>15670</td>\n",
       "    </tr>\n",
       "    <tr>\n",
       "      <th>33718</th>\n",
       "      <td>70095</td>\n",
       "      <td>262103356</td>\n",
       "      <td>86.10</td>\n",
       "      <td>29.92</td>\n",
       "      <td>0.0</td>\n",
       "      <td>0.0</td>\n",
       "      <td>63.0</td>\n",
       "      <td>1</td>\n",
       "      <td>0.0</td>\n",
       "      <td>4</td>\n",
       "      <td>0.0</td>\n",
       "      <td>2.0</td>\n",
       "      <td>1.0</td>\n",
       "      <td>21.00</td>\n",
       "      <td>19.34</td>\n",
       "      <td>0.0</td>\n",
       "      <td>0.0724</td>\n",
       "      <td>2058010</td>\n",
       "      <td>15670</td>\n",
       "    </tr>\n",
       "  </tbody>\n",
       "</table>\n",
       "</div>"
      ],
      "text/plain": [
       "       playerId         id  x_coordinates  y_coordinates  blocked  goal  time  \\\n",
       "33707     20460  262102716          50.40          60.52      0.0   0.0  30.0   \n",
       "33708    116349  262102786          91.35          43.52      0.0   0.0  35.0   \n",
       "33710    299618  262102888          76.65          23.80      0.0   0.0  42.0   \n",
       "33711     20460  262102916          94.50          34.00      0.0   0.0  43.0   \n",
       "33712      3433  262102919         102.90          29.24      0.0   0.0  43.0   \n",
       "33714    361807  262103243          86.10          48.96      0.0   0.0  55.0   \n",
       "33715     20460  262103289          91.35          51.00      0.0   0.0  58.0   \n",
       "33717     70095  262103355          81.90          27.88      1.0   0.0  63.0   \n",
       "33718     70095  262103356          86.10          29.92      0.0   0.0  63.0   \n",
       "\n",
       "       matchPeriod  counter  competition  foot  bodypart  preferrence  angles  \\\n",
       "33707            0      0.0            4   1.0       1.0          1.0    6.21   \n",
       "33708            0      0.0            4   1.0       1.0          1.0   20.76   \n",
       "33710            0      0.0            4   1.0       2.0          0.0   13.06   \n",
       "33711            0      0.0            4   1.0       3.0          1.0   38.43   \n",
       "33712            0      0.0            4   1.0       2.0          0.0   48.35   \n",
       "33714            1      0.0            4   1.0       2.0          0.0   13.70   \n",
       "33715            1      0.0            4   1.0       1.0          1.0   12.21   \n",
       "33717            1      0.0            4   0.0       2.0          1.0   16.87   \n",
       "33718            1      0.0            4   0.0       2.0          1.0   21.00   \n",
       "\n",
       "       distance  headers      xG  matchId  teamId  \n",
       "33707     60.70      0.0  0.0005  2058010   15670  \n",
       "33708     16.64      0.0  0.0897  2058010   15670  \n",
       "33710     30.13      0.0  0.0166  2058010   15670  \n",
       "33711     10.50      1.0  0.1074  2058010   15670  \n",
       "33712      5.20      0.0  0.3910  2058010   15670  \n",
       "33714     24.10      0.0  0.0295  2058010   15670  \n",
       "33715     21.80      0.0  0.0400  2058010   15670  \n",
       "33717     23.90      0.0  0.0408  2058010   15670  \n",
       "33718     19.34      0.0  0.0724  2058010   15670  "
      ]
     },
     "execution_count": 32,
     "metadata": {},
     "output_type": "execute_result"
    }
   ],
   "source": [
    "uruguay_shots"
   ]
  },
  {
   "cell_type": "code",
   "execution_count": 33,
   "metadata": {},
   "outputs": [],
   "source": [
    "france_cumxG=[]\n",
    "temp = 0\n",
    "for i in range(france_shots.shape[0]):\n",
    "    temp= temp + france_shots.iloc[i]['xG']\n",
    "    france_cumxG=np.append(france_cumxG, temp)"
   ]
  },
  {
   "cell_type": "code",
   "execution_count": 34,
   "metadata": {},
   "outputs": [],
   "source": [
    "france_cumxG=np.insert(france_cumxG, 0 , 0)\n",
    "france_cumxG=np.append(france_cumxG,france_cumxG[len(france_cumxG)-1])"
   ]
  },
  {
   "cell_type": "code",
   "execution_count": null,
   "metadata": {},
   "outputs": [],
   "source": []
  },
  {
   "cell_type": "code",
   "execution_count": 35,
   "metadata": {},
   "outputs": [],
   "source": [
    "france_time = france_shots.time\n",
    "france_time=np.array(france_time)\n",
    "france_time=np.insert(france_time,0,0)\n",
    "france_time = np.append(france_time,90)\n",
    "\n"
   ]
  },
  {
   "cell_type": "code",
   "execution_count": 36,
   "metadata": {},
   "outputs": [],
   "source": [
    "uruguay_cumxG=[]\n",
    "temp = 0\n",
    "for i in range(uruguay_shots.shape[0]):\n",
    "    temp= temp + uruguay_shots.iloc[i]['xG']\n",
    "    uruguay_cumxG=np.append(uruguay_cumxG, temp)\n",
    "uruguay_cumxG=np.insert(uruguay_cumxG, 0 , 0)\n",
    "uruguay_cumxG=np.append(uruguay_cumxG,uruguay_cumxG[len(uruguay_cumxG)-1])"
   ]
  },
  {
   "cell_type": "code",
   "execution_count": 37,
   "metadata": {},
   "outputs": [],
   "source": [
    "uruguay_time = uruguay_shots.time\n",
    "uruguay_time=np.array(uruguay_time)\n",
    "uruguay_time=np.insert(uruguay_time,0,0)\n",
    "uruguay_time = np.append(uruguay_time,90)\n"
   ]
  },
  {
   "cell_type": "code",
   "execution_count": null,
   "metadata": {},
   "outputs": [],
   "source": []
  },
  {
   "cell_type": "code",
   "execution_count": 38,
   "metadata": {},
   "outputs": [
    {
     "data": {
      "text/plain": [
       "<matplotlib.legend.Legend at 0x197602a98c8>"
      ]
     },
     "execution_count": 38,
     "metadata": {},
     "output_type": "execute_result"
    },
    {
     "data": {
      "image/png": "[encoded data removed]",
      "text/plain": [
       "<Figure size 432x288 with 1 Axes>"
      ]
     },
     "metadata": {},
     "output_type": "display_data"
    }
   ],
   "source": [
    "sns.set(style='whitegrid')\n",
    "plt.plot(uruguay_time,uruguay_cumxG, drawstyle='steps-post', color='r', linewidth=3, label='Uruguay', marker='o')\n",
    "plt.plot(france_time,france_cumxG, drawstyle='steps-post', color='b',linewidth=3, label='France', marker='o')\n",
    "plt.xlim(0,90)\n",
    "plt.ylim(0,1)\n",
    "plt.ylabel('Expected Goals')\n",
    "plt.xlabel('Time')\n",
    "plt.title('France vs Uruguay (2-0)')\n",
    "plt.legend(loc='upper left')"
   ]
  },
  {
   "cell_type": "code",
   "execution_count": 39,
   "metadata": {},
   "outputs": [],
   "source": [
    "def getrollingxGdata(shots_data):\n",
    "    cum_xG=[]\n",
    "    temp = 0\n",
    "    for i in range(shots_data.shape[0]):\n",
    "        temp= temp + shots_data.iloc[i]['xG']\n",
    "        cum_xG=np.append(cum_xG, temp)\n",
    "    cum_xG=np.insert(cum_xG, 0 , 0)\n",
    "    cum_xG=np.append(cum_xG,cum_xG[len(cum_xG)-1])\n",
    "    time = shots_data.time\n",
    "    time=np.array(time)\n",
    "    time=np.insert(time,0,0)\n",
    "    time = np.append(time,90)\n",
    "    return cum_xG, time"
   ]
  },
  {
   "cell_type": "code",
   "execution_count": null,
   "metadata": {},
   "outputs": [],
   "source": []
  },
  {
   "cell_type": "code",
   "execution_count": 43,
   "metadata": {},
   "outputs": [],
   "source": [
    "worldcup_shots=pd.read_csv('worldcup_shots.csv')"
   ]
  },
  {
   "cell_type": "code",
   "execution_count": 44,
   "metadata": {},
   "outputs": [],
   "source": [
    "worldcup_final=worldcup_shots.loc[worldcup_shots['matchId']==2058017]"
   ]
  },
  {
   "cell_type": "code",
   "execution_count": 45,
   "metadata": {},
   "outputs": [],
   "source": [
    "worldcup_final_france = worldcup_final.loc[worldcup_final['teamId']==4418]\n",
    "worldcup_final_croatia = worldcup_final.loc[worldcup_final['teamId']==9598]"
   ]
  },
  {
   "cell_type": "code",
   "execution_count": 46,
   "metadata": {},
   "outputs": [],
   "source": [
    "worldcup_final_croatia['x_coordinates'] = 105-worldcup_final_croatia['x_coordinates']"
   ]
  },
  {
   "cell_type": "code",
   "execution_count": 47,
   "metadata": {},
   "outputs": [],
   "source": [
    "france_final_xG, france_final_time = getrollingxGdata(worldcup_final_france)"
   ]
  },
  {
   "cell_type": "code",
   "execution_count": 48,
   "metadata": {},
   "outputs": [],
   "source": [
    "croatia_final_xG, croatia_final_time = getrollingxGdata(worldcup_final_croatia)"
   ]
  },
  {
   "cell_type": "code",
   "execution_count": 49,
   "metadata": {},
   "outputs": [
    {
     "data": {
      "text/plain": [
       "<matplotlib.legend.Legend at 0x19760307b48>"
      ]
     },
     "execution_count": 49,
     "metadata": {},
     "output_type": "execute_result"
    },
    {
     "data": {
      "image/png": "[encoded data removed]",
      "text/plain": [
       "<Figure size 432x288 with 1 Axes>"
      ]
     },
     "metadata": {},
     "output_type": "display_data"
    }
   ],
   "source": [
    "sns.set(style='whitegrid')\n",
    "plt.plot(france_final_time,france_final_xG, drawstyle='steps-post', color='r', linewidth=3, label='France', marker='o')\n",
    "plt.plot(croatia_final_time,croatia_final_xG, drawstyle='steps-post', color='b',linewidth=3, label='Croatia', marker='o')\n",
    "plt.xlim(0,90)\n",
    "plt.ylim(0,1.75)\n",
    "plt.ylabel('Open Play Expected Goals')\n",
    "plt.xlabel('Time')\n",
    "plt.title('France vs Croatia (4-2)')\n",
    "plt.legend(loc='upper left')"
   ]
  },
  {
   "cell_type": "code",
   "execution_count": null,
   "metadata": {},
   "outputs": [],
   "source": []
  }
 ],
 "metadata": {
  "kernelspec": {
   "display_name": "Python 3",
   "language": "python",
   "name": "python3"
  },
  "language_info": {
   "codemirror_mode": {
    "name": "ipython",
    "version": 3
   },
   "file_extension": ".py",
   "mimetype": "text/x-python",
   "name": "python",
   "nbconvert_exporter": "python",
   "pygments_lexer": "ipython3",
   "version": "3.7.7"
  }
 },
 "nbformat": 4,
 "nbformat_minor": 4
}
