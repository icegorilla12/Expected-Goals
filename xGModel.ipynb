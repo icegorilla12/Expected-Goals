{
 "cells": [
  {
   "cell_type": "raw",
   "metadata": {},
   "source": [
    "model_1 = Logistic Regression\n",
    "model_2 = Random Forests\n",
    "model_3 = AdaBOOST"
   ]
  },
  {
   "cell_type": "code",
   "execution_count": 1,
   "metadata": {},
   "outputs": [],
   "source": [
    "import numpy as np\n",
    "import pandas as pd\n",
    "from sklearn.metrics import classification_report, confusion_matrix\n",
    "import matplotlib.pyplot as plt\n",
    "import seaborn as sns\n",
    "import sklearn.metrics as metrics\n",
    "from sklearn.metrics import roc_curve\n",
    "from sklearn.metrics import roc_auc_score\n",
    "from sklearn.metrics import accuracy_score\n",
    "from sklearn.metrics import f1_score\n",
    "from sklearn.metrics import precision_recall_curve\n",
    "from sklearn.metrics import plot_precision_recall_curve\n",
    "from sklearn.metrics import log_loss\n",
    "from sklearn.calibration import calibration_curve\n"
   ]
  },
  {
   "cell_type": "code",
   "execution_count": 45,
   "metadata": {},
   "outputs": [],
   "source": [
    "def plot_ROC_curve(fpr, tpr):\n",
    "    plt.plot(fpr, tpr, color='orange', label='ROC')\n",
    "    plt.plot([0, 1], [0, 1], color='darkblue', linestyle='--')\n",
    "    plt.xlabel('False Positive Rate')\n",
    "    plt.ylabel('True Positive Rate')\n",
    "    plt.title('Receiver Operating Characteristic (ROC) Curve')\n",
    "    plt.legend()\n",
    "    plt.show()\n",
    "def plot_PR_curve(recall, precision):\n",
    "    plt.plot(recall, precision, color='blue', label='PR')\n",
    "    plt.xlabel('Recall')\n",
    "    plt.ylabel('Precision')\n",
    "    plt.title('Precision-Recall Curve')\n",
    "    plt.legend()\n",
    "    plt.show()"
   ]
  },
  {
   "cell_type": "code",
   "execution_count": 287,
   "metadata": {},
   "outputs": [],
   "source": [
    "def plot_pr_curve(y,ytest_prob):\n",
    "    precision, recall, thresholds = metrics.precision_recall_curve(y, ytest_prob)\n",
    "    plot_PR_curve(recall,precision)\n",
    "    f1score = 2*precision*recall/(precision+recall)\n",
    "    index = np.argmax(f1score)\n",
    "    optimal_threshold= thresholds[index]\n",
    "    print('The optimal threshold is', optimal_threshold)\n",
    "    print('The optimal f1score is', f1score[index])\n",
    "    return optimal_threshold,f1score[index],recall[index],precision[index]\n",
    "def plot_roc_curve(y,ytest_prob):\n",
    "    fpr, tpr, thresholds = metrics.roc_curve(y, ytest_prob)\n",
    "    plot_ROC_curve(fpr,tpr)\n",
    "    auc = roc_auc_score(y,ytest_prob)\n",
    "    gmean = np.sqrt(tpr * (1 - fpr))\n",
    "    index = np.argmax(gmean)\n",
    "    optimal_threshold= thresholds[index]\n",
    "    print('Area under the curve is', auc)\n",
    "    print('The optimal threshold is', optimal_threshold)\n",
    "    \n",
    "def optimal_confusion_matrix(y,ytest_prob,optimal_threshold):\n",
    "    ytemp=(ytest_prob > optimal_threshold).astype(int)\n",
    "    mat= confusion_matrix(y,ytemp) \n",
    "    sns.heatmap(mat, square=True, annot=True, fmt='d', cbar=False)\n",
    "    accuracy=accuracy_score(y,ytemp)\n",
    "    print('The optimal accuracy is ' ,accuracy)\n",
    "sns.set_context('poster')"
   ]
  },
  {
   "cell_type": "code",
   "execution_count": 2,
   "metadata": {},
   "outputs": [],
   "source": [
    "allshots=pd.read_csv('allShots.csv')"
   ]
  },
  {
   "cell_type": "code",
   "execution_count": 16,
   "metadata": {},
   "outputs": [],
   "source": [
    "model_input = allshots[['x_coordinates','y_coordinates','angles','counter','preferrence','distance','headers']]\n",
    "model_output = np.ravel(allshots[['goal']])"
   ]
  },
  {
   "cell_type": "code",
   "execution_count": 15,
   "metadata": {},
   "outputs": [],
   "source": [
    "from sklearn.model_selection import train_test_split\n",
    "X1, X2, y1, y2 = train_test_split(model_input, model_output, random_state=0,\n",
    "train_size=0.8)"
   ]
  },
  {
   "cell_type": "raw",
   "metadata": {},
   "source": [
    "LOGISTIC REGRESSION"
   ]
  },
  {
   "cell_type": "code",
   "execution_count": 5,
   "metadata": {},
   "outputs": [],
   "source": [
    "from sklearn.model_selection import GridSearchCV\n",
    "from sklearn.linear_model import LogisticRegression\n",
    "from sklearn.pipeline import make_pipeline\n",
    "pipe_1=make_pipeline(LogisticRegression())"
   ]
  },
  {
   "cell_type": "code",
   "execution_count": 51,
   "metadata": {},
   "outputs": [],
   "source": [
    "grid_values = [{'logisticregression__C': [0.001,0.01,0.1,1,3,5,7,10,100]}]"
   ]
  },
  {
   "cell_type": "code",
   "execution_count": 52,
   "metadata": {},
   "outputs": [],
   "source": [
    "grid_1 = GridSearchCV(pipe, param_grid = grid_values,scoring = 'f1',verbose=3, cv=5)"
   ]
  },
  {
   "cell_type": "code",
   "execution_count": 53,
   "metadata": {
    "scrolled": true
   },
   "outputs": [
    {
     "name": "stdout",
     "output_type": "stream",
     "text": [
      "Fitting 5 folds for each of 9 candidates, totalling 45 fits\n",
      "[CV] logisticregression__C=0.001 .....................................\n"
     ]
    },
    {
     "name": "stderr",
     "output_type": "stream",
     "text": [
      "[Parallel(n_jobs=1)]: Using backend SequentialBackend with 1 concurrent workers.\n"
     ]
    },
    {
     "name": "stdout",
     "output_type": "stream",
     "text": [
      "[CV] ......... logisticregression__C=0.001, score=0.139, total=   0.5s\n",
      "[CV] logisticregression__C=0.001 .....................................\n"
     ]
    },
    {
     "name": "stderr",
     "output_type": "stream",
     "text": [
      "[Parallel(n_jobs=1)]: Done   1 out of   1 | elapsed:    0.4s remaining:    0.0s\n"
     ]
    },
    {
     "name": "stdout",
     "output_type": "stream",
     "text": [
      "[CV] ......... logisticregression__C=0.001, score=0.127, total=   0.4s\n",
      "[CV] logisticregression__C=0.001 .....................................\n"
     ]
    },
    {
     "name": "stderr",
     "output_type": "stream",
     "text": [
      "[Parallel(n_jobs=1)]: Done   2 out of   2 | elapsed:    0.7s remaining:    0.0s\n"
     ]
    },
    {
     "name": "stdout",
     "output_type": "stream",
     "text": [
      "[CV] ......... logisticregression__C=0.001, score=0.138, total=   0.4s\n",
      "[CV] logisticregression__C=0.001 .....................................\n",
      "[CV] ......... logisticregression__C=0.001, score=0.137, total=   0.3s\n",
      "[CV] logisticregression__C=0.001 .....................................\n",
      "[CV] ......... logisticregression__C=0.001, score=0.129, total=   0.4s\n",
      "[CV] logisticregression__C=0.01 ......................................\n",
      "[CV] .......... logisticregression__C=0.01, score=0.147, total=   0.6s\n",
      "[CV] logisticregression__C=0.01 ......................................\n",
      "[CV] .......... logisticregression__C=0.01, score=0.163, total=   0.5s\n",
      "[CV] logisticregression__C=0.01 ......................................\n",
      "[CV] .......... logisticregression__C=0.01, score=0.177, total=   0.6s\n",
      "[CV] logisticregression__C=0.01 ......................................\n",
      "[CV] .......... logisticregression__C=0.01, score=0.172, total=   0.6s\n",
      "[CV] logisticregression__C=0.01 ......................................\n",
      "[CV] .......... logisticregression__C=0.01, score=0.180, total=   0.7s\n",
      "[CV] logisticregression__C=0.1 .......................................\n",
      "[CV] ........... logisticregression__C=0.1, score=0.154, total=   0.8s\n",
      "[CV] logisticregression__C=0.1 .......................................\n",
      "[CV] ........... logisticregression__C=0.1, score=0.182, total=   0.6s\n",
      "[CV] logisticregression__C=0.1 .......................................\n",
      "[CV] ........... logisticregression__C=0.1, score=0.200, total=   0.6s\n",
      "[CV] logisticregression__C=0.1 .......................................\n",
      "[CV] ........... logisticregression__C=0.1, score=0.185, total=   0.6s\n",
      "[CV] logisticregression__C=0.1 .......................................\n",
      "[CV] ........... logisticregression__C=0.1, score=0.183, total=   0.5s\n",
      "[CV] logisticregression__C=1 .........................................\n",
      "[CV] ............. logisticregression__C=1, score=0.156, total=   0.6s\n",
      "[CV] logisticregression__C=1 .........................................\n",
      "[CV] ............. logisticregression__C=1, score=0.182, total=   0.6s\n",
      "[CV] logisticregression__C=1 .........................................\n",
      "[CV] ............. logisticregression__C=1, score=0.200, total=   0.6s\n",
      "[CV] logisticregression__C=1 .........................................\n",
      "[CV] ............. logisticregression__C=1, score=0.185, total=   0.8s\n",
      "[CV] logisticregression__C=1 .........................................\n",
      "[CV] ............. logisticregression__C=1, score=0.183, total=   0.6s\n",
      "[CV] logisticregression__C=3 .........................................\n",
      "[CV] ............. logisticregression__C=3, score=0.156, total=   0.5s\n",
      "[CV] logisticregression__C=3 .........................................\n",
      "[CV] ............. logisticregression__C=3, score=0.182, total=   0.6s\n",
      "[CV] logisticregression__C=3 .........................................\n",
      "[CV] ............. logisticregression__C=3, score=0.200, total=   0.6s\n",
      "[CV] logisticregression__C=3 .........................................\n",
      "[CV] ............. logisticregression__C=3, score=0.185, total=   0.5s\n",
      "[CV] logisticregression__C=3 .........................................\n",
      "[CV] ............. logisticregression__C=3, score=0.183, total=   0.5s\n",
      "[CV] logisticregression__C=5 .........................................\n",
      "[CV] ............. logisticregression__C=5, score=0.156, total=   0.6s\n",
      "[CV] logisticregression__C=5 .........................................\n",
      "[CV] ............. logisticregression__C=5, score=0.182, total=   0.5s\n",
      "[CV] logisticregression__C=5 .........................................\n",
      "[CV] ............. logisticregression__C=5, score=0.200, total=   0.6s\n",
      "[CV] logisticregression__C=5 .........................................\n",
      "[CV] ............. logisticregression__C=5, score=0.185, total=   0.5s\n",
      "[CV] logisticregression__C=5 .........................................\n",
      "[CV] ............. logisticregression__C=5, score=0.183, total=   0.5s\n",
      "[CV] logisticregression__C=7 .........................................\n",
      "[CV] ............. logisticregression__C=7, score=0.156, total=   0.5s\n",
      "[CV] logisticregression__C=7 .........................................\n",
      "[CV] ............. logisticregression__C=7, score=0.182, total=   0.6s\n",
      "[CV] logisticregression__C=7 .........................................\n",
      "[CV] ............. logisticregression__C=7, score=0.200, total=   0.5s\n",
      "[CV] logisticregression__C=7 .........................................\n",
      "[CV] ............. logisticregression__C=7, score=0.185, total=   0.6s\n",
      "[CV] logisticregression__C=7 .........................................\n",
      "[CV] ............. logisticregression__C=7, score=0.183, total=   0.5s\n",
      "[CV] logisticregression__C=10 ........................................\n",
      "[CV] ............ logisticregression__C=10, score=0.156, total=   0.6s\n",
      "[CV] logisticregression__C=10 ........................................\n",
      "[CV] ............ logisticregression__C=10, score=0.182, total=   0.5s\n",
      "[CV] logisticregression__C=10 ........................................\n",
      "[CV] ............ logisticregression__C=10, score=0.200, total=   0.7s\n",
      "[CV] logisticregression__C=10 ........................................\n",
      "[CV] ............ logisticregression__C=10, score=0.185, total=   0.5s\n",
      "[CV] logisticregression__C=10 ........................................\n",
      "[CV] ............ logisticregression__C=10, score=0.183, total=   0.5s\n",
      "[CV] logisticregression__C=100 .......................................\n",
      "[CV] ........... logisticregression__C=100, score=0.156, total=   0.5s\n",
      "[CV] logisticregression__C=100 .......................................\n",
      "[CV] ........... logisticregression__C=100, score=0.182, total=   0.5s\n",
      "[CV] logisticregression__C=100 .......................................\n",
      "[CV] ........... logisticregression__C=100, score=0.200, total=   0.5s\n",
      "[CV] logisticregression__C=100 .......................................\n",
      "[CV] ........... logisticregression__C=100, score=0.185, total=   0.6s\n",
      "[CV] logisticregression__C=100 .......................................\n",
      "[CV] ........... logisticregression__C=100, score=0.183, total=   0.5s\n"
     ]
    },
    {
     "name": "stderr",
     "output_type": "stream",
     "text": [
      "[Parallel(n_jobs=1)]: Done  45 out of  45 | elapsed:   24.6s finished\n"
     ]
    },
    {
     "data": {
      "text/plain": [
       "GridSearchCV(cv=5,\n",
       "             estimator=Pipeline(steps=[('logisticregression',\n",
       "                                        LogisticRegression())]),\n",
       "             param_grid=[{'logisticregression__C': [0.001, 0.01, 0.1, 1, 3, 5,\n",
       "                                                    7, 10, 100]}],\n",
       "             scoring='f1', verbose=3)"
      ]
     },
     "execution_count": 53,
     "metadata": {},
     "output_type": "execute_result"
    }
   ],
   "source": [
    "grid_1.fit(X1,y1)"
   ]
  },
  {
   "cell_type": "code",
   "execution_count": 54,
   "metadata": {},
   "outputs": [
    {
     "data": {
      "text/plain": [
       "0.181408159787053"
      ]
     },
     "execution_count": 54,
     "metadata": {},
     "output_type": "execute_result"
    }
   ],
   "source": [
    "grid_1.best_score_"
   ]
  },
  {
   "cell_type": "code",
   "execution_count": 55,
   "metadata": {},
   "outputs": [
    {
     "data": {
      "text/plain": [
       "{'logisticregression__C': 1}"
      ]
     },
     "execution_count": 55,
     "metadata": {},
     "output_type": "execute_result"
    }
   ],
   "source": [
    "grid_1.best_params_"
   ]
  },
  {
   "cell_type": "code",
   "execution_count": 56,
   "metadata": {},
   "outputs": [],
   "source": [
    "ytest_labels1=grid_1.predict(X2)\n",
    "ytest_prob1=grid_1.predict_proba(X2)[:,1]"
   ]
  },
  {
   "cell_type": "code",
   "execution_count": 143,
   "metadata": {},
   "outputs": [
    {
     "data": {
      "image/png": "[encoded data removed]",
      "text/plain": [
       "<Figure size 432x288 with 1 Axes>"
      ]
     },
     "metadata": {
      "needs_background": "light"
     },
     "output_type": "display_data"
    },
    {
     "name": "stdout",
     "output_type": "stream",
     "text": [
      "The optimal threshold is 0.1590612706784886\n",
      "The optimal f1score is 0.3904448105436573\n"
     ]
    }
   ],
   "source": [
    "threshold1,f1score1,recall1,precision1=plot_pr_curve(y2,ytest_prob1)\n",
    "threshold1=np.around(threshold1,4)\n",
    "f1score1=np.around(f1score1,4)\n",
    "recall1=np.around(recall1,4)\n",
    "precision1=np.around(precision1,4)"
   ]
  },
  {
   "cell_type": "code",
   "execution_count": 58,
   "metadata": {},
   "outputs": [
    {
     "data": {
      "image/png": "[encoded data removed]",
      "text/plain": [
       "<Figure size 432x288 with 1 Axes>"
      ]
     },
     "metadata": {
      "needs_background": "light"
     },
     "output_type": "display_data"
    },
    {
     "name": "stdout",
     "output_type": "stream",
     "text": [
      "Area under the curve is 0.7981069349988964\n",
      "The optimal threshold is 0.10678553444231897\n"
     ]
    }
   ],
   "source": [
    "plot_roc_curve(y2,ytest_prob1)"
   ]
  },
  {
   "cell_type": "code",
   "execution_count": 154,
   "metadata": {},
   "outputs": [],
   "source": [
    "log_loss1=log_loss(y2, ytest_prob1, eps=1e-15)\n",
    "log_loss1=np.around(log_loss1,4)"
   ]
  },
  {
   "cell_type": "code",
   "execution_count": 63,
   "metadata": {},
   "outputs": [
    {
     "data": {
      "text/plain": [
       "[<matplotlib.lines.Line2D at 0x196be86d088>]"
      ]
     },
     "execution_count": 63,
     "metadata": {},
     "output_type": "execute_result"
    },
    {
     "data": {
      "image/png": "[encoded data removed]",
      "text/plain": [
       "<Figure size 432x288 with 1 Axes>"
      ]
     },
     "metadata": {
      "needs_background": "light"
     },
     "output_type": "display_data"
    }
   ],
   "source": [
    "fraction_of_positives1, mean_predicted_values1 = calibration_curve(y2, ytest_prob1, n_bins=10)\n",
    "plt.plot(mean_predicted_values1, fraction_of_positives1, 's-')\n",
    "plt.plot([0, 1], [0, 1], '--', color='gray')"
   ]
  },
  {
   "cell_type": "raw",
   "metadata": {},
   "source": [
    "RANDOM FOREST"
   ]
  },
  {
   "cell_type": "code",
   "execution_count": 64,
   "metadata": {},
   "outputs": [],
   "source": [
    "from sklearn.ensemble import RandomForestClassifier"
   ]
  },
  {
   "cell_type": "code",
   "execution_count": 65,
   "metadata": {},
   "outputs": [],
   "source": [
    "pipe_2 = make_pipeline(RandomForestClassifier())\n",
    "grid_values_2 = [{'randomforestclassifier__n_estimators': [100,200,300], 'randomforestclassifier__max_depth':[4,6,8,10]}]\n",
    "grid_2 = GridSearchCV(pipe_2, param_grid = grid_values_2,scoring = 'f1',verbose=3, cv=5)"
   ]
  },
  {
   "cell_type": "code",
   "execution_count": 66,
   "metadata": {
    "scrolled": true
   },
   "outputs": [
    {
     "name": "stdout",
     "output_type": "stream",
     "text": [
      "Fitting 5 folds for each of 12 candidates, totalling 60 fits\n",
      "[CV] randomforestclassifier__max_depth=4, randomforestclassifier__n_estimators=100 \n"
     ]
    },
    {
     "name": "stderr",
     "output_type": "stream",
     "text": [
      "[Parallel(n_jobs=1)]: Using backend SequentialBackend with 1 concurrent workers.\n"
     ]
    },
    {
     "name": "stdout",
     "output_type": "stream",
     "text": [
      "[CV]  randomforestclassifier__max_depth=4, randomforestclassifier__n_estimators=100, score=0.168, total=   0.8s\n",
      "[CV] randomforestclassifier__max_depth=4, randomforestclassifier__n_estimators=100 \n"
     ]
    },
    {
     "name": "stderr",
     "output_type": "stream",
     "text": [
      "[Parallel(n_jobs=1)]: Done   1 out of   1 | elapsed:    0.7s remaining:    0.0s\n"
     ]
    },
    {
     "name": "stdout",
     "output_type": "stream",
     "text": [
      "[CV]  randomforestclassifier__max_depth=4, randomforestclassifier__n_estimators=100, score=0.150, total=   0.8s\n",
      "[CV] randomforestclassifier__max_depth=4, randomforestclassifier__n_estimators=100 \n"
     ]
    },
    {
     "name": "stderr",
     "output_type": "stream",
     "text": [
      "[Parallel(n_jobs=1)]: Done   2 out of   2 | elapsed:    1.5s remaining:    0.0s\n"
     ]
    },
    {
     "name": "stdout",
     "output_type": "stream",
     "text": [
      "[CV]  randomforestclassifier__max_depth=4, randomforestclassifier__n_estimators=100, score=0.161, total=   0.8s\n",
      "[CV] randomforestclassifier__max_depth=4, randomforestclassifier__n_estimators=100 \n",
      "[CV]  randomforestclassifier__max_depth=4, randomforestclassifier__n_estimators=100, score=0.166, total=   0.8s\n",
      "[CV] randomforestclassifier__max_depth=4, randomforestclassifier__n_estimators=100 \n",
      "[CV]  randomforestclassifier__max_depth=4, randomforestclassifier__n_estimators=100, score=0.157, total=   0.8s\n",
      "[CV] randomforestclassifier__max_depth=4, randomforestclassifier__n_estimators=200 \n",
      "[CV]  randomforestclassifier__max_depth=4, randomforestclassifier__n_estimators=200, score=0.158, total=   1.6s\n",
      "[CV] randomforestclassifier__max_depth=4, randomforestclassifier__n_estimators=200 \n",
      "[CV]  randomforestclassifier__max_depth=4, randomforestclassifier__n_estimators=200, score=0.141, total=   1.7s\n",
      "[CV] randomforestclassifier__max_depth=4, randomforestclassifier__n_estimators=200 \n",
      "[CV]  randomforestclassifier__max_depth=4, randomforestclassifier__n_estimators=200, score=0.168, total=   1.6s\n",
      "[CV] randomforestclassifier__max_depth=4, randomforestclassifier__n_estimators=200 \n",
      "[CV]  randomforestclassifier__max_depth=4, randomforestclassifier__n_estimators=200, score=0.169, total=   1.5s\n",
      "[CV] randomforestclassifier__max_depth=4, randomforestclassifier__n_estimators=200 \n",
      "[CV]  randomforestclassifier__max_depth=4, randomforestclassifier__n_estimators=200, score=0.136, total=   1.5s\n",
      "[CV] randomforestclassifier__max_depth=4, randomforestclassifier__n_estimators=300 \n",
      "[CV]  randomforestclassifier__max_depth=4, randomforestclassifier__n_estimators=300, score=0.158, total=   2.2s\n",
      "[CV] randomforestclassifier__max_depth=4, randomforestclassifier__n_estimators=300 \n",
      "[CV]  randomforestclassifier__max_depth=4, randomforestclassifier__n_estimators=300, score=0.145, total=   2.3s\n",
      "[CV] randomforestclassifier__max_depth=4, randomforestclassifier__n_estimators=300 \n",
      "[CV]  randomforestclassifier__max_depth=4, randomforestclassifier__n_estimators=300, score=0.166, total=   2.2s\n",
      "[CV] randomforestclassifier__max_depth=4, randomforestclassifier__n_estimators=300 \n",
      "[CV]  randomforestclassifier__max_depth=4, randomforestclassifier__n_estimators=300, score=0.171, total=   2.3s\n",
      "[CV] randomforestclassifier__max_depth=4, randomforestclassifier__n_estimators=300 \n",
      "[CV]  randomforestclassifier__max_depth=4, randomforestclassifier__n_estimators=300, score=0.141, total=   2.3s\n",
      "[CV] randomforestclassifier__max_depth=6, randomforestclassifier__n_estimators=100 \n",
      "[CV]  randomforestclassifier__max_depth=6, randomforestclassifier__n_estimators=100, score=0.164, total=   0.9s\n",
      "[CV] randomforestclassifier__max_depth=6, randomforestclassifier__n_estimators=100 \n",
      "[CV]  randomforestclassifier__max_depth=6, randomforestclassifier__n_estimators=100, score=0.165, total=   0.9s\n",
      "[CV] randomforestclassifier__max_depth=6, randomforestclassifier__n_estimators=100 \n",
      "[CV]  randomforestclassifier__max_depth=6, randomforestclassifier__n_estimators=100, score=0.184, total=   0.9s\n",
      "[CV] randomforestclassifier__max_depth=6, randomforestclassifier__n_estimators=100 \n",
      "[CV]  randomforestclassifier__max_depth=6, randomforestclassifier__n_estimators=100, score=0.185, total=   0.9s\n",
      "[CV] randomforestclassifier__max_depth=6, randomforestclassifier__n_estimators=100 \n",
      "[CV]  randomforestclassifier__max_depth=6, randomforestclassifier__n_estimators=100, score=0.188, total=   0.9s\n",
      "[CV] randomforestclassifier__max_depth=6, randomforestclassifier__n_estimators=200 \n",
      "[CV]  randomforestclassifier__max_depth=6, randomforestclassifier__n_estimators=200, score=0.163, total=   1.9s\n",
      "[CV] randomforestclassifier__max_depth=6, randomforestclassifier__n_estimators=200 \n",
      "[CV]  randomforestclassifier__max_depth=6, randomforestclassifier__n_estimators=200, score=0.169, total=   1.9s\n",
      "[CV] randomforestclassifier__max_depth=6, randomforestclassifier__n_estimators=200 \n",
      "[CV]  randomforestclassifier__max_depth=6, randomforestclassifier__n_estimators=200, score=0.185, total=   1.8s\n",
      "[CV] randomforestclassifier__max_depth=6, randomforestclassifier__n_estimators=200 \n",
      "[CV]  randomforestclassifier__max_depth=6, randomforestclassifier__n_estimators=200, score=0.187, total=   1.9s\n",
      "[CV] randomforestclassifier__max_depth=6, randomforestclassifier__n_estimators=200 \n",
      "[CV]  randomforestclassifier__max_depth=6, randomforestclassifier__n_estimators=200, score=0.191, total=   1.9s\n",
      "[CV] randomforestclassifier__max_depth=6, randomforestclassifier__n_estimators=300 \n",
      "[CV]  randomforestclassifier__max_depth=6, randomforestclassifier__n_estimators=300, score=0.164, total=   2.8s\n",
      "[CV] randomforestclassifier__max_depth=6, randomforestclassifier__n_estimators=300 \n",
      "[CV]  randomforestclassifier__max_depth=6, randomforestclassifier__n_estimators=300, score=0.173, total=   2.8s\n",
      "[CV] randomforestclassifier__max_depth=6, randomforestclassifier__n_estimators=300 \n",
      "[CV]  randomforestclassifier__max_depth=6, randomforestclassifier__n_estimators=300, score=0.193, total=   2.9s\n",
      "[CV] randomforestclassifier__max_depth=6, randomforestclassifier__n_estimators=300 \n",
      "[CV]  randomforestclassifier__max_depth=6, randomforestclassifier__n_estimators=300, score=0.187, total=   2.8s\n",
      "[CV] randomforestclassifier__max_depth=6, randomforestclassifier__n_estimators=300 \n",
      "[CV]  randomforestclassifier__max_depth=6, randomforestclassifier__n_estimators=300, score=0.188, total=   2.8s\n",
      "[CV] randomforestclassifier__max_depth=8, randomforestclassifier__n_estimators=100 \n",
      "[CV]  randomforestclassifier__max_depth=8, randomforestclassifier__n_estimators=100, score=0.169, total=   1.2s\n",
      "[CV] randomforestclassifier__max_depth=8, randomforestclassifier__n_estimators=100 \n",
      "[CV]  randomforestclassifier__max_depth=8, randomforestclassifier__n_estimators=100, score=0.173, total=   1.2s\n",
      "[CV] randomforestclassifier__max_depth=8, randomforestclassifier__n_estimators=100 \n",
      "[CV]  randomforestclassifier__max_depth=8, randomforestclassifier__n_estimators=100, score=0.202, total=   1.1s\n",
      "[CV] randomforestclassifier__max_depth=8, randomforestclassifier__n_estimators=100 \n",
      "[CV]  randomforestclassifier__max_depth=8, randomforestclassifier__n_estimators=100, score=0.183, total=   1.1s\n",
      "[CV] randomforestclassifier__max_depth=8, randomforestclassifier__n_estimators=100 \n",
      "[CV]  randomforestclassifier__max_depth=8, randomforestclassifier__n_estimators=100, score=0.186, total=   1.1s\n",
      "[CV] randomforestclassifier__max_depth=8, randomforestclassifier__n_estimators=200 \n",
      "[CV]  randomforestclassifier__max_depth=8, randomforestclassifier__n_estimators=200, score=0.167, total=   2.2s\n",
      "[CV] randomforestclassifier__max_depth=8, randomforestclassifier__n_estimators=200 \n",
      "[CV]  randomforestclassifier__max_depth=8, randomforestclassifier__n_estimators=200, score=0.170, total=   2.2s\n",
      "[CV] randomforestclassifier__max_depth=8, randomforestclassifier__n_estimators=200 \n",
      "[CV]  randomforestclassifier__max_depth=8, randomforestclassifier__n_estimators=200, score=0.194, total=   2.3s\n",
      "[CV] randomforestclassifier__max_depth=8, randomforestclassifier__n_estimators=200 \n",
      "[CV]  randomforestclassifier__max_depth=8, randomforestclassifier__n_estimators=200, score=0.176, total=   2.2s\n",
      "[CV] randomforestclassifier__max_depth=8, randomforestclassifier__n_estimators=200 \n",
      "[CV]  randomforestclassifier__max_depth=8, randomforestclassifier__n_estimators=200, score=0.192, total=   2.2s\n",
      "[CV] randomforestclassifier__max_depth=8, randomforestclassifier__n_estimators=300 \n",
      "[CV]  randomforestclassifier__max_depth=8, randomforestclassifier__n_estimators=300, score=0.168, total=   3.3s\n",
      "[CV] randomforestclassifier__max_depth=8, randomforestclassifier__n_estimators=300 \n",
      "[CV]  randomforestclassifier__max_depth=8, randomforestclassifier__n_estimators=300, score=0.170, total=   3.3s\n",
      "[CV] randomforestclassifier__max_depth=8, randomforestclassifier__n_estimators=300 \n",
      "[CV]  randomforestclassifier__max_depth=8, randomforestclassifier__n_estimators=300, score=0.198, total=   3.3s\n",
      "[CV] randomforestclassifier__max_depth=8, randomforestclassifier__n_estimators=300 \n",
      "[CV]  randomforestclassifier__max_depth=8, randomforestclassifier__n_estimators=300, score=0.182, total=   3.3s\n",
      "[CV] randomforestclassifier__max_depth=8, randomforestclassifier__n_estimators=300 \n",
      "[CV]  randomforestclassifier__max_depth=8, randomforestclassifier__n_estimators=300, score=0.191, total=   3.4s\n",
      "[CV] randomforestclassifier__max_depth=10, randomforestclassifier__n_estimators=100 \n",
      "[CV]  randomforestclassifier__max_depth=10, randomforestclassifier__n_estimators=100, score=0.168, total=   1.3s\n",
      "[CV] randomforestclassifier__max_depth=10, randomforestclassifier__n_estimators=100 \n",
      "[CV]  randomforestclassifier__max_depth=10, randomforestclassifier__n_estimators=100, score=0.186, total=   1.3s\n",
      "[CV] randomforestclassifier__max_depth=10, randomforestclassifier__n_estimators=100 \n",
      "[CV]  randomforestclassifier__max_depth=10, randomforestclassifier__n_estimators=100, score=0.187, total=   1.3s\n",
      "[CV] randomforestclassifier__max_depth=10, randomforestclassifier__n_estimators=100 \n",
      "[CV]  randomforestclassifier__max_depth=10, randomforestclassifier__n_estimators=100, score=0.172, total=   1.3s\n",
      "[CV] randomforestclassifier__max_depth=10, randomforestclassifier__n_estimators=100 \n",
      "[CV]  randomforestclassifier__max_depth=10, randomforestclassifier__n_estimators=100, score=0.180, total=   1.3s\n",
      "[CV] randomforestclassifier__max_depth=10, randomforestclassifier__n_estimators=200 \n",
      "[CV]  randomforestclassifier__max_depth=10, randomforestclassifier__n_estimators=200, score=0.176, total=   2.5s\n",
      "[CV] randomforestclassifier__max_depth=10, randomforestclassifier__n_estimators=200 \n",
      "[CV]  randomforestclassifier__max_depth=10, randomforestclassifier__n_estimators=200, score=0.192, total=   2.6s\n",
      "[CV] randomforestclassifier__max_depth=10, randomforestclassifier__n_estimators=200 \n",
      "[CV]  randomforestclassifier__max_depth=10, randomforestclassifier__n_estimators=200, score=0.185, total=   2.6s\n",
      "[CV] randomforestclassifier__max_depth=10, randomforestclassifier__n_estimators=200 \n",
      "[CV]  randomforestclassifier__max_depth=10, randomforestclassifier__n_estimators=200, score=0.181, total=   2.7s\n",
      "[CV] randomforestclassifier__max_depth=10, randomforestclassifier__n_estimators=200 \n",
      "[CV]  randomforestclassifier__max_depth=10, randomforestclassifier__n_estimators=200, score=0.181, total=   2.5s\n",
      "[CV] randomforestclassifier__max_depth=10, randomforestclassifier__n_estimators=300 \n",
      "[CV]  randomforestclassifier__max_depth=10, randomforestclassifier__n_estimators=300, score=0.176, total=   3.8s\n",
      "[CV] randomforestclassifier__max_depth=10, randomforestclassifier__n_estimators=300 \n",
      "[CV]  randomforestclassifier__max_depth=10, randomforestclassifier__n_estimators=300, score=0.184, total=   3.8s\n",
      "[CV] randomforestclassifier__max_depth=10, randomforestclassifier__n_estimators=300 \n",
      "[CV]  randomforestclassifier__max_depth=10, randomforestclassifier__n_estimators=300, score=0.183, total=   3.8s\n",
      "[CV] randomforestclassifier__max_depth=10, randomforestclassifier__n_estimators=300 \n",
      "[CV]  randomforestclassifier__max_depth=10, randomforestclassifier__n_estimators=300, score=0.180, total=   3.9s\n",
      "[CV] randomforestclassifier__max_depth=10, randomforestclassifier__n_estimators=300 \n",
      "[CV]  randomforestclassifier__max_depth=10, randomforestclassifier__n_estimators=300, score=0.174, total=   3.8s\n"
     ]
    },
    {
     "name": "stderr",
     "output_type": "stream",
     "text": [
      "[Parallel(n_jobs=1)]: Done  60 out of  60 | elapsed:  2.1min finished\n"
     ]
    },
    {
     "data": {
      "text/plain": [
       "GridSearchCV(cv=5,\n",
       "             estimator=Pipeline(steps=[('randomforestclassifier',\n",
       "                                        RandomForestClassifier())]),\n",
       "             param_grid=[{'randomforestclassifier__max_depth': [4, 6, 8, 10],\n",
       "                          'randomforestclassifier__n_estimators': [100, 200,\n",
       "                                                                   300]}],\n",
       "             scoring='f1', verbose=3)"
      ]
     },
     "execution_count": 66,
     "metadata": {},
     "output_type": "execute_result"
    }
   ],
   "source": [
    "grid_2.fit(X1,y1)"
   ]
  },
  {
   "cell_type": "code",
   "execution_count": 67,
   "metadata": {},
   "outputs": [
    {
     "data": {
      "text/plain": [
       "0.1830069768354702"
      ]
     },
     "execution_count": 67,
     "metadata": {},
     "output_type": "execute_result"
    }
   ],
   "source": [
    "grid_2.best_score_"
   ]
  },
  {
   "cell_type": "code",
   "execution_count": 68,
   "metadata": {},
   "outputs": [
    {
     "data": {
      "text/plain": [
       "{'randomforestclassifier__max_depth': 10,\n",
       " 'randomforestclassifier__n_estimators': 200}"
      ]
     },
     "execution_count": 68,
     "metadata": {},
     "output_type": "execute_result"
    }
   ],
   "source": [
    "grid_2.best_params_"
   ]
  },
  {
   "cell_type": "code",
   "execution_count": 69,
   "metadata": {},
   "outputs": [],
   "source": [
    "ytest_labels2=grid_2.predict(X2)\n",
    "ytest_prob2=grid_2.predict_proba(X2)[:,1]"
   ]
  },
  {
   "cell_type": "code",
   "execution_count": 144,
   "metadata": {},
   "outputs": [
    {
     "data": {
      "image/png": "[encoded data removed]",
      "text/plain": [
       "<Figure size 432x288 with 1 Axes>"
      ]
     },
     "metadata": {
      "needs_background": "light"
     },
     "output_type": "display_data"
    },
    {
     "name": "stdout",
     "output_type": "stream",
     "text": [
      "The optimal threshold is 0.1610616843773085\n",
      "The optimal f1score is 0.3735078937235271\n"
     ]
    }
   ],
   "source": [
    "threshold2,f1score2,recall2,precision2=plot_pr_curve(y2,ytest_prob2)\n",
    "threshold2=np.around(threshold2,4)\n",
    "f1score2=np.around(f1score2,4)\n",
    "recall2=np.around(recall2,4)\n",
    "precision2=np.around(precision2,4)\n"
   ]
  },
  {
   "cell_type": "code",
   "execution_count": 72,
   "metadata": {},
   "outputs": [
    {
     "data": {
      "image/png": "[encoded data removed]",
      "text/plain": [
       "<Figure size 432x288 with 1 Axes>"
      ]
     },
     "metadata": {
      "needs_background": "light"
     },
     "output_type": "display_data"
    },
    {
     "name": "stdout",
     "output_type": "stream",
     "text": [
      "Area under the curve is 0.7880280077867048\n",
      "The optimal threshold is 0.11781567817972727\n"
     ]
    }
   ],
   "source": [
    "plot_roc_curve(y2,ytest_prob2)"
   ]
  },
  {
   "cell_type": "code",
   "execution_count": 153,
   "metadata": {},
   "outputs": [],
   "source": [
    "log_loss2=log_loss(y2, ytest_prob2, eps=1e-15)\n",
    "log_loss2=np.around(log_loss2,4)"
   ]
  },
  {
   "cell_type": "code",
   "execution_count": 74,
   "metadata": {},
   "outputs": [
    {
     "data": {
      "text/plain": [
       "[<matplotlib.lines.Line2D at 0x196be64b788>]"
      ]
     },
     "execution_count": 74,
     "metadata": {},
     "output_type": "execute_result"
    },
    {
     "data": {
      "image/png": "[encoded data removed]",
      "text/plain": [
       "<Figure size 432x288 with 1 Axes>"
      ]
     },
     "metadata": {
      "needs_background": "light"
     },
     "output_type": "display_data"
    }
   ],
   "source": [
    "fraction_of_positives2, mean_predicted_values2 = calibration_curve(y2, ytest_prob2, n_bins=10)\n",
    "plt.plot(mean_predicted_values2, fraction_of_positives2, 's-')\n",
    "plt.plot([0, 1], [0, 1], '--', color='gray')"
   ]
  },
  {
   "cell_type": "raw",
   "metadata": {},
   "source": [
    "AdaBOOST"
   ]
  },
  {
   "cell_type": "code",
   "execution_count": 75,
   "metadata": {},
   "outputs": [],
   "source": [
    "from sklearn.ensemble import AdaBoostClassifier"
   ]
  },
  {
   "cell_type": "code",
   "execution_count": 79,
   "metadata": {},
   "outputs": [],
   "source": [
    "pipe_3=make_pipeline(AdaBoostClassifier())\n",
    "grid_values_3 = [{'adaboostclassifier__n_estimators': [100,200,300], 'adaboostclassifier__learning_rate':np.arange(0.1,1.0,0.1)}]"
   ]
  },
  {
   "cell_type": "code",
   "execution_count": 80,
   "metadata": {},
   "outputs": [],
   "source": [
    "grid_3 = GridSearchCV(pipe_3, param_grid = grid_values_3,scoring = 'f1',verbose=3, cv=5)"
   ]
  },
  {
   "cell_type": "code",
   "execution_count": 81,
   "metadata": {
    "scrolled": true
   },
   "outputs": [
    {
     "name": "stdout",
     "output_type": "stream",
     "text": [
      "Fitting 5 folds for each of 27 candidates, totalling 135 fits\n",
      "[CV] adaboostclassifier__learning_rate=0.1, adaboostclassifier__n_estimators=100 \n"
     ]
    },
    {
     "name": "stderr",
     "output_type": "stream",
     "text": [
      "[Parallel(n_jobs=1)]: Using backend SequentialBackend with 1 concurrent workers.\n"
     ]
    },
    {
     "name": "stdout",
     "output_type": "stream",
     "text": [
      "[CV]  adaboostclassifier__learning_rate=0.1, adaboostclassifier__n_estimators=100, score=0.139, total=   1.3s\n",
      "[CV] adaboostclassifier__learning_rate=0.1, adaboostclassifier__n_estimators=100 \n"
     ]
    },
    {
     "name": "stderr",
     "output_type": "stream",
     "text": [
      "[Parallel(n_jobs=1)]: Done   1 out of   1 | elapsed:    1.2s remaining:    0.0s\n"
     ]
    },
    {
     "name": "stdout",
     "output_type": "stream",
     "text": [
      "[CV]  adaboostclassifier__learning_rate=0.1, adaboostclassifier__n_estimators=100, score=0.148, total=   1.4s\n",
      "[CV] adaboostclassifier__learning_rate=0.1, adaboostclassifier__n_estimators=100 \n"
     ]
    },
    {
     "name": "stderr",
     "output_type": "stream",
     "text": [
      "[Parallel(n_jobs=1)]: Done   2 out of   2 | elapsed:    2.6s remaining:    0.0s\n"
     ]
    },
    {
     "name": "stdout",
     "output_type": "stream",
     "text": [
      "[CV]  adaboostclassifier__learning_rate=0.1, adaboostclassifier__n_estimators=100, score=0.162, total=   1.4s\n",
      "[CV] adaboostclassifier__learning_rate=0.1, adaboostclassifier__n_estimators=100 \n",
      "[CV]  adaboostclassifier__learning_rate=0.1, adaboostclassifier__n_estimators=100, score=0.156, total=   1.3s\n",
      "[CV] adaboostclassifier__learning_rate=0.1, adaboostclassifier__n_estimators=100 \n",
      "[CV]  adaboostclassifier__learning_rate=0.1, adaboostclassifier__n_estimators=100, score=0.137, total=   1.3s\n",
      "[CV] adaboostclassifier__learning_rate=0.1, adaboostclassifier__n_estimators=200 \n",
      "[CV]  adaboostclassifier__learning_rate=0.1, adaboostclassifier__n_estimators=200, score=0.151, total=   2.5s\n",
      "[CV] adaboostclassifier__learning_rate=0.1, adaboostclassifier__n_estimators=200 \n",
      "[CV]  adaboostclassifier__learning_rate=0.1, adaboostclassifier__n_estimators=200, score=0.163, total=   2.6s\n",
      "[CV] adaboostclassifier__learning_rate=0.1, adaboostclassifier__n_estimators=200 \n",
      "[CV]  adaboostclassifier__learning_rate=0.1, adaboostclassifier__n_estimators=200, score=0.169, total=   2.5s\n",
      "[CV] adaboostclassifier__learning_rate=0.1, adaboostclassifier__n_estimators=200 \n",
      "[CV]  adaboostclassifier__learning_rate=0.1, adaboostclassifier__n_estimators=200, score=0.173, total=   2.6s\n",
      "[CV] adaboostclassifier__learning_rate=0.1, adaboostclassifier__n_estimators=200 \n",
      "[CV]  adaboostclassifier__learning_rate=0.1, adaboostclassifier__n_estimators=200, score=0.176, total=   2.6s\n",
      "[CV] adaboostclassifier__learning_rate=0.1, adaboostclassifier__n_estimators=300 \n",
      "[CV]  adaboostclassifier__learning_rate=0.1, adaboostclassifier__n_estimators=300, score=0.165, total=   3.8s\n",
      "[CV] adaboostclassifier__learning_rate=0.1, adaboostclassifier__n_estimators=300 \n",
      "[CV]  adaboostclassifier__learning_rate=0.1, adaboostclassifier__n_estimators=300, score=0.182, total=   3.9s\n",
      "[CV] adaboostclassifier__learning_rate=0.1, adaboostclassifier__n_estimators=300 \n",
      "[CV]  adaboostclassifier__learning_rate=0.1, adaboostclassifier__n_estimators=300, score=0.181, total=   3.8s\n",
      "[CV] adaboostclassifier__learning_rate=0.1, adaboostclassifier__n_estimators=300 \n",
      "[CV]  adaboostclassifier__learning_rate=0.1, adaboostclassifier__n_estimators=300, score=0.175, total=   3.9s\n",
      "[CV] adaboostclassifier__learning_rate=0.1, adaboostclassifier__n_estimators=300 \n",
      "[CV]  adaboostclassifier__learning_rate=0.1, adaboostclassifier__n_estimators=300, score=0.190, total=   3.8s\n",
      "[CV] adaboostclassifier__learning_rate=0.2, adaboostclassifier__n_estimators=100 \n",
      "[CV]  adaboostclassifier__learning_rate=0.2, adaboostclassifier__n_estimators=100, score=0.151, total=   1.3s\n",
      "[CV] adaboostclassifier__learning_rate=0.2, adaboostclassifier__n_estimators=100 \n",
      "[CV]  adaboostclassifier__learning_rate=0.2, adaboostclassifier__n_estimators=100, score=0.163, total=   1.3s\n",
      "[CV] adaboostclassifier__learning_rate=0.2, adaboostclassifier__n_estimators=100 \n",
      "[CV]  adaboostclassifier__learning_rate=0.2, adaboostclassifier__n_estimators=100, score=0.167, total=   1.3s\n",
      "[CV] adaboostclassifier__learning_rate=0.2, adaboostclassifier__n_estimators=100 \n",
      "[CV]  adaboostclassifier__learning_rate=0.2, adaboostclassifier__n_estimators=100, score=0.173, total=   1.3s\n",
      "[CV] adaboostclassifier__learning_rate=0.2, adaboostclassifier__n_estimators=100 \n",
      "[CV]  adaboostclassifier__learning_rate=0.2, adaboostclassifier__n_estimators=100, score=0.196, total=   1.3s\n",
      "[CV] adaboostclassifier__learning_rate=0.2, adaboostclassifier__n_estimators=200 \n",
      "[CV]  adaboostclassifier__learning_rate=0.2, adaboostclassifier__n_estimators=200, score=0.165, total=   2.5s\n",
      "[CV] adaboostclassifier__learning_rate=0.2, adaboostclassifier__n_estimators=200 \n",
      "[CV]  adaboostclassifier__learning_rate=0.2, adaboostclassifier__n_estimators=200, score=0.184, total=   2.5s\n",
      "[CV] adaboostclassifier__learning_rate=0.2, adaboostclassifier__n_estimators=200 \n",
      "[CV]  adaboostclassifier__learning_rate=0.2, adaboostclassifier__n_estimators=200, score=0.195, total=   2.5s\n",
      "[CV] adaboostclassifier__learning_rate=0.2, adaboostclassifier__n_estimators=200 \n",
      "[CV]  adaboostclassifier__learning_rate=0.2, adaboostclassifier__n_estimators=200, score=0.179, total=   2.5s\n",
      "[CV] adaboostclassifier__learning_rate=0.2, adaboostclassifier__n_estimators=200 \n",
      "[CV]  adaboostclassifier__learning_rate=0.2, adaboostclassifier__n_estimators=200, score=0.196, total=   2.5s\n",
      "[CV] adaboostclassifier__learning_rate=0.2, adaboostclassifier__n_estimators=300 \n",
      "[CV]  adaboostclassifier__learning_rate=0.2, adaboostclassifier__n_estimators=300, score=0.165, total=   3.8s\n",
      "[CV] adaboostclassifier__learning_rate=0.2, adaboostclassifier__n_estimators=300 \n",
      "[CV]  adaboostclassifier__learning_rate=0.2, adaboostclassifier__n_estimators=300, score=0.184, total=   3.8s\n",
      "[CV] adaboostclassifier__learning_rate=0.2, adaboostclassifier__n_estimators=300 \n",
      "[CV]  adaboostclassifier__learning_rate=0.2, adaboostclassifier__n_estimators=300, score=0.195, total=   3.7s\n",
      "[CV] adaboostclassifier__learning_rate=0.2, adaboostclassifier__n_estimators=300 \n",
      "[CV]  adaboostclassifier__learning_rate=0.2, adaboostclassifier__n_estimators=300, score=0.179, total=   4.2s\n",
      "[CV] adaboostclassifier__learning_rate=0.2, adaboostclassifier__n_estimators=300 \n",
      "[CV]  adaboostclassifier__learning_rate=0.2, adaboostclassifier__n_estimators=300, score=0.196, total=   5.4s\n",
      "[CV] adaboostclassifier__learning_rate=0.30000000000000004, adaboostclassifier__n_estimators=100 \n",
      "[CV]  adaboostclassifier__learning_rate=0.30000000000000004, adaboostclassifier__n_estimators=100, score=0.173, total=   1.4s\n",
      "[CV] adaboostclassifier__learning_rate=0.30000000000000004, adaboostclassifier__n_estimators=100 \n",
      "[CV]  adaboostclassifier__learning_rate=0.30000000000000004, adaboostclassifier__n_estimators=100, score=0.158, total=   1.5s\n",
      "[CV] adaboostclassifier__learning_rate=0.30000000000000004, adaboostclassifier__n_estimators=100 \n",
      "[CV]  adaboostclassifier__learning_rate=0.30000000000000004, adaboostclassifier__n_estimators=100, score=0.181, total=   1.2s\n",
      "[CV] adaboostclassifier__learning_rate=0.30000000000000004, adaboostclassifier__n_estimators=100 \n",
      "[CV]  adaboostclassifier__learning_rate=0.30000000000000004, adaboostclassifier__n_estimators=100, score=0.188, total=   1.3s\n",
      "[CV] adaboostclassifier__learning_rate=0.30000000000000004, adaboostclassifier__n_estimators=100 \n",
      "[CV]  adaboostclassifier__learning_rate=0.30000000000000004, adaboostclassifier__n_estimators=100, score=0.196, total=   1.3s\n",
      "[CV] adaboostclassifier__learning_rate=0.30000000000000004, adaboostclassifier__n_estimators=200 \n",
      "[CV]  adaboostclassifier__learning_rate=0.30000000000000004, adaboostclassifier__n_estimators=200, score=0.169, total=   2.5s\n",
      "[CV] adaboostclassifier__learning_rate=0.30000000000000004, adaboostclassifier__n_estimators=200 \n",
      "[CV]  adaboostclassifier__learning_rate=0.30000000000000004, adaboostclassifier__n_estimators=200, score=0.171, total=   2.6s\n",
      "[CV] adaboostclassifier__learning_rate=0.30000000000000004, adaboostclassifier__n_estimators=200 \n",
      "[CV]  adaboostclassifier__learning_rate=0.30000000000000004, adaboostclassifier__n_estimators=200, score=0.199, total=   2.5s\n",
      "[CV] adaboostclassifier__learning_rate=0.30000000000000004, adaboostclassifier__n_estimators=200 \n",
      "[CV]  adaboostclassifier__learning_rate=0.30000000000000004, adaboostclassifier__n_estimators=200, score=0.198, total=   2.5s\n",
      "[CV] adaboostclassifier__learning_rate=0.30000000000000004, adaboostclassifier__n_estimators=200 \n",
      "[CV]  adaboostclassifier__learning_rate=0.30000000000000004, adaboostclassifier__n_estimators=200, score=0.196, total=   2.5s\n",
      "[CV] adaboostclassifier__learning_rate=0.30000000000000004, adaboostclassifier__n_estimators=300 \n",
      "[CV]  adaboostclassifier__learning_rate=0.30000000000000004, adaboostclassifier__n_estimators=300, score=0.169, total=   3.8s\n",
      "[CV] adaboostclassifier__learning_rate=0.30000000000000004, adaboostclassifier__n_estimators=300 \n",
      "[CV]  adaboostclassifier__learning_rate=0.30000000000000004, adaboostclassifier__n_estimators=300, score=0.176, total=   3.8s\n",
      "[CV] adaboostclassifier__learning_rate=0.30000000000000004, adaboostclassifier__n_estimators=300 \n",
      "[CV]  adaboostclassifier__learning_rate=0.30000000000000004, adaboostclassifier__n_estimators=300, score=0.199, total=   3.8s\n",
      "[CV] adaboostclassifier__learning_rate=0.30000000000000004, adaboostclassifier__n_estimators=300 \n",
      "[CV]  adaboostclassifier__learning_rate=0.30000000000000004, adaboostclassifier__n_estimators=300, score=0.197, total=   3.8s\n",
      "[CV] adaboostclassifier__learning_rate=0.30000000000000004, adaboostclassifier__n_estimators=300 \n",
      "[CV]  adaboostclassifier__learning_rate=0.30000000000000004, adaboostclassifier__n_estimators=300, score=0.196, total=   3.8s\n",
      "[CV] adaboostclassifier__learning_rate=0.4, adaboostclassifier__n_estimators=100 \n",
      "[CV]  adaboostclassifier__learning_rate=0.4, adaboostclassifier__n_estimators=100, score=0.173, total=   1.3s\n",
      "[CV] adaboostclassifier__learning_rate=0.4, adaboostclassifier__n_estimators=100 \n",
      "[CV]  adaboostclassifier__learning_rate=0.4, adaboostclassifier__n_estimators=100, score=0.182, total=   1.3s\n",
      "[CV] adaboostclassifier__learning_rate=0.4, adaboostclassifier__n_estimators=100 \n",
      "[CV]  adaboostclassifier__learning_rate=0.4, adaboostclassifier__n_estimators=100, score=0.203, total=   1.3s\n",
      "[CV] adaboostclassifier__learning_rate=0.4, adaboostclassifier__n_estimators=100 \n",
      "[CV]  adaboostclassifier__learning_rate=0.4, adaboostclassifier__n_estimators=100, score=0.199, total=   1.3s\n",
      "[CV] adaboostclassifier__learning_rate=0.4, adaboostclassifier__n_estimators=100 \n",
      "[CV]  adaboostclassifier__learning_rate=0.4, adaboostclassifier__n_estimators=100, score=0.196, total=   1.3s\n",
      "[CV] adaboostclassifier__learning_rate=0.4, adaboostclassifier__n_estimators=200 \n",
      "[CV]  adaboostclassifier__learning_rate=0.4, adaboostclassifier__n_estimators=200, score=0.173, total=   2.5s\n",
      "[CV] adaboostclassifier__learning_rate=0.4, adaboostclassifier__n_estimators=200 \n",
      "[CV]  adaboostclassifier__learning_rate=0.4, adaboostclassifier__n_estimators=200, score=0.182, total=   2.5s\n",
      "[CV] adaboostclassifier__learning_rate=0.4, adaboostclassifier__n_estimators=200 \n",
      "[CV]  adaboostclassifier__learning_rate=0.4, adaboostclassifier__n_estimators=200, score=0.213, total=   2.5s\n",
      "[CV] adaboostclassifier__learning_rate=0.4, adaboostclassifier__n_estimators=200 \n",
      "[CV]  adaboostclassifier__learning_rate=0.4, adaboostclassifier__n_estimators=200, score=0.198, total=   2.5s\n",
      "[CV] adaboostclassifier__learning_rate=0.4, adaboostclassifier__n_estimators=200 \n",
      "[CV]  adaboostclassifier__learning_rate=0.4, adaboostclassifier__n_estimators=200, score=0.196, total=   2.5s\n",
      "[CV] adaboostclassifier__learning_rate=0.4, adaboostclassifier__n_estimators=300 \n",
      "[CV]  adaboostclassifier__learning_rate=0.4, adaboostclassifier__n_estimators=300, score=0.169, total=   4.0s\n",
      "[CV] adaboostclassifier__learning_rate=0.4, adaboostclassifier__n_estimators=300 \n",
      "[CV]  adaboostclassifier__learning_rate=0.4, adaboostclassifier__n_estimators=300, score=0.182, total=   3.8s\n",
      "[CV] adaboostclassifier__learning_rate=0.4, adaboostclassifier__n_estimators=300 \n",
      "[CV]  adaboostclassifier__learning_rate=0.4, adaboostclassifier__n_estimators=300, score=0.213, total=   3.8s\n",
      "[CV] adaboostclassifier__learning_rate=0.4, adaboostclassifier__n_estimators=300 \n",
      "[CV]  adaboostclassifier__learning_rate=0.4, adaboostclassifier__n_estimators=300, score=0.198, total=   3.8s\n",
      "[CV] adaboostclassifier__learning_rate=0.4, adaboostclassifier__n_estimators=300 \n",
      "[CV]  adaboostclassifier__learning_rate=0.4, adaboostclassifier__n_estimators=300, score=0.196, total=   3.8s\n",
      "[CV] adaboostclassifier__learning_rate=0.5, adaboostclassifier__n_estimators=100 \n",
      "[CV]  adaboostclassifier__learning_rate=0.5, adaboostclassifier__n_estimators=100, score=0.173, total=   1.3s\n",
      "[CV] adaboostclassifier__learning_rate=0.5, adaboostclassifier__n_estimators=100 \n",
      "[CV]  adaboostclassifier__learning_rate=0.5, adaboostclassifier__n_estimators=100, score=0.184, total=   1.3s\n",
      "[CV] adaboostclassifier__learning_rate=0.5, adaboostclassifier__n_estimators=100 \n",
      "[CV]  adaboostclassifier__learning_rate=0.5, adaboostclassifier__n_estimators=100, score=0.202, total=   1.3s\n",
      "[CV] adaboostclassifier__learning_rate=0.5, adaboostclassifier__n_estimators=100 \n",
      "[CV]  adaboostclassifier__learning_rate=0.5, adaboostclassifier__n_estimators=100, score=0.196, total=   1.3s\n",
      "[CV] adaboostclassifier__learning_rate=0.5, adaboostclassifier__n_estimators=100 \n",
      "[CV]  adaboostclassifier__learning_rate=0.5, adaboostclassifier__n_estimators=100, score=0.198, total=   1.3s\n",
      "[CV] adaboostclassifier__learning_rate=0.5, adaboostclassifier__n_estimators=200 \n",
      "[CV]  adaboostclassifier__learning_rate=0.5, adaboostclassifier__n_estimators=200, score=0.173, total=   2.5s\n",
      "[CV] adaboostclassifier__learning_rate=0.5, adaboostclassifier__n_estimators=200 \n",
      "[CV]  adaboostclassifier__learning_rate=0.5, adaboostclassifier__n_estimators=200, score=0.182, total=   2.5s\n",
      "[CV] adaboostclassifier__learning_rate=0.5, adaboostclassifier__n_estimators=200 \n",
      "[CV]  adaboostclassifier__learning_rate=0.5, adaboostclassifier__n_estimators=200, score=0.210, total=   2.5s\n",
      "[CV] adaboostclassifier__learning_rate=0.5, adaboostclassifier__n_estimators=200 \n",
      "[CV]  adaboostclassifier__learning_rate=0.5, adaboostclassifier__n_estimators=200, score=0.198, total=   2.7s\n",
      "[CV] adaboostclassifier__learning_rate=0.5, adaboostclassifier__n_estimators=200 \n",
      "[CV]  adaboostclassifier__learning_rate=0.5, adaboostclassifier__n_estimators=200, score=0.198, total=   2.5s\n",
      "[CV] adaboostclassifier__learning_rate=0.5, adaboostclassifier__n_estimators=300 \n",
      "[CV]  adaboostclassifier__learning_rate=0.5, adaboostclassifier__n_estimators=300, score=0.169, total=   3.8s\n",
      "[CV] adaboostclassifier__learning_rate=0.5, adaboostclassifier__n_estimators=300 \n",
      "[CV]  adaboostclassifier__learning_rate=0.5, adaboostclassifier__n_estimators=300, score=0.182, total=   3.8s\n",
      "[CV] adaboostclassifier__learning_rate=0.5, adaboostclassifier__n_estimators=300 \n",
      "[CV]  adaboostclassifier__learning_rate=0.5, adaboostclassifier__n_estimators=300, score=0.210, total=   3.8s\n",
      "[CV] adaboostclassifier__learning_rate=0.5, adaboostclassifier__n_estimators=300 \n",
      "[CV]  adaboostclassifier__learning_rate=0.5, adaboostclassifier__n_estimators=300, score=0.196, total=   3.8s\n",
      "[CV] adaboostclassifier__learning_rate=0.5, adaboostclassifier__n_estimators=300 \n",
      "[CV]  adaboostclassifier__learning_rate=0.5, adaboostclassifier__n_estimators=300, score=0.198, total=   3.7s\n",
      "[CV] adaboostclassifier__learning_rate=0.6, adaboostclassifier__n_estimators=100 \n",
      "[CV]  adaboostclassifier__learning_rate=0.6, adaboostclassifier__n_estimators=100, score=0.173, total=   1.3s\n",
      "[CV] adaboostclassifier__learning_rate=0.6, adaboostclassifier__n_estimators=100 \n",
      "[CV]  adaboostclassifier__learning_rate=0.6, adaboostclassifier__n_estimators=100, score=0.186, total=   1.3s\n",
      "[CV] adaboostclassifier__learning_rate=0.6, adaboostclassifier__n_estimators=100 \n",
      "[CV]  adaboostclassifier__learning_rate=0.6, adaboostclassifier__n_estimators=100, score=0.218, total=   1.3s\n",
      "[CV] adaboostclassifier__learning_rate=0.6, adaboostclassifier__n_estimators=100 \n",
      "[CV]  adaboostclassifier__learning_rate=0.6, adaboostclassifier__n_estimators=100, score=0.200, total=   1.3s\n",
      "[CV] adaboostclassifier__learning_rate=0.6, adaboostclassifier__n_estimators=100 \n",
      "[CV]  adaboostclassifier__learning_rate=0.6, adaboostclassifier__n_estimators=100, score=0.197, total=   1.3s\n",
      "[CV] adaboostclassifier__learning_rate=0.6, adaboostclassifier__n_estimators=200 \n",
      "[CV]  adaboostclassifier__learning_rate=0.6, adaboostclassifier__n_estimators=200, score=0.169, total=   2.5s\n",
      "[CV] adaboostclassifier__learning_rate=0.6, adaboostclassifier__n_estimators=200 \n",
      "[CV]  adaboostclassifier__learning_rate=0.6, adaboostclassifier__n_estimators=200, score=0.184, total=   2.5s\n",
      "[CV] adaboostclassifier__learning_rate=0.6, adaboostclassifier__n_estimators=200 \n",
      "[CV]  adaboostclassifier__learning_rate=0.6, adaboostclassifier__n_estimators=200, score=0.210, total=   2.5s\n",
      "[CV] adaboostclassifier__learning_rate=0.6, adaboostclassifier__n_estimators=200 \n",
      "[CV]  adaboostclassifier__learning_rate=0.6, adaboostclassifier__n_estimators=200, score=0.200, total=   2.5s\n",
      "[CV] adaboostclassifier__learning_rate=0.6, adaboostclassifier__n_estimators=200 \n",
      "[CV]  adaboostclassifier__learning_rate=0.6, adaboostclassifier__n_estimators=200, score=0.198, total=   2.5s\n",
      "[CV] adaboostclassifier__learning_rate=0.6, adaboostclassifier__n_estimators=300 \n",
      "[CV]  adaboostclassifier__learning_rate=0.6, adaboostclassifier__n_estimators=300, score=0.173, total=   3.9s\n",
      "[CV] adaboostclassifier__learning_rate=0.6, adaboostclassifier__n_estimators=300 \n",
      "[CV]  adaboostclassifier__learning_rate=0.6, adaboostclassifier__n_estimators=300, score=0.184, total=   4.3s\n",
      "[CV] adaboostclassifier__learning_rate=0.6, adaboostclassifier__n_estimators=300 \n",
      "[CV]  adaboostclassifier__learning_rate=0.6, adaboostclassifier__n_estimators=300, score=0.212, total=   3.9s\n",
      "[CV] adaboostclassifier__learning_rate=0.6, adaboostclassifier__n_estimators=300 \n",
      "[CV]  adaboostclassifier__learning_rate=0.6, adaboostclassifier__n_estimators=300, score=0.198, total=   3.8s\n",
      "[CV] adaboostclassifier__learning_rate=0.6, adaboostclassifier__n_estimators=300 \n",
      "[CV]  adaboostclassifier__learning_rate=0.6, adaboostclassifier__n_estimators=300, score=0.197, total=   3.9s\n",
      "[CV] adaboostclassifier__learning_rate=0.7000000000000001, adaboostclassifier__n_estimators=100 \n",
      "[CV]  adaboostclassifier__learning_rate=0.7000000000000001, adaboostclassifier__n_estimators=100, score=0.169, total=   1.3s\n",
      "[CV] adaboostclassifier__learning_rate=0.7000000000000001, adaboostclassifier__n_estimators=100 \n",
      "[CV]  adaboostclassifier__learning_rate=0.7000000000000001, adaboostclassifier__n_estimators=100, score=0.186, total=   1.4s\n",
      "[CV] adaboostclassifier__learning_rate=0.7000000000000001, adaboostclassifier__n_estimators=100 \n",
      "[CV]  adaboostclassifier__learning_rate=0.7000000000000001, adaboostclassifier__n_estimators=100, score=0.217, total=   1.3s\n",
      "[CV] adaboostclassifier__learning_rate=0.7000000000000001, adaboostclassifier__n_estimators=100 \n",
      "[CV]  adaboostclassifier__learning_rate=0.7000000000000001, adaboostclassifier__n_estimators=100, score=0.200, total=   1.3s\n",
      "[CV] adaboostclassifier__learning_rate=0.7000000000000001, adaboostclassifier__n_estimators=100 \n",
      "[CV]  adaboostclassifier__learning_rate=0.7000000000000001, adaboostclassifier__n_estimators=100, score=0.198, total=   1.3s\n",
      "[CV] adaboostclassifier__learning_rate=0.7000000000000001, adaboostclassifier__n_estimators=200 \n",
      "[CV]  adaboostclassifier__learning_rate=0.7000000000000001, adaboostclassifier__n_estimators=200, score=0.169, total=   2.6s\n",
      "[CV] adaboostclassifier__learning_rate=0.7000000000000001, adaboostclassifier__n_estimators=200 \n",
      "[CV]  adaboostclassifier__learning_rate=0.7000000000000001, adaboostclassifier__n_estimators=200, score=0.184, total=   2.7s\n",
      "[CV] adaboostclassifier__learning_rate=0.7000000000000001, adaboostclassifier__n_estimators=200 \n",
      "[CV]  adaboostclassifier__learning_rate=0.7000000000000001, adaboostclassifier__n_estimators=200, score=0.215, total=   2.6s\n",
      "[CV] adaboostclassifier__learning_rate=0.7000000000000001, adaboostclassifier__n_estimators=200 \n",
      "[CV]  adaboostclassifier__learning_rate=0.7000000000000001, adaboostclassifier__n_estimators=200, score=0.200, total=   2.5s\n",
      "[CV] adaboostclassifier__learning_rate=0.7000000000000001, adaboostclassifier__n_estimators=200 \n",
      "[CV]  adaboostclassifier__learning_rate=0.7000000000000001, adaboostclassifier__n_estimators=200, score=0.197, total=   2.6s\n",
      "[CV] adaboostclassifier__learning_rate=0.7000000000000001, adaboostclassifier__n_estimators=300 \n",
      "[CV]  adaboostclassifier__learning_rate=0.7000000000000001, adaboostclassifier__n_estimators=300, score=0.171, total=   3.8s\n",
      "[CV] adaboostclassifier__learning_rate=0.7000000000000001, adaboostclassifier__n_estimators=300 \n",
      "[CV]  adaboostclassifier__learning_rate=0.7000000000000001, adaboostclassifier__n_estimators=300, score=0.184, total=   3.8s\n",
      "[CV] adaboostclassifier__learning_rate=0.7000000000000001, adaboostclassifier__n_estimators=300 \n",
      "[CV]  adaboostclassifier__learning_rate=0.7000000000000001, adaboostclassifier__n_estimators=300, score=0.217, total=   3.9s\n",
      "[CV] adaboostclassifier__learning_rate=0.7000000000000001, adaboostclassifier__n_estimators=300 \n",
      "[CV]  adaboostclassifier__learning_rate=0.7000000000000001, adaboostclassifier__n_estimators=300, score=0.200, total=   3.8s\n",
      "[CV] adaboostclassifier__learning_rate=0.7000000000000001, adaboostclassifier__n_estimators=300 \n",
      "[CV]  adaboostclassifier__learning_rate=0.7000000000000001, adaboostclassifier__n_estimators=300, score=0.197, total=   3.8s\n",
      "[CV] adaboostclassifier__learning_rate=0.8, adaboostclassifier__n_estimators=100 \n",
      "[CV]  adaboostclassifier__learning_rate=0.8, adaboostclassifier__n_estimators=100, score=0.166, total=   1.3s\n",
      "[CV] adaboostclassifier__learning_rate=0.8, adaboostclassifier__n_estimators=100 \n",
      "[CV]  adaboostclassifier__learning_rate=0.8, adaboostclassifier__n_estimators=100, score=0.173, total=   1.3s\n",
      "[CV] adaboostclassifier__learning_rate=0.8, adaboostclassifier__n_estimators=100 \n",
      "[CV]  adaboostclassifier__learning_rate=0.8, adaboostclassifier__n_estimators=100, score=0.191, total=   1.3s\n",
      "[CV] adaboostclassifier__learning_rate=0.8, adaboostclassifier__n_estimators=100 \n",
      "[CV]  adaboostclassifier__learning_rate=0.8, adaboostclassifier__n_estimators=100, score=0.181, total=   1.4s\n",
      "[CV] adaboostclassifier__learning_rate=0.8, adaboostclassifier__n_estimators=100 \n",
      "[CV]  adaboostclassifier__learning_rate=0.8, adaboostclassifier__n_estimators=100, score=0.195, total=   1.3s\n",
      "[CV] adaboostclassifier__learning_rate=0.8, adaboostclassifier__n_estimators=200 \n",
      "[CV]  adaboostclassifier__learning_rate=0.8, adaboostclassifier__n_estimators=200, score=0.165, total=   2.5s\n",
      "[CV] adaboostclassifier__learning_rate=0.8, adaboostclassifier__n_estimators=200 \n",
      "[CV]  adaboostclassifier__learning_rate=0.8, adaboostclassifier__n_estimators=200, score=0.173, total=   2.6s\n",
      "[CV] adaboostclassifier__learning_rate=0.8, adaboostclassifier__n_estimators=200 \n",
      "[CV]  adaboostclassifier__learning_rate=0.8, adaboostclassifier__n_estimators=200, score=0.187, total=   2.6s\n",
      "[CV] adaboostclassifier__learning_rate=0.8, adaboostclassifier__n_estimators=200 \n",
      "[CV]  adaboostclassifier__learning_rate=0.8, adaboostclassifier__n_estimators=200, score=0.187, total=   2.9s\n",
      "[CV] adaboostclassifier__learning_rate=0.8, adaboostclassifier__n_estimators=200 \n",
      "[CV]  adaboostclassifier__learning_rate=0.8, adaboostclassifier__n_estimators=200, score=0.195, total=   2.5s\n",
      "[CV] adaboostclassifier__learning_rate=0.8, adaboostclassifier__n_estimators=300 \n",
      "[CV]  adaboostclassifier__learning_rate=0.8, adaboostclassifier__n_estimators=300, score=0.165, total=   3.8s\n",
      "[CV] adaboostclassifier__learning_rate=0.8, adaboostclassifier__n_estimators=300 \n",
      "[CV]  adaboostclassifier__learning_rate=0.8, adaboostclassifier__n_estimators=300, score=0.173, total=   3.8s\n",
      "[CV] adaboostclassifier__learning_rate=0.8, adaboostclassifier__n_estimators=300 \n",
      "[CV]  adaboostclassifier__learning_rate=0.8, adaboostclassifier__n_estimators=300, score=0.187, total=   3.8s\n",
      "[CV] adaboostclassifier__learning_rate=0.8, adaboostclassifier__n_estimators=300 \n",
      "[CV]  adaboostclassifier__learning_rate=0.8, adaboostclassifier__n_estimators=300, score=0.187, total=   3.8s\n",
      "[CV] adaboostclassifier__learning_rate=0.8, adaboostclassifier__n_estimators=300 \n",
      "[CV]  adaboostclassifier__learning_rate=0.8, adaboostclassifier__n_estimators=300, score=0.195, total=   3.8s\n",
      "[CV] adaboostclassifier__learning_rate=0.9, adaboostclassifier__n_estimators=100 \n",
      "[CV]  adaboostclassifier__learning_rate=0.9, adaboostclassifier__n_estimators=100, score=0.168, total=   1.2s\n",
      "[CV] adaboostclassifier__learning_rate=0.9, adaboostclassifier__n_estimators=100 \n",
      "[CV]  adaboostclassifier__learning_rate=0.9, adaboostclassifier__n_estimators=100, score=0.173, total=   1.3s\n",
      "[CV] adaboostclassifier__learning_rate=0.9, adaboostclassifier__n_estimators=100 \n",
      "[CV]  adaboostclassifier__learning_rate=0.9, adaboostclassifier__n_estimators=100, score=0.185, total=   1.3s\n",
      "[CV] adaboostclassifier__learning_rate=0.9, adaboostclassifier__n_estimators=100 \n",
      "[CV]  adaboostclassifier__learning_rate=0.9, adaboostclassifier__n_estimators=100, score=0.181, total=   1.3s\n",
      "[CV] adaboostclassifier__learning_rate=0.9, adaboostclassifier__n_estimators=100 \n",
      "[CV]  adaboostclassifier__learning_rate=0.9, adaboostclassifier__n_estimators=100, score=0.176, total=   1.3s\n",
      "[CV] adaboostclassifier__learning_rate=0.9, adaboostclassifier__n_estimators=200 \n",
      "[CV]  adaboostclassifier__learning_rate=0.9, adaboostclassifier__n_estimators=200, score=0.166, total=   2.5s\n",
      "[CV] adaboostclassifier__learning_rate=0.9, adaboostclassifier__n_estimators=200 \n",
      "[CV]  adaboostclassifier__learning_rate=0.9, adaboostclassifier__n_estimators=200, score=0.173, total=   2.5s\n",
      "[CV] adaboostclassifier__learning_rate=0.9, adaboostclassifier__n_estimators=200 \n",
      "[CV]  adaboostclassifier__learning_rate=0.9, adaboostclassifier__n_estimators=200, score=0.189, total=   2.6s\n",
      "[CV] adaboostclassifier__learning_rate=0.9, adaboostclassifier__n_estimators=200 \n",
      "[CV]  adaboostclassifier__learning_rate=0.9, adaboostclassifier__n_estimators=200, score=0.179, total=   2.5s\n",
      "[CV] adaboostclassifier__learning_rate=0.9, adaboostclassifier__n_estimators=200 \n",
      "[CV]  adaboostclassifier__learning_rate=0.9, adaboostclassifier__n_estimators=200, score=0.176, total=   2.5s\n",
      "[CV] adaboostclassifier__learning_rate=0.9, adaboostclassifier__n_estimators=300 \n",
      "[CV]  adaboostclassifier__learning_rate=0.9, adaboostclassifier__n_estimators=300, score=0.165, total=   3.8s\n",
      "[CV] adaboostclassifier__learning_rate=0.9, adaboostclassifier__n_estimators=300 \n",
      "[CV]  adaboostclassifier__learning_rate=0.9, adaboostclassifier__n_estimators=300, score=0.173, total=   3.8s\n",
      "[CV] adaboostclassifier__learning_rate=0.9, adaboostclassifier__n_estimators=300 \n",
      "[CV]  adaboostclassifier__learning_rate=0.9, adaboostclassifier__n_estimators=300, score=0.189, total=   3.7s\n",
      "[CV] adaboostclassifier__learning_rate=0.9, adaboostclassifier__n_estimators=300 \n",
      "[CV]  adaboostclassifier__learning_rate=0.9, adaboostclassifier__n_estimators=300, score=0.180, total=   3.8s\n",
      "[CV] adaboostclassifier__learning_rate=0.9, adaboostclassifier__n_estimators=300 \n",
      "[CV]  adaboostclassifier__learning_rate=0.9, adaboostclassifier__n_estimators=300, score=0.177, total=   3.8s\n"
     ]
    },
    {
     "name": "stderr",
     "output_type": "stream",
     "text": [
      "[Parallel(n_jobs=1)]: Done 135 out of 135 | elapsed:  5.8min finished\n"
     ]
    },
    {
     "data": {
      "text/plain": [
       "GridSearchCV(cv=5,\n",
       "             estimator=Pipeline(steps=[('adaboostclassifier',\n",
       "                                        AdaBoostClassifier())]),\n",
       "             param_grid=[{'adaboostclassifier__learning_rate': array([0.1, 0.2, 0.3, 0.4, 0.5, 0.6, 0.7, 0.8, 0.9]),\n",
       "                          'adaboostclassifier__n_estimators': [100, 200, 300]}],\n",
       "             scoring='f1', verbose=3)"
      ]
     },
     "execution_count": 81,
     "metadata": {},
     "output_type": "execute_result"
    }
   ],
   "source": [
    "grid_3.fit(X1,y1)"
   ]
  },
  {
   "cell_type": "code",
   "execution_count": 82,
   "metadata": {},
   "outputs": [
    {
     "data": {
      "text/plain": [
       "{'adaboostclassifier__learning_rate': 0.6,\n",
       " 'adaboostclassifier__n_estimators': 100}"
      ]
     },
     "execution_count": 82,
     "metadata": {},
     "output_type": "execute_result"
    }
   ],
   "source": [
    "grid_3.best_params_"
   ]
  },
  {
   "cell_type": "code",
   "execution_count": 84,
   "metadata": {},
   "outputs": [
    {
     "data": {
      "text/plain": [
       "0.19482542809832332"
      ]
     },
     "execution_count": 84,
     "metadata": {},
     "output_type": "execute_result"
    }
   ],
   "source": [
    "grid_3.best_score_"
   ]
  },
  {
   "cell_type": "code",
   "execution_count": 86,
   "metadata": {},
   "outputs": [],
   "source": [
    "ytest_labels3=grid_3.predict(X2)\n",
    "ytest_prob3=grid_3.predict_proba(X2)[:,1]"
   ]
  },
  {
   "cell_type": "code",
   "execution_count": 163,
   "metadata": {},
   "outputs": [
    {
     "data": {
      "image/png": "[encoded data removed]",
      "text/plain": [
       "<Figure size 432x288 with 1 Axes>"
      ]
     },
     "metadata": {
      "needs_background": "light"
     },
     "output_type": "display_data"
    },
    {
     "name": "stdout",
     "output_type": "stream",
     "text": [
      "The optimal threshold is 0.4932159945800873\n",
      "The optimal f1score is 0.3847123057538849\n"
     ]
    },
    {
     "data": {
      "text/plain": [
       "(0.4932159945800873,\n",
       " 0.3847123057538849,\n",
       " 0.5210466439135382,\n",
       " 0.30492676431424764)"
      ]
     },
     "execution_count": 163,
     "metadata": {},
     "output_type": "execute_result"
    }
   ],
   "source": [
    "plot_pr_curve(y2,ytest_prob3)\n"
   ]
  },
  {
   "cell_type": "code",
   "execution_count": 88,
   "metadata": {},
   "outputs": [
    {
     "data": {
      "image/png": "[encoded data removed]",
      "text/plain": [
       "<Figure size 432x288 with 1 Axes>"
      ]
     },
     "metadata": {
      "needs_background": "light"
     },
     "output_type": "display_data"
    },
    {
     "name": "stdout",
     "output_type": "stream",
     "text": [
      "Area under the curve is 0.794236741641416\n",
      "The optimal threshold is 0.4918627360618871\n"
     ]
    }
   ],
   "source": [
    "plot_roc_curve(y2,ytest_prob3)"
   ]
  },
  {
   "cell_type": "code",
   "execution_count": 152,
   "metadata": {},
   "outputs": [
    {
     "data": {
      "text/plain": [
       "0.674270479158631"
      ]
     },
     "execution_count": 152,
     "metadata": {},
     "output_type": "execute_result"
    }
   ],
   "source": [
    "log_loss(y2, ytest_prob3, eps=1e-15)"
   ]
  },
  {
   "cell_type": "code",
   "execution_count": 90,
   "metadata": {},
   "outputs": [
    {
     "data": {
      "text/plain": [
       "[<matplotlib.lines.Line2D at 0x196c1113188>]"
      ]
     },
     "execution_count": 90,
     "metadata": {},
     "output_type": "execute_result"
    },
    {
     "data": {
      "image/png": "[encoded data removed]",
      "text/plain": [
       "<Figure size 432x288 with 1 Axes>"
      ]
     },
     "metadata": {
      "needs_background": "light"
     },
     "output_type": "display_data"
    }
   ],
   "source": [
    "fraction_of_positives3, mean_predicted_values3 = calibration_curve(y2, ytest_prob3, n_bins=10)\n",
    "plt.plot(mean_predicted_values3, fraction_of_positives3, 's-')\n",
    "plt.plot([0, 1], [0, 1], '--', color='gray')"
   ]
  },
  {
   "cell_type": "code",
   "execution_count": 91,
   "metadata": {},
   "outputs": [],
   "source": [
    "from sklearn.calibration import CalibratedClassifierCV"
   ]
  },
  {
   "cell_type": "code",
   "execution_count": 92,
   "metadata": {},
   "outputs": [],
   "source": [
    "calibration = CalibratedClassifierCV(base_estimator = grid_3 , cv='prefit')"
   ]
  },
  {
   "cell_type": "code",
   "execution_count": 93,
   "metadata": {},
   "outputs": [
    {
     "data": {
      "text/plain": [
       "CalibratedClassifierCV(base_estimator=GridSearchCV(cv=5,\n",
       "                                                   estimator=Pipeline(steps=[('adaboostclassifier',\n",
       "                                                                              AdaBoostClassifier())]),\n",
       "                                                   param_grid=[{'adaboostclassifier__learning_rate': array([0.1, 0.2, 0.3, 0.4, 0.5, 0.6, 0.7, 0.8, 0.9]),\n",
       "                                                                'adaboostclassifier__n_estimators': [100,\n",
       "                                                                                                     200,\n",
       "                                                                                                     300]}],\n",
       "                                                   scoring='f1', verbose=3),\n",
       "                       cv='prefit')"
      ]
     },
     "execution_count": 93,
     "metadata": {},
     "output_type": "execute_result"
    }
   ],
   "source": [
    "calibration.fit(X2,y2)"
   ]
  },
  {
   "cell_type": "code",
   "execution_count": 164,
   "metadata": {},
   "outputs": [
    {
     "data": {
      "image/png": "[encoded data removed]",
      "text/plain": [
       "<Figure size 432x288 with 1 Axes>"
      ]
     },
     "metadata": {
      "needs_background": "light"
     },
     "output_type": "display_data"
    },
    {
     "name": "stdout",
     "output_type": "stream",
     "text": [
      "The optimal threshold is 0.1623565244014897\n",
      "The optimal f1score is 0.3847123057538849\n"
     ]
    }
   ],
   "source": [
    "ytest_prob3C=calibration.predict_proba(X2)[:,1]\n",
    "threshold3,f1score3,recall3,precision3=plot_pr_curve(y2,ytest_prob3C)\n",
    "threshold3=np.around(threshold3,4)\n",
    "f1score3=np.around(f1score3,4)\n",
    "recall3=np.around(recall3,4)\n",
    "precision3=np.around(precision3,4)"
   ]
  },
  {
   "cell_type": "code",
   "execution_count": 95,
   "metadata": {},
   "outputs": [
    {
     "data": {
      "text/plain": [
       "[<matplotlib.lines.Line2D at 0x196c116eb48>]"
      ]
     },
     "execution_count": 95,
     "metadata": {},
     "output_type": "execute_result"
    },
    {
     "data": {
      "image/png": "[encoded data removed]",
      "text/plain": [
       "<Figure size 432x288 with 1 Axes>"
      ]
     },
     "metadata": {
      "needs_background": "light"
     },
     "output_type": "display_data"
    }
   ],
   "source": [
    "fraction_of_positives3C, mean_predicted_values3C = calibration_curve(y2, ytest_prob3C, n_bins=10)\n",
    "plt.plot(mean_predicted_values3C, fraction_of_positives3C, 's-')\n",
    "plt.plot([0, 1], [0, 1], '--', color='gray')"
   ]
  },
  {
   "cell_type": "code",
   "execution_count": 151,
   "metadata": {},
   "outputs": [],
   "source": [
    "log_loss3=log_loss(y2, ytest_prob3C, eps=1e-15)\n",
    "log_loss3=np.around(log_loss3,4)"
   ]
  },
  {
   "cell_type": "code",
   "execution_count": 127,
   "metadata": {},
   "outputs": [
    {
     "data": {
      "text/plain": [
       "[<matplotlib.lines.Line2D at 0x196c1113788>]"
      ]
     },
     "execution_count": 127,
     "metadata": {},
     "output_type": "execute_result"
    },
    {
     "data": {
      "image/png": "[encoded data removed]",
      "text/plain": [
       "<Figure size 432x288 with 1 Axes>"
      ]
     },
     "metadata": {
      "needs_background": "light"
     },
     "output_type": "display_data"
    }
   ],
   "source": [
    "precision1, recall1, thresholds1 = metrics.precision_recall_curve(y2, ytest_prob1)\n",
    "precision2, recall2, thresholds2 = metrics.precision_recall_curve(y2, ytest_prob2)\n",
    "precision3, recall3, thresholds3 = metrics.precision_recall_curve(y2, ytest_prob3)\n",
    "plt.plot(recall1, precision1, color='blue')\n",
    "plt.plot(recall2, precision2, color='red')\n",
    "plt.plot(recall3, precision3, color='black')\n",
    "\n"
   ]
  },
  {
   "cell_type": "code",
   "execution_count": 129,
   "metadata": {},
   "outputs": [
    {
     "data": {
      "text/plain": [
       "[<matplotlib.lines.Line2D at 0x196be575448>]"
      ]
     },
     "execution_count": 129,
     "metadata": {},
     "output_type": "execute_result"
    },
    {
     "data": {
      "image/png": "[encoded data removed]",
      "text/plain": [
       "<Figure size 432x288 with 1 Axes>"
      ]
     },
     "metadata": {
      "needs_background": "light"
     },
     "output_type": "display_data"
    }
   ],
   "source": [
    "fpr1, tpr1, thresholds1 = metrics.roc_curve(y2, ytest_prob1)\n",
    "fpr2, tpr2, thresholds2 = metrics.roc_curve(y2, ytest_prob2)\n",
    "fpr3, tpr3, thresholds3 = metrics.roc_curve(y2, ytest_prob3)\n",
    "plt.plot(fpr1, tpr1, color='blue')\n",
    "plt.plot(fpr2, tpr2, color='red')\n",
    "plt.plot(fpr3, tpr3, color='black')\n"
   ]
  },
  {
   "cell_type": "code",
   "execution_count": 130,
   "metadata": {},
   "outputs": [],
   "source": [
    "from tabulate import tabulate"
   ]
  },
  {
   "cell_type": "code",
   "execution_count": 165,
   "metadata": {},
   "outputs": [],
   "source": [
    "table = [['Model','Threshold','F1score','Precision','Recall','Log_loss'],['Logistic Regression',threshold1,f1score1,precision1,recall1,log_loss1],['Random Forest',threshold2,f1score2,precision2,recall2,log_loss2],['AdaBOOST',threshold3,f1score3,precision3,recall3,log_loss3]]"
   ]
  },
  {
   "cell_type": "code",
   "execution_count": 166,
   "metadata": {},
   "outputs": [
    {
     "data": {
      "text/plain": [
       "[['Model', 'Threshold', 'F1score', 'Precision', 'Recall', 'Log_loss'],\n",
       " ['Logistic Regression', 0.1591, 0.3904, 0.306, 0.5392, 0.2739],\n",
       " ['Random Forest', 0.1611, 0.3735, 0.2823, 0.5518, 0.2762],\n",
       " ['AdaBOOST', 0.1624, 0.3847, 0.3049, 0.521, 0.2741]]"
      ]
     },
     "execution_count": 166,
     "metadata": {},
     "output_type": "execute_result"
    }
   ],
   "source": [
    "table"
   ]
  },
  {
   "cell_type": "code",
   "execution_count": 167,
   "metadata": {},
   "outputs": [
    {
     "name": "stdout",
     "output_type": "stream",
     "text": [
      "╒═════════════════════╤═════════════╤═══════════╤═════════════╤══════════╤════════════╕\n",
      "│ Model               │   Threshold │   F1score │   Precision │   Recall │   Log_loss │\n",
      "╞═════════════════════╪═════════════╪═══════════╪═════════════╪══════════╪════════════╡\n",
      "│ Logistic Regression │      0.1591 │    0.3904 │      0.306  │   0.5392 │     0.2739 │\n",
      "├─────────────────────┼─────────────┼───────────┼─────────────┼──────────┼────────────┤\n",
      "│ Random Forest       │      0.1611 │    0.3735 │      0.2823 │   0.5518 │     0.2762 │\n",
      "├─────────────────────┼─────────────┼───────────┼─────────────┼──────────┼────────────┤\n",
      "│ AdaBOOST            │      0.1624 │    0.3847 │      0.3049 │   0.521  │     0.2741 │\n",
      "╘═════════════════════╧═════════════╧═══════════╧═════════════╧══════════╧════════════╛\n"
     ]
    }
   ],
   "source": [
    "print(tabulate(table, headers='firstrow', tablefmt='fancy_grid'))"
   ]
  },
  {
   "cell_type": "code",
   "execution_count": 170,
   "metadata": {},
   "outputs": [],
   "source": [
    "xG=grid_1.predict_proba(model_input)[:,1]"
   ]
  },
  {
   "cell_type": "code",
   "execution_count": 172,
   "metadata": {},
   "outputs": [],
   "source": [
    "xG=np.around(xG,4)"
   ]
  },
  {
   "cell_type": "code",
   "execution_count": 174,
   "metadata": {},
   "outputs": [],
   "source": [
    "allshots['xG']=xG"
   ]
  },
  {
   "cell_type": "code",
   "execution_count": 175,
   "metadata": {},
   "outputs": [],
   "source": [
    "allshots.to_csv('allshots.csv',index=False)"
   ]
  },
  {
   "cell_type": "code",
   "execution_count": 176,
   "metadata": {},
   "outputs": [
    {
     "data": {
      "text/html": [
       "<div>\n",
       "<style scoped>\n",
       "    .dataframe tbody tr th:only-of-type {\n",
       "        vertical-align: middle;\n",
       "    }\n",
       "\n",
       "    .dataframe tbody tr th {\n",
       "        vertical-align: top;\n",
       "    }\n",
       "\n",
       "    .dataframe thead th {\n",
       "        text-align: right;\n",
       "    }\n",
       "</style>\n",
       "<table border=\"1\" class=\"dataframe\">\n",
       "  <thead>\n",
       "    <tr style=\"text-align: right;\">\n",
       "      <th></th>\n",
       "      <th>playerId</th>\n",
       "      <th>id</th>\n",
       "      <th>x_coordinates</th>\n",
       "      <th>y_coordinates</th>\n",
       "      <th>blocked</th>\n",
       "      <th>goal</th>\n",
       "      <th>time</th>\n",
       "      <th>matchPeriod</th>\n",
       "      <th>counter</th>\n",
       "      <th>competition</th>\n",
       "      <th>foot</th>\n",
       "      <th>bodypart</th>\n",
       "      <th>preferrence</th>\n",
       "      <th>angles</th>\n",
       "      <th>distance</th>\n",
       "      <th>headers</th>\n",
       "      <th>xG</th>\n",
       "    </tr>\n",
       "  </thead>\n",
       "  <tbody>\n",
       "    <tr>\n",
       "      <th>0</th>\n",
       "      <td>25413</td>\n",
       "      <td>177959212</td>\n",
       "      <td>92.40</td>\n",
       "      <td>27.88</td>\n",
       "      <td>0.0</td>\n",
       "      <td>1.0</td>\n",
       "      <td>2.0</td>\n",
       "      <td>0</td>\n",
       "      <td>0.0</td>\n",
       "      <td>0</td>\n",
       "      <td>1.0</td>\n",
       "      <td>1.0</td>\n",
       "      <td>1.0</td>\n",
       "      <td>26.77</td>\n",
       "      <td>14.01</td>\n",
       "      <td>0.0</td>\n",
       "      <td>0.1393</td>\n",
       "    </tr>\n",
       "    <tr>\n",
       "      <th>1</th>\n",
       "      <td>26150</td>\n",
       "      <td>177959247</td>\n",
       "      <td>89.25</td>\n",
       "      <td>35.36</td>\n",
       "      <td>0.0</td>\n",
       "      <td>0.0</td>\n",
       "      <td>3.0</td>\n",
       "      <td>0</td>\n",
       "      <td>0.0</td>\n",
       "      <td>0</td>\n",
       "      <td>0.0</td>\n",
       "      <td>2.0</td>\n",
       "      <td>1.0</td>\n",
       "      <td>25.99</td>\n",
       "      <td>15.81</td>\n",
       "      <td>0.0</td>\n",
       "      <td>0.1151</td>\n",
       "    </tr>\n",
       "    <tr>\n",
       "      <th>2</th>\n",
       "      <td>14763</td>\n",
       "      <td>177959280</td>\n",
       "      <td>100.80</td>\n",
       "      <td>35.36</td>\n",
       "      <td>0.0</td>\n",
       "      <td>1.0</td>\n",
       "      <td>4.0</td>\n",
       "      <td>0</td>\n",
       "      <td>0.0</td>\n",
       "      <td>0</td>\n",
       "      <td>1.0</td>\n",
       "      <td>3.0</td>\n",
       "      <td>1.0</td>\n",
       "      <td>78.79</td>\n",
       "      <td>4.41</td>\n",
       "      <td>1.0</td>\n",
       "      <td>0.4062</td>\n",
       "    </tr>\n",
       "    <tr>\n",
       "      <th>3</th>\n",
       "      <td>7868</td>\n",
       "      <td>177959289</td>\n",
       "      <td>85.05</td>\n",
       "      <td>22.44</td>\n",
       "      <td>0.0</td>\n",
       "      <td>0.0</td>\n",
       "      <td>7.0</td>\n",
       "      <td>0</td>\n",
       "      <td>0.0</td>\n",
       "      <td>0</td>\n",
       "      <td>1.0</td>\n",
       "      <td>2.0</td>\n",
       "      <td>0.0</td>\n",
       "      <td>15.74</td>\n",
       "      <td>23.06</td>\n",
       "      <td>0.0</td>\n",
       "      <td>0.0374</td>\n",
       "    </tr>\n",
       "    <tr>\n",
       "      <th>4</th>\n",
       "      <td>7868</td>\n",
       "      <td>177959429</td>\n",
       "      <td>78.75</td>\n",
       "      <td>20.40</td>\n",
       "      <td>0.0</td>\n",
       "      <td>0.0</td>\n",
       "      <td>14.0</td>\n",
       "      <td>0</td>\n",
       "      <td>0.0</td>\n",
       "      <td>0</td>\n",
       "      <td>1.0</td>\n",
       "      <td>1.0</td>\n",
       "      <td>1.0</td>\n",
       "      <td>12.59</td>\n",
       "      <td>29.56</td>\n",
       "      <td>0.0</td>\n",
       "      <td>0.0198</td>\n",
       "    </tr>\n",
       "    <tr>\n",
       "      <th>...</th>\n",
       "      <td>...</td>\n",
       "      <td>...</td>\n",
       "      <td>...</td>\n",
       "      <td>...</td>\n",
       "      <td>...</td>\n",
       "      <td>...</td>\n",
       "      <td>...</td>\n",
       "      <td>...</td>\n",
       "      <td>...</td>\n",
       "      <td>...</td>\n",
       "      <td>...</td>\n",
       "      <td>...</td>\n",
       "      <td>...</td>\n",
       "      <td>...</td>\n",
       "      <td>...</td>\n",
       "      <td>...</td>\n",
       "      <td>...</td>\n",
       "    </tr>\n",
       "    <tr>\n",
       "      <th>43073</th>\n",
       "      <td>25575</td>\n",
       "      <td>90588469</td>\n",
       "      <td>81.90</td>\n",
       "      <td>41.48</td>\n",
       "      <td>1.0</td>\n",
       "      <td>0.0</td>\n",
       "      <td>85.0</td>\n",
       "      <td>1</td>\n",
       "      <td>0.0</td>\n",
       "      <td>6</td>\n",
       "      <td>1.0</td>\n",
       "      <td>2.0</td>\n",
       "      <td>0.0</td>\n",
       "      <td>16.36</td>\n",
       "      <td>24.28</td>\n",
       "      <td>0.0</td>\n",
       "      <td>0.0328</td>\n",
       "    </tr>\n",
       "    <tr>\n",
       "      <th>43074</th>\n",
       "      <td>25575</td>\n",
       "      <td>90588583</td>\n",
       "      <td>97.65</td>\n",
       "      <td>28.56</td>\n",
       "      <td>0.0</td>\n",
       "      <td>0.0</td>\n",
       "      <td>91.0</td>\n",
       "      <td>1</td>\n",
       "      <td>0.0</td>\n",
       "      <td>6</td>\n",
       "      <td>1.0</td>\n",
       "      <td>1.0</td>\n",
       "      <td>1.0</td>\n",
       "      <td>37.46</td>\n",
       "      <td>9.14</td>\n",
       "      <td>0.0</td>\n",
       "      <td>0.2671</td>\n",
       "    </tr>\n",
       "    <tr>\n",
       "      <th>43075</th>\n",
       "      <td>70410</td>\n",
       "      <td>90589205</td>\n",
       "      <td>94.50</td>\n",
       "      <td>25.84</td>\n",
       "      <td>0.0</td>\n",
       "      <td>0.0</td>\n",
       "      <td>13.0</td>\n",
       "      <td>2</td>\n",
       "      <td>0.0</td>\n",
       "      <td>6</td>\n",
       "      <td>1.0</td>\n",
       "      <td>3.0</td>\n",
       "      <td>1.0</td>\n",
       "      <td>25.19</td>\n",
       "      <td>13.30</td>\n",
       "      <td>1.0</td>\n",
       "      <td>0.0580</td>\n",
       "    </tr>\n",
       "    <tr>\n",
       "      <th>43076</th>\n",
       "      <td>70410</td>\n",
       "      <td>90589254</td>\n",
       "      <td>80.85</td>\n",
       "      <td>31.28</td>\n",
       "      <td>0.0</td>\n",
       "      <td>1.0</td>\n",
       "      <td>3.0</td>\n",
       "      <td>3</td>\n",
       "      <td>0.0</td>\n",
       "      <td>6</td>\n",
       "      <td>1.0</td>\n",
       "      <td>1.0</td>\n",
       "      <td>1.0</td>\n",
       "      <td>17.03</td>\n",
       "      <td>24.30</td>\n",
       "      <td>0.0</td>\n",
       "      <td>0.0392</td>\n",
       "    </tr>\n",
       "    <tr>\n",
       "      <th>43077</th>\n",
       "      <td>134513</td>\n",
       "      <td>90589034</td>\n",
       "      <td>91.35</td>\n",
       "      <td>27.20</td>\n",
       "      <td>1.0</td>\n",
       "      <td>0.0</td>\n",
       "      <td>16.0</td>\n",
       "      <td>3</td>\n",
       "      <td>0.0</td>\n",
       "      <td>6</td>\n",
       "      <td>1.0</td>\n",
       "      <td>1.0</td>\n",
       "      <td>1.0</td>\n",
       "      <td>24.51</td>\n",
       "      <td>15.25</td>\n",
       "      <td>0.0</td>\n",
       "      <td>0.1174</td>\n",
       "    </tr>\n",
       "  </tbody>\n",
       "</table>\n",
       "<p>43078 rows × 17 columns</p>\n",
       "</div>"
      ],
      "text/plain": [
       "       playerId         id  x_coordinates  y_coordinates  blocked  goal  time  \\\n",
       "0         25413  177959212          92.40          27.88      0.0   1.0   2.0   \n",
       "1         26150  177959247          89.25          35.36      0.0   0.0   3.0   \n",
       "2         14763  177959280         100.80          35.36      0.0   1.0   4.0   \n",
       "3          7868  177959289          85.05          22.44      0.0   0.0   7.0   \n",
       "4          7868  177959429          78.75          20.40      0.0   0.0  14.0   \n",
       "...         ...        ...            ...            ...      ...   ...   ...   \n",
       "43073     25575   90588469          81.90          41.48      1.0   0.0  85.0   \n",
       "43074     25575   90588583          97.65          28.56      0.0   0.0  91.0   \n",
       "43075     70410   90589205          94.50          25.84      0.0   0.0  13.0   \n",
       "43076     70410   90589254          80.85          31.28      0.0   1.0   3.0   \n",
       "43077    134513   90589034          91.35          27.20      1.0   0.0  16.0   \n",
       "\n",
       "       matchPeriod  counter  competition  foot  bodypart  preferrence  angles  \\\n",
       "0                0      0.0            0   1.0       1.0          1.0   26.77   \n",
       "1                0      0.0            0   0.0       2.0          1.0   25.99   \n",
       "2                0      0.0            0   1.0       3.0          1.0   78.79   \n",
       "3                0      0.0            0   1.0       2.0          0.0   15.74   \n",
       "4                0      0.0            0   1.0       1.0          1.0   12.59   \n",
       "...            ...      ...          ...   ...       ...          ...     ...   \n",
       "43073            1      0.0            6   1.0       2.0          0.0   16.36   \n",
       "43074            1      0.0            6   1.0       1.0          1.0   37.46   \n",
       "43075            2      0.0            6   1.0       3.0          1.0   25.19   \n",
       "43076            3      0.0            6   1.0       1.0          1.0   17.03   \n",
       "43077            3      0.0            6   1.0       1.0          1.0   24.51   \n",
       "\n",
       "       distance  headers      xG  \n",
       "0         14.01      0.0  0.1393  \n",
       "1         15.81      0.0  0.1151  \n",
       "2          4.41      1.0  0.4062  \n",
       "3         23.06      0.0  0.0374  \n",
       "4         29.56      0.0  0.0198  \n",
       "...         ...      ...     ...  \n",
       "43073     24.28      0.0  0.0328  \n",
       "43074      9.14      0.0  0.2671  \n",
       "43075     13.30      1.0  0.0580  \n",
       "43076     24.30      0.0  0.0392  \n",
       "43077     15.25      0.0  0.1174  \n",
       "\n",
       "[43078 rows x 17 columns]"
      ]
     },
     "execution_count": 176,
     "metadata": {},
     "output_type": "execute_result"
    }
   ],
   "source": [
    "allshots"
   ]
  },
  {
   "cell_type": "raw",
   "metadata": {},
   "source": [
    "HEATMAP DATA"
   ]
  },
  {
   "cell_type": "code",
   "execution_count": 272,
   "metadata": {},
   "outputs": [],
   "source": [
    "y=[]\n",
    "l=np.arange(0,68,2)\n",
    "x=np.arange(50,106,2)\n",
    "k=len(x)\n",
    "for i in range(69):\n",
    "    for j in range(k):\n",
    "        y=np.append(y,i)\n",
    "\n",
    "x=np.vstack([x]*69)\n",
    "x=np.ravel(x)\n",
    "        \n",
    "    \n",
    "    \n",
    "    "
   ]
  },
  {
   "cell_type": "code",
   "execution_count": 273,
   "metadata": {},
   "outputs": [],
   "source": [
    "heatmap_data = pd.DataFrame(x ,columns=['x'])\n",
    "heatmap_data['y']=y"
   ]
  },
  {
   "cell_type": "code",
   "execution_count": 274,
   "metadata": {},
   "outputs": [
    {
     "data": {
      "text/html": [
       "<div>\n",
       "<style scoped>\n",
       "    .dataframe tbody tr th:only-of-type {\n",
       "        vertical-align: middle;\n",
       "    }\n",
       "\n",
       "    .dataframe tbody tr th {\n",
       "        vertical-align: top;\n",
       "    }\n",
       "\n",
       "    .dataframe thead th {\n",
       "        text-align: right;\n",
       "    }\n",
       "</style>\n",
       "<table border=\"1\" class=\"dataframe\">\n",
       "  <thead>\n",
       "    <tr style=\"text-align: right;\">\n",
       "      <th></th>\n",
       "      <th>x</th>\n",
       "      <th>y</th>\n",
       "    </tr>\n",
       "  </thead>\n",
       "  <tbody>\n",
       "    <tr>\n",
       "      <th>0</th>\n",
       "      <td>50</td>\n",
       "      <td>0.0</td>\n",
       "    </tr>\n",
       "    <tr>\n",
       "      <th>1</th>\n",
       "      <td>52</td>\n",
       "      <td>0.0</td>\n",
       "    </tr>\n",
       "    <tr>\n",
       "      <th>2</th>\n",
       "      <td>54</td>\n",
       "      <td>0.0</td>\n",
       "    </tr>\n",
       "    <tr>\n",
       "      <th>3</th>\n",
       "      <td>56</td>\n",
       "      <td>0.0</td>\n",
       "    </tr>\n",
       "    <tr>\n",
       "      <th>4</th>\n",
       "      <td>58</td>\n",
       "      <td>0.0</td>\n",
       "    </tr>\n",
       "    <tr>\n",
       "      <th>...</th>\n",
       "      <td>...</td>\n",
       "      <td>...</td>\n",
       "    </tr>\n",
       "    <tr>\n",
       "      <th>1927</th>\n",
       "      <td>96</td>\n",
       "      <td>68.0</td>\n",
       "    </tr>\n",
       "    <tr>\n",
       "      <th>1928</th>\n",
       "      <td>98</td>\n",
       "      <td>68.0</td>\n",
       "    </tr>\n",
       "    <tr>\n",
       "      <th>1929</th>\n",
       "      <td>100</td>\n",
       "      <td>68.0</td>\n",
       "    </tr>\n",
       "    <tr>\n",
       "      <th>1930</th>\n",
       "      <td>102</td>\n",
       "      <td>68.0</td>\n",
       "    </tr>\n",
       "    <tr>\n",
       "      <th>1931</th>\n",
       "      <td>104</td>\n",
       "      <td>68.0</td>\n",
       "    </tr>\n",
       "  </tbody>\n",
       "</table>\n",
       "<p>1932 rows × 2 columns</p>\n",
       "</div>"
      ],
      "text/plain": [
       "        x     y\n",
       "0      50   0.0\n",
       "1      52   0.0\n",
       "2      54   0.0\n",
       "3      56   0.0\n",
       "4      58   0.0\n",
       "...   ...   ...\n",
       "1927   96  68.0\n",
       "1928   98  68.0\n",
       "1929  100  68.0\n",
       "1930  102  68.0\n",
       "1931  104  68.0\n",
       "\n",
       "[1932 rows x 2 columns]"
      ]
     },
     "execution_count": 274,
     "metadata": {},
     "output_type": "execute_result"
    }
   ],
   "source": [
    "heatmap_data"
   ]
  },
  {
   "cell_type": "code",
   "execution_count": 275,
   "metadata": {},
   "outputs": [],
   "source": [
    "heatmap_input=allshots[['x_coordinates','y_coordinates','distance','angles']]\n",
    "heatmap_output=allshots['goal']"
   ]
  },
  {
   "cell_type": "code",
   "execution_count": 276,
   "metadata": {},
   "outputs": [],
   "source": [
    "from sklearn.model_selection import train_test_split\n",
    "X1, X2, y1, y2 = train_test_split(heatmap_input, heatmap_output, random_state=0,\n",
    "train_size=0.8)"
   ]
  },
  {
   "cell_type": "code",
   "execution_count": 169,
   "metadata": {},
   "outputs": [],
   "source": [
    "from sklearn.model_selection import GridSearchCV\n",
    "from sklearn.linear_model import LogisticRegression\n",
    "from sklearn.pipeline import make_pipeline\n",
    "pipe_t=make_pipeline(LogisticRegression())"
   ]
  },
  {
   "cell_type": "code",
   "execution_count": 170,
   "metadata": {},
   "outputs": [],
   "source": [
    "grid_values = [{'logisticregression__C': [0.001,0.01,0.1,1,3,5,7,10,100]}]"
   ]
  },
  {
   "cell_type": "code",
   "execution_count": 171,
   "metadata": {},
   "outputs": [],
   "source": [
    "grid_t = GridSearchCV(pipe_t, param_grid = grid_values,scoring = 'f1',verbose=3, cv=5)"
   ]
  },
  {
   "cell_type": "code",
   "execution_count": 172,
   "metadata": {
    "scrolled": true
   },
   "outputs": [
    {
     "name": "stdout",
     "output_type": "stream",
     "text": [
      "Fitting 5 folds for each of 9 candidates, totalling 45 fits\n",
      "[CV] logisticregression__C=0.001 .....................................\n"
     ]
    },
    {
     "name": "stderr",
     "output_type": "stream",
     "text": [
      "[Parallel(n_jobs=1)]: Using backend SequentialBackend with 1 concurrent workers.\n"
     ]
    },
    {
     "name": "stdout",
     "output_type": "stream",
     "text": [
      "[CV] ......... logisticregression__C=0.001, score=0.143, total=   0.2s\n",
      "[CV] logisticregression__C=0.001 .....................................\n",
      "[CV] ......... logisticregression__C=0.001, score=0.127, total=   0.1s\n",
      "[CV] logisticregression__C=0.001 .....................................\n",
      "[CV] ......... logisticregression__C=0.001, score=0.133, total=   0.1s\n",
      "[CV] logisticregression__C=0.001 .....................................\n"
     ]
    },
    {
     "name": "stderr",
     "output_type": "stream",
     "text": [
      "[Parallel(n_jobs=1)]: Done   1 out of   1 | elapsed:    0.1s remaining:    0.0s\n",
      "[Parallel(n_jobs=1)]: Done   2 out of   2 | elapsed:    0.2s remaining:    0.0s\n"
     ]
    },
    {
     "name": "stdout",
     "output_type": "stream",
     "text": [
      "[CV] ......... logisticregression__C=0.001, score=0.142, total=   0.1s\n",
      "[CV] logisticregression__C=0.001 .....................................\n",
      "[CV] ......... logisticregression__C=0.001, score=0.132, total=   0.1s\n",
      "[CV] logisticregression__C=0.01 ......................................\n",
      "[CV] .......... logisticregression__C=0.01, score=0.135, total=   0.1s\n",
      "[CV] logisticregression__C=0.01 ......................................\n",
      "[CV] .......... logisticregression__C=0.01, score=0.115, total=   0.1s\n",
      "[CV] logisticregression__C=0.01 ......................................\n",
      "[CV] .......... logisticregression__C=0.01, score=0.133, total=   0.1s\n",
      "[CV] logisticregression__C=0.01 ......................................\n",
      "[CV] .......... logisticregression__C=0.01, score=0.142, total=   0.1s\n",
      "[CV] logisticregression__C=0.01 ......................................\n",
      "[CV] .......... logisticregression__C=0.01, score=0.132, total=   0.1s\n",
      "[CV] logisticregression__C=0.1 .......................................\n",
      "[CV] ........... logisticregression__C=0.1, score=0.135, total=   0.1s\n",
      "[CV] logisticregression__C=0.1 .......................................\n",
      "[CV] ........... logisticregression__C=0.1, score=0.115, total=   0.1s\n",
      "[CV] logisticregression__C=0.1 .......................................\n",
      "[CV] ........... logisticregression__C=0.1, score=0.133, total=   0.1s\n",
      "[CV] logisticregression__C=0.1 .......................................\n",
      "[CV] ........... logisticregression__C=0.1, score=0.142, total=   0.1s\n",
      "[CV] logisticregression__C=0.1 .......................................\n",
      "[CV] ........... logisticregression__C=0.1, score=0.132, total=   0.1s\n",
      "[CV] logisticregression__C=1 .........................................\n",
      "[CV] ............. logisticregression__C=1, score=0.135, total=   0.1s\n",
      "[CV] logisticregression__C=1 .........................................\n",
      "[CV] ............. logisticregression__C=1, score=0.115, total=   0.1s\n",
      "[CV] logisticregression__C=1 .........................................\n",
      "[CV] ............. logisticregression__C=1, score=0.133, total=   0.1s\n",
      "[CV] logisticregression__C=1 .........................................\n",
      "[CV] ............. logisticregression__C=1, score=0.142, total=   0.1s\n",
      "[CV] logisticregression__C=1 .........................................\n",
      "[CV] ............. logisticregression__C=1, score=0.132, total=   0.1s\n",
      "[CV] logisticregression__C=3 .........................................\n",
      "[CV] ............. logisticregression__C=3, score=0.135, total=   0.1s\n",
      "[CV] logisticregression__C=3 .........................................\n",
      "[CV] ............. logisticregression__C=3, score=0.115, total=   0.1s\n",
      "[CV] logisticregression__C=3 .........................................\n",
      "[CV] ............. logisticregression__C=3, score=0.133, total=   0.1s\n",
      "[CV] logisticregression__C=3 .........................................\n",
      "[CV] ............. logisticregression__C=3, score=0.142, total=   0.1s\n",
      "[CV] logisticregression__C=3 .........................................\n",
      "[CV] ............. logisticregression__C=3, score=0.132, total=   0.1s\n",
      "[CV] logisticregression__C=5 .........................................\n",
      "[CV] ............. logisticregression__C=5, score=0.135, total=   0.1s\n",
      "[CV] logisticregression__C=5 .........................................\n",
      "[CV] ............. logisticregression__C=5, score=0.115, total=   0.1s\n",
      "[CV] logisticregression__C=5 .........................................\n",
      "[CV] ............. logisticregression__C=5, score=0.133, total=   0.1s\n",
      "[CV] logisticregression__C=5 .........................................\n",
      "[CV] ............. logisticregression__C=5, score=0.142, total=   0.1s\n",
      "[CV] logisticregression__C=5 .........................................\n",
      "[CV] ............. logisticregression__C=5, score=0.132, total=   0.1s\n",
      "[CV] logisticregression__C=7 .........................................\n",
      "[CV] ............. logisticregression__C=7, score=0.135, total=   0.1s\n",
      "[CV] logisticregression__C=7 .........................................\n",
      "[CV] ............. logisticregression__C=7, score=0.115, total=   0.1s\n",
      "[CV] logisticregression__C=7 .........................................\n",
      "[CV] ............. logisticregression__C=7, score=0.133, total=   0.1s\n",
      "[CV] logisticregression__C=7 .........................................\n",
      "[CV] ............. logisticregression__C=7, score=0.142, total=   0.1s\n",
      "[CV] logisticregression__C=7 .........................................\n",
      "[CV] ............. logisticregression__C=7, score=0.132, total=   0.1s\n",
      "[CV] logisticregression__C=10 ........................................\n",
      "[CV] ............ logisticregression__C=10, score=0.135, total=   0.1s\n",
      "[CV] logisticregression__C=10 ........................................\n",
      "[CV] ............ logisticregression__C=10, score=0.115, total=   0.1s\n",
      "[CV] logisticregression__C=10 ........................................\n",
      "[CV] ............ logisticregression__C=10, score=0.133, total=   0.1s\n",
      "[CV] logisticregression__C=10 ........................................\n",
      "[CV] ............ logisticregression__C=10, score=0.142, total=   0.1s\n",
      "[CV] logisticregression__C=10 ........................................\n",
      "[CV] ............ logisticregression__C=10, score=0.132, total=   0.1s\n",
      "[CV] logisticregression__C=100 .......................................\n",
      "[CV] ........... logisticregression__C=100, score=0.135, total=   0.1s\n",
      "[CV] logisticregression__C=100 .......................................\n",
      "[CV] ........... logisticregression__C=100, score=0.115, total=   0.1s\n",
      "[CV] logisticregression__C=100 .......................................\n",
      "[CV] ........... logisticregression__C=100, score=0.133, total=   0.1s\n",
      "[CV] logisticregression__C=100 .......................................\n",
      "[CV] ........... logisticregression__C=100, score=0.142, total=   0.1s\n",
      "[CV] logisticregression__C=100 .......................................\n",
      "[CV] ........... logisticregression__C=100, score=0.132, total=   0.1s\n"
     ]
    },
    {
     "name": "stderr",
     "output_type": "stream",
     "text": [
      "[Parallel(n_jobs=1)]: Done  45 out of  45 | elapsed:    3.6s finished\n"
     ]
    },
    {
     "data": {
      "text/plain": [
       "GridSearchCV(cv=5,\n",
       "             estimator=Pipeline(steps=[('logisticregression',\n",
       "                                        LogisticRegression())]),\n",
       "             param_grid=[{'logisticregression__C': [0.001, 0.01, 0.1, 1, 3, 5,\n",
       "                                                    7, 10, 100]}],\n",
       "             scoring='f1', verbose=3)"
      ]
     },
     "execution_count": 172,
     "metadata": {},
     "output_type": "execute_result"
    }
   ],
   "source": [
    "grid_t.fit(X1,y1)"
   ]
  },
  {
   "cell_type": "code",
   "execution_count": 173,
   "metadata": {},
   "outputs": [
    {
     "data": {
      "text/plain": [
       "0.135294944394586"
      ]
     },
     "execution_count": 173,
     "metadata": {},
     "output_type": "execute_result"
    }
   ],
   "source": [
    "grid_t.best_score_"
   ]
  },
  {
   "cell_type": "code",
   "execution_count": 277,
   "metadata": {},
   "outputs": [
    {
     "data": {
      "text/html": [
       "<div>\n",
       "<style scoped>\n",
       "    .dataframe tbody tr th:only-of-type {\n",
       "        vertical-align: middle;\n",
       "    }\n",
       "\n",
       "    .dataframe tbody tr th {\n",
       "        vertical-align: top;\n",
       "    }\n",
       "\n",
       "    .dataframe thead th {\n",
       "        text-align: right;\n",
       "    }\n",
       "</style>\n",
       "<table border=\"1\" class=\"dataframe\">\n",
       "  <thead>\n",
       "    <tr style=\"text-align: right;\">\n",
       "      <th></th>\n",
       "      <th>x</th>\n",
       "      <th>y</th>\n",
       "    </tr>\n",
       "  </thead>\n",
       "  <tbody>\n",
       "    <tr>\n",
       "      <th>0</th>\n",
       "      <td>50</td>\n",
       "      <td>0.0</td>\n",
       "    </tr>\n",
       "    <tr>\n",
       "      <th>1</th>\n",
       "      <td>52</td>\n",
       "      <td>0.0</td>\n",
       "    </tr>\n",
       "    <tr>\n",
       "      <th>2</th>\n",
       "      <td>54</td>\n",
       "      <td>0.0</td>\n",
       "    </tr>\n",
       "    <tr>\n",
       "      <th>3</th>\n",
       "      <td>56</td>\n",
       "      <td>0.0</td>\n",
       "    </tr>\n",
       "    <tr>\n",
       "      <th>4</th>\n",
       "      <td>58</td>\n",
       "      <td>0.0</td>\n",
       "    </tr>\n",
       "    <tr>\n",
       "      <th>...</th>\n",
       "      <td>...</td>\n",
       "      <td>...</td>\n",
       "    </tr>\n",
       "    <tr>\n",
       "      <th>1927</th>\n",
       "      <td>96</td>\n",
       "      <td>68.0</td>\n",
       "    </tr>\n",
       "    <tr>\n",
       "      <th>1928</th>\n",
       "      <td>98</td>\n",
       "      <td>68.0</td>\n",
       "    </tr>\n",
       "    <tr>\n",
       "      <th>1929</th>\n",
       "      <td>100</td>\n",
       "      <td>68.0</td>\n",
       "    </tr>\n",
       "    <tr>\n",
       "      <th>1930</th>\n",
       "      <td>102</td>\n",
       "      <td>68.0</td>\n",
       "    </tr>\n",
       "    <tr>\n",
       "      <th>1931</th>\n",
       "      <td>104</td>\n",
       "      <td>68.0</td>\n",
       "    </tr>\n",
       "  </tbody>\n",
       "</table>\n",
       "<p>1932 rows × 2 columns</p>\n",
       "</div>"
      ],
      "text/plain": [
       "        x     y\n",
       "0      50   0.0\n",
       "1      52   0.0\n",
       "2      54   0.0\n",
       "3      56   0.0\n",
       "4      58   0.0\n",
       "...   ...   ...\n",
       "1927   96  68.0\n",
       "1928   98  68.0\n",
       "1929  100  68.0\n",
       "1930  102  68.0\n",
       "1931  104  68.0\n",
       "\n",
       "[1932 rows x 2 columns]"
      ]
     },
     "execution_count": 277,
     "metadata": {},
     "output_type": "execute_result"
    }
   ],
   "source": [
    "heatmap_data"
   ]
  },
  {
   "cell_type": "code",
   "execution_count": 278,
   "metadata": {},
   "outputs": [],
   "source": [
    "m=len(x)\n",
    "distance=np.zeros(m)\n",
    "for i in range(m):\n",
    "    temp = np.sqrt(np.square(x[i]-105) + np.square(34-y[i]))\n",
    "    distance[i]=temp\n",
    "distance=np.around(distance,2)\n",
    "angles=np.zeros(m)\n",
    "for i in range(m):\n",
    "    dx = (np.square(x[i]-105) + np.square(30.34-y[i]))\n",
    "    dy = (np.square(x[i]-105) + np.square(37.66-y[i]))\n",
    "    temp = (dx+dy-np.square(7.32))/(2*np.sqrt(dx)*np.sqrt(dy))\n",
    "    angles[i]=temp\n",
    "angles=np.arccos(angles);\n",
    "angles=(angles/np.pi)*180;"
   ]
  },
  {
   "cell_type": "code",
   "execution_count": 279,
   "metadata": {},
   "outputs": [
    {
     "data": {
      "text/plain": [
       "1932"
      ]
     },
     "execution_count": 279,
     "metadata": {},
     "output_type": "execute_result"
    }
   ],
   "source": [
    "len(angles)"
   ]
  },
  {
   "cell_type": "code",
   "execution_count": 280,
   "metadata": {},
   "outputs": [
    {
     "data": {
      "text/plain": [
       "1932"
      ]
     },
     "execution_count": 280,
     "metadata": {},
     "output_type": "execute_result"
    }
   ],
   "source": [
    "len(distance)"
   ]
  },
  {
   "cell_type": "code",
   "execution_count": 281,
   "metadata": {},
   "outputs": [],
   "source": [
    "heatmap_data['distance']=distance\n",
    "heatmap_data['angles']=angles"
   ]
  },
  {
   "cell_type": "code",
   "execution_count": 282,
   "metadata": {},
   "outputs": [],
   "source": [
    "heatmap_data=heatmap_data.dropna()"
   ]
  },
  {
   "cell_type": "code",
   "execution_count": 283,
   "metadata": {},
   "outputs": [],
   "source": [
    "heatmap_data['xG']=grid_t.predict_proba(heatmap_data)[:,1]"
   ]
  },
  {
   "cell_type": "code",
   "execution_count": 284,
   "metadata": {},
   "outputs": [],
   "source": [
    "heatmap=heatmap_data.pivot('x','y','xG')"
   ]
  },
  {
   "cell_type": "code",
   "execution_count": 285,
   "metadata": {},
   "outputs": [
    {
     "data": {
      "text/html": [
       "<div>\n",
       "<style scoped>\n",
       "    .dataframe tbody tr th:only-of-type {\n",
       "        vertical-align: middle;\n",
       "    }\n",
       "\n",
       "    .dataframe tbody tr th {\n",
       "        vertical-align: top;\n",
       "    }\n",
       "\n",
       "    .dataframe thead th {\n",
       "        text-align: right;\n",
       "    }\n",
       "</style>\n",
       "<table border=\"1\" class=\"dataframe\">\n",
       "  <thead>\n",
       "    <tr style=\"text-align: right;\">\n",
       "      <th>y</th>\n",
       "      <th>0.0</th>\n",
       "      <th>1.0</th>\n",
       "      <th>2.0</th>\n",
       "      <th>3.0</th>\n",
       "      <th>4.0</th>\n",
       "      <th>5.0</th>\n",
       "      <th>6.0</th>\n",
       "      <th>7.0</th>\n",
       "      <th>8.0</th>\n",
       "      <th>9.0</th>\n",
       "      <th>...</th>\n",
       "      <th>59.0</th>\n",
       "      <th>60.0</th>\n",
       "      <th>61.0</th>\n",
       "      <th>62.0</th>\n",
       "      <th>63.0</th>\n",
       "      <th>64.0</th>\n",
       "      <th>65.0</th>\n",
       "      <th>66.0</th>\n",
       "      <th>67.0</th>\n",
       "      <th>68.0</th>\n",
       "    </tr>\n",
       "    <tr>\n",
       "      <th>x</th>\n",
       "      <th></th>\n",
       "      <th></th>\n",
       "      <th></th>\n",
       "      <th></th>\n",
       "      <th></th>\n",
       "      <th></th>\n",
       "      <th></th>\n",
       "      <th></th>\n",
       "      <th></th>\n",
       "      <th></th>\n",
       "      <th></th>\n",
       "      <th></th>\n",
       "      <th></th>\n",
       "      <th></th>\n",
       "      <th></th>\n",
       "      <th></th>\n",
       "      <th></th>\n",
       "      <th></th>\n",
       "      <th></th>\n",
       "      <th></th>\n",
       "      <th></th>\n",
       "    </tr>\n",
       "  </thead>\n",
       "  <tbody>\n",
       "    <tr>\n",
       "      <th>50</th>\n",
       "      <td>0.000847</td>\n",
       "      <td>0.000894</td>\n",
       "      <td>0.000942</td>\n",
       "      <td>0.000991</td>\n",
       "      <td>0.001041</td>\n",
       "      <td>0.001093</td>\n",
       "      <td>0.001145</td>\n",
       "      <td>0.001199</td>\n",
       "      <td>0.001253</td>\n",
       "      <td>0.001308</td>\n",
       "      <td>...</td>\n",
       "      <td>0.001209</td>\n",
       "      <td>0.001155</td>\n",
       "      <td>0.001101</td>\n",
       "      <td>0.001048</td>\n",
       "      <td>0.000997</td>\n",
       "      <td>0.000947</td>\n",
       "      <td>0.000899</td>\n",
       "      <td>0.000851</td>\n",
       "      <td>0.000805</td>\n",
       "      <td>0.000761</td>\n",
       "    </tr>\n",
       "    <tr>\n",
       "      <th>52</th>\n",
       "      <td>0.000983</td>\n",
       "      <td>0.001039</td>\n",
       "      <td>0.001096</td>\n",
       "      <td>0.001155</td>\n",
       "      <td>0.001216</td>\n",
       "      <td>0.001277</td>\n",
       "      <td>0.001342</td>\n",
       "      <td>0.001407</td>\n",
       "      <td>0.001473</td>\n",
       "      <td>0.001540</td>\n",
       "      <td>...</td>\n",
       "      <td>0.001423</td>\n",
       "      <td>0.001357</td>\n",
       "      <td>0.001292</td>\n",
       "      <td>0.001228</td>\n",
       "      <td>0.001165</td>\n",
       "      <td>0.001106</td>\n",
       "      <td>0.001047</td>\n",
       "      <td>0.000991</td>\n",
       "      <td>0.000936</td>\n",
       "      <td>0.000883</td>\n",
       "    </tr>\n",
       "    <tr>\n",
       "      <th>54</th>\n",
       "      <td>0.001139</td>\n",
       "      <td>0.001204</td>\n",
       "      <td>0.001273</td>\n",
       "      <td>0.001344</td>\n",
       "      <td>0.001417</td>\n",
       "      <td>0.001491</td>\n",
       "      <td>0.001569</td>\n",
       "      <td>0.001647</td>\n",
       "      <td>0.001727</td>\n",
       "      <td>0.001809</td>\n",
       "      <td>...</td>\n",
       "      <td>0.001671</td>\n",
       "      <td>0.001591</td>\n",
       "      <td>0.001512</td>\n",
       "      <td>0.001436</td>\n",
       "      <td>0.001361</td>\n",
       "      <td>0.001288</td>\n",
       "      <td>0.001219</td>\n",
       "      <td>0.001150</td>\n",
       "      <td>0.001085</td>\n",
       "      <td>0.001023</td>\n",
       "    </tr>\n",
       "    <tr>\n",
       "      <th>56</th>\n",
       "      <td>0.001315</td>\n",
       "      <td>0.001393</td>\n",
       "      <td>0.001476</td>\n",
       "      <td>0.001561</td>\n",
       "      <td>0.001649</td>\n",
       "      <td>0.001738</td>\n",
       "      <td>0.001830</td>\n",
       "      <td>0.001926</td>\n",
       "      <td>0.002024</td>\n",
       "      <td>0.002122</td>\n",
       "      <td>...</td>\n",
       "      <td>0.001961</td>\n",
       "      <td>0.001864</td>\n",
       "      <td>0.001768</td>\n",
       "      <td>0.001675</td>\n",
       "      <td>0.001586</td>\n",
       "      <td>0.001500</td>\n",
       "      <td>0.001415</td>\n",
       "      <td>0.001334</td>\n",
       "      <td>0.001256</td>\n",
       "      <td>0.001181</td>\n",
       "    </tr>\n",
       "    <tr>\n",
       "      <th>58</th>\n",
       "      <td>0.001516</td>\n",
       "      <td>0.001609</td>\n",
       "      <td>0.001707</td>\n",
       "      <td>0.001809</td>\n",
       "      <td>0.001913</td>\n",
       "      <td>0.002021</td>\n",
       "      <td>0.002133</td>\n",
       "      <td>0.002249</td>\n",
       "      <td>0.002367</td>\n",
       "      <td>0.002485</td>\n",
       "      <td>...</td>\n",
       "      <td>0.002297</td>\n",
       "      <td>0.002180</td>\n",
       "      <td>0.002066</td>\n",
       "      <td>0.001953</td>\n",
       "      <td>0.001844</td>\n",
       "      <td>0.001740</td>\n",
       "      <td>0.001640</td>\n",
       "      <td>0.001543</td>\n",
       "      <td>0.001450</td>\n",
       "      <td>0.001361</td>\n",
       "    </tr>\n",
       "    <tr>\n",
       "      <th>60</th>\n",
       "      <td>0.001743</td>\n",
       "      <td>0.001855</td>\n",
       "      <td>0.001970</td>\n",
       "      <td>0.002092</td>\n",
       "      <td>0.002218</td>\n",
       "      <td>0.002346</td>\n",
       "      <td>0.002481</td>\n",
       "      <td>0.002619</td>\n",
       "      <td>0.002762</td>\n",
       "      <td>0.002907</td>\n",
       "      <td>...</td>\n",
       "      <td>0.002687</td>\n",
       "      <td>0.002545</td>\n",
       "      <td>0.002406</td>\n",
       "      <td>0.002272</td>\n",
       "      <td>0.002141</td>\n",
       "      <td>0.002017</td>\n",
       "      <td>0.001897</td>\n",
       "      <td>0.001781</td>\n",
       "      <td>0.001671</td>\n",
       "      <td>0.001566</td>\n",
       "    </tr>\n",
       "    <tr>\n",
       "      <th>62</th>\n",
       "      <td>0.001998</td>\n",
       "      <td>0.002131</td>\n",
       "      <td>0.002268</td>\n",
       "      <td>0.002412</td>\n",
       "      <td>0.002562</td>\n",
       "      <td>0.002716</td>\n",
       "      <td>0.002880</td>\n",
       "      <td>0.003047</td>\n",
       "      <td>0.003218</td>\n",
       "      <td>0.003394</td>\n",
       "      <td>...</td>\n",
       "      <td>0.003137</td>\n",
       "      <td>0.002964</td>\n",
       "      <td>0.002798</td>\n",
       "      <td>0.002636</td>\n",
       "      <td>0.002479</td>\n",
       "      <td>0.002331</td>\n",
       "      <td>0.002187</td>\n",
       "      <td>0.002050</td>\n",
       "      <td>0.001920</td>\n",
       "      <td>0.001795</td>\n",
       "    </tr>\n",
       "    <tr>\n",
       "      <th>64</th>\n",
       "      <td>0.002285</td>\n",
       "      <td>0.002440</td>\n",
       "      <td>0.002603</td>\n",
       "      <td>0.002774</td>\n",
       "      <td>0.002954</td>\n",
       "      <td>0.003139</td>\n",
       "      <td>0.003332</td>\n",
       "      <td>0.003534</td>\n",
       "      <td>0.003740</td>\n",
       "      <td>0.003954</td>\n",
       "      <td>...</td>\n",
       "      <td>0.003655</td>\n",
       "      <td>0.003446</td>\n",
       "      <td>0.003245</td>\n",
       "      <td>0.003050</td>\n",
       "      <td>0.002864</td>\n",
       "      <td>0.002687</td>\n",
       "      <td>0.002516</td>\n",
       "      <td>0.002353</td>\n",
       "      <td>0.002199</td>\n",
       "      <td>0.002053</td>\n",
       "    </tr>\n",
       "    <tr>\n",
       "      <th>66</th>\n",
       "      <td>0.002602</td>\n",
       "      <td>0.002785</td>\n",
       "      <td>0.002978</td>\n",
       "      <td>0.003181</td>\n",
       "      <td>0.003394</td>\n",
       "      <td>0.003615</td>\n",
       "      <td>0.003846</td>\n",
       "      <td>0.004088</td>\n",
       "      <td>0.004337</td>\n",
       "      <td>0.004597</td>\n",
       "      <td>...</td>\n",
       "      <td>0.004249</td>\n",
       "      <td>0.003996</td>\n",
       "      <td>0.003755</td>\n",
       "      <td>0.003521</td>\n",
       "      <td>0.003299</td>\n",
       "      <td>0.003088</td>\n",
       "      <td>0.002884</td>\n",
       "      <td>0.002692</td>\n",
       "      <td>0.002510</td>\n",
       "      <td>0.002337</td>\n",
       "    </tr>\n",
       "    <tr>\n",
       "      <th>68</th>\n",
       "      <td>0.002953</td>\n",
       "      <td>0.003168</td>\n",
       "      <td>0.003395</td>\n",
       "      <td>0.003634</td>\n",
       "      <td>0.003887</td>\n",
       "      <td>0.004150</td>\n",
       "      <td>0.004425</td>\n",
       "      <td>0.004715</td>\n",
       "      <td>0.005014</td>\n",
       "      <td>0.005326</td>\n",
       "      <td>...</td>\n",
       "      <td>0.004923</td>\n",
       "      <td>0.004620</td>\n",
       "      <td>0.004331</td>\n",
       "      <td>0.004052</td>\n",
       "      <td>0.003787</td>\n",
       "      <td>0.003536</td>\n",
       "      <td>0.003296</td>\n",
       "      <td>0.003069</td>\n",
       "      <td>0.002855</td>\n",
       "      <td>0.002653</td>\n",
       "    </tr>\n",
       "    <tr>\n",
       "      <th>70</th>\n",
       "      <td>0.003337</td>\n",
       "      <td>0.003591</td>\n",
       "      <td>0.003857</td>\n",
       "      <td>0.004138</td>\n",
       "      <td>0.004432</td>\n",
       "      <td>0.004747</td>\n",
       "      <td>0.005074</td>\n",
       "      <td>0.005419</td>\n",
       "      <td>0.005776</td>\n",
       "      <td>0.006151</td>\n",
       "      <td>...</td>\n",
       "      <td>0.005686</td>\n",
       "      <td>0.005323</td>\n",
       "      <td>0.004978</td>\n",
       "      <td>0.004646</td>\n",
       "      <td>0.004333</td>\n",
       "      <td>0.004032</td>\n",
       "      <td>0.003753</td>\n",
       "      <td>0.003487</td>\n",
       "      <td>0.003236</td>\n",
       "      <td>0.002997</td>\n",
       "    </tr>\n",
       "    <tr>\n",
       "      <th>72</th>\n",
       "      <td>0.003757</td>\n",
       "      <td>0.004048</td>\n",
       "      <td>0.004357</td>\n",
       "      <td>0.004686</td>\n",
       "      <td>0.005035</td>\n",
       "      <td>0.005406</td>\n",
       "      <td>0.005793</td>\n",
       "      <td>0.006201</td>\n",
       "      <td>0.006632</td>\n",
       "      <td>0.007080</td>\n",
       "      <td>...</td>\n",
       "      <td>0.006545</td>\n",
       "      <td>0.006112</td>\n",
       "      <td>0.005696</td>\n",
       "      <td>0.005304</td>\n",
       "      <td>0.004934</td>\n",
       "      <td>0.004582</td>\n",
       "      <td>0.004250</td>\n",
       "      <td>0.003939</td>\n",
       "      <td>0.003648</td>\n",
       "      <td>0.003375</td>\n",
       "    </tr>\n",
       "    <tr>\n",
       "      <th>74</th>\n",
       "      <td>0.004206</td>\n",
       "      <td>0.004541</td>\n",
       "      <td>0.004905</td>\n",
       "      <td>0.005287</td>\n",
       "      <td>0.005695</td>\n",
       "      <td>0.006128</td>\n",
       "      <td>0.006588</td>\n",
       "      <td>0.007070</td>\n",
       "      <td>0.007580</td>\n",
       "      <td>0.008119</td>\n",
       "      <td>...</td>\n",
       "      <td>0.007507</td>\n",
       "      <td>0.006986</td>\n",
       "      <td>0.006495</td>\n",
       "      <td>0.006033</td>\n",
       "      <td>0.005594</td>\n",
       "      <td>0.005182</td>\n",
       "      <td>0.004796</td>\n",
       "      <td>0.004435</td>\n",
       "      <td>0.004093</td>\n",
       "      <td>0.003778</td>\n",
       "    </tr>\n",
       "    <tr>\n",
       "      <th>76</th>\n",
       "      <td>0.004681</td>\n",
       "      <td>0.005072</td>\n",
       "      <td>0.005484</td>\n",
       "      <td>0.005932</td>\n",
       "      <td>0.006403</td>\n",
       "      <td>0.006914</td>\n",
       "      <td>0.007451</td>\n",
       "      <td>0.008023</td>\n",
       "      <td>0.008622</td>\n",
       "      <td>0.009259</td>\n",
       "      <td>...</td>\n",
       "      <td>0.008561</td>\n",
       "      <td>0.007947</td>\n",
       "      <td>0.007371</td>\n",
       "      <td>0.006823</td>\n",
       "      <td>0.006311</td>\n",
       "      <td>0.005827</td>\n",
       "      <td>0.005380</td>\n",
       "      <td>0.004959</td>\n",
       "      <td>0.004571</td>\n",
       "      <td>0.004206</td>\n",
       "    </tr>\n",
       "    <tr>\n",
       "      <th>78</th>\n",
       "      <td>0.005180</td>\n",
       "      <td>0.005625</td>\n",
       "      <td>0.006102</td>\n",
       "      <td>0.006615</td>\n",
       "      <td>0.007165</td>\n",
       "      <td>0.007754</td>\n",
       "      <td>0.008376</td>\n",
       "      <td>0.009050</td>\n",
       "      <td>0.009760</td>\n",
       "      <td>0.010507</td>\n",
       "      <td>...</td>\n",
       "      <td>0.009716</td>\n",
       "      <td>0.008996</td>\n",
       "      <td>0.008315</td>\n",
       "      <td>0.007672</td>\n",
       "      <td>0.007079</td>\n",
       "      <td>0.006520</td>\n",
       "      <td>0.006001</td>\n",
       "      <td>0.005518</td>\n",
       "      <td>0.005070</td>\n",
       "      <td>0.004655</td>\n",
       "    </tr>\n",
       "    <tr>\n",
       "      <th>80</th>\n",
       "      <td>0.005699</td>\n",
       "      <td>0.006201</td>\n",
       "      <td>0.006743</td>\n",
       "      <td>0.007333</td>\n",
       "      <td>0.007960</td>\n",
       "      <td>0.008635</td>\n",
       "      <td>0.009359</td>\n",
       "      <td>0.010136</td>\n",
       "      <td>0.010969</td>\n",
       "      <td>0.011850</td>\n",
       "      <td>...</td>\n",
       "      <td>0.010959</td>\n",
       "      <td>0.010112</td>\n",
       "      <td>0.009314</td>\n",
       "      <td>0.008573</td>\n",
       "      <td>0.007884</td>\n",
       "      <td>0.007245</td>\n",
       "      <td>0.006652</td>\n",
       "      <td>0.006098</td>\n",
       "      <td>0.005590</td>\n",
       "      <td>0.005121</td>\n",
       "    </tr>\n",
       "    <tr>\n",
       "      <th>82</th>\n",
       "      <td>0.006219</td>\n",
       "      <td>0.006788</td>\n",
       "      <td>0.007397</td>\n",
       "      <td>0.008062</td>\n",
       "      <td>0.008780</td>\n",
       "      <td>0.009555</td>\n",
       "      <td>0.010381</td>\n",
       "      <td>0.011281</td>\n",
       "      <td>0.012250</td>\n",
       "      <td>0.013280</td>\n",
       "      <td>...</td>\n",
       "      <td>0.012283</td>\n",
       "      <td>0.011294</td>\n",
       "      <td>0.010367</td>\n",
       "      <td>0.009510</td>\n",
       "      <td>0.008725</td>\n",
       "      <td>0.007992</td>\n",
       "      <td>0.007315</td>\n",
       "      <td>0.006690</td>\n",
       "      <td>0.006120</td>\n",
       "      <td>0.005588</td>\n",
       "    </tr>\n",
       "    <tr>\n",
       "      <th>84</th>\n",
       "      <td>0.006737</td>\n",
       "      <td>0.007362</td>\n",
       "      <td>0.008047</td>\n",
       "      <td>0.008799</td>\n",
       "      <td>0.009603</td>\n",
       "      <td>0.010474</td>\n",
       "      <td>0.011428</td>\n",
       "      <td>0.012448</td>\n",
       "      <td>0.013563</td>\n",
       "      <td>0.014754</td>\n",
       "      <td>...</td>\n",
       "      <td>0.013647</td>\n",
       "      <td>0.012506</td>\n",
       "      <td>0.011440</td>\n",
       "      <td>0.010470</td>\n",
       "      <td>0.009565</td>\n",
       "      <td>0.008742</td>\n",
       "      <td>0.007983</td>\n",
       "      <td>0.007278</td>\n",
       "      <td>0.006637</td>\n",
       "      <td>0.006055</td>\n",
       "    </tr>\n",
       "    <tr>\n",
       "      <th>86</th>\n",
       "      <td>0.007232</td>\n",
       "      <td>0.007926</td>\n",
       "      <td>0.008681</td>\n",
       "      <td>0.009511</td>\n",
       "      <td>0.010414</td>\n",
       "      <td>0.011394</td>\n",
       "      <td>0.012458</td>\n",
       "      <td>0.013614</td>\n",
       "      <td>0.014882</td>\n",
       "      <td>0.016244</td>\n",
       "      <td>...</td>\n",
       "      <td>0.015027</td>\n",
       "      <td>0.013724</td>\n",
       "      <td>0.012513</td>\n",
       "      <td>0.011414</td>\n",
       "      <td>0.010406</td>\n",
       "      <td>0.009480</td>\n",
       "      <td>0.008631</td>\n",
       "      <td>0.007852</td>\n",
       "      <td>0.007146</td>\n",
       "      <td>0.006499</td>\n",
       "    </tr>\n",
       "    <tr>\n",
       "      <th>88</th>\n",
       "      <td>0.007697</td>\n",
       "      <td>0.008453</td>\n",
       "      <td>0.009276</td>\n",
       "      <td>0.010183</td>\n",
       "      <td>0.011182</td>\n",
       "      <td>0.012259</td>\n",
       "      <td>0.013446</td>\n",
       "      <td>0.014738</td>\n",
       "      <td>0.016163</td>\n",
       "      <td>0.017699</td>\n",
       "      <td>...</td>\n",
       "      <td>0.016375</td>\n",
       "      <td>0.014906</td>\n",
       "      <td>0.013548</td>\n",
       "      <td>0.012320</td>\n",
       "      <td>0.011197</td>\n",
       "      <td>0.010180</td>\n",
       "      <td>0.009240</td>\n",
       "      <td>0.008391</td>\n",
       "      <td>0.007621</td>\n",
       "      <td>0.006918</td>\n",
       "    </tr>\n",
       "    <tr>\n",
       "      <th>90</th>\n",
       "      <td>0.008107</td>\n",
       "      <td>0.008919</td>\n",
       "      <td>0.009815</td>\n",
       "      <td>0.010795</td>\n",
       "      <td>0.011876</td>\n",
       "      <td>0.013057</td>\n",
       "      <td>0.014363</td>\n",
       "      <td>0.015775</td>\n",
       "      <td>0.017334</td>\n",
       "      <td>0.019058</td>\n",
       "      <td>...</td>\n",
       "      <td>0.017635</td>\n",
       "      <td>0.015987</td>\n",
       "      <td>0.014502</td>\n",
       "      <td>0.013161</td>\n",
       "      <td>0.011927</td>\n",
       "      <td>0.010812</td>\n",
       "      <td>0.009796</td>\n",
       "      <td>0.008879</td>\n",
       "      <td>0.008042</td>\n",
       "      <td>0.007287</td>\n",
       "    </tr>\n",
       "    <tr>\n",
       "      <th>92</th>\n",
       "      <td>0.008450</td>\n",
       "      <td>0.009312</td>\n",
       "      <td>0.010265</td>\n",
       "      <td>0.011308</td>\n",
       "      <td>0.012461</td>\n",
       "      <td>0.013738</td>\n",
       "      <td>0.015137</td>\n",
       "      <td>0.016671</td>\n",
       "      <td>0.018370</td>\n",
       "      <td>0.020234</td>\n",
       "      <td>...</td>\n",
       "      <td>0.018724</td>\n",
       "      <td>0.016944</td>\n",
       "      <td>0.015327</td>\n",
       "      <td>0.013872</td>\n",
       "      <td>0.012549</td>\n",
       "      <td>0.011346</td>\n",
       "      <td>0.010262</td>\n",
       "      <td>0.009286</td>\n",
       "      <td>0.008396</td>\n",
       "      <td>0.007595</td>\n",
       "    </tr>\n",
       "    <tr>\n",
       "      <th>94</th>\n",
       "      <td>0.008706</td>\n",
       "      <td>0.009609</td>\n",
       "      <td>0.010608</td>\n",
       "      <td>0.011716</td>\n",
       "      <td>0.012930</td>\n",
       "      <td>0.014262</td>\n",
       "      <td>0.015754</td>\n",
       "      <td>0.017393</td>\n",
       "      <td>0.019195</td>\n",
       "      <td>0.021195</td>\n",
       "      <td>...</td>\n",
       "      <td>0.019616</td>\n",
       "      <td>0.017706</td>\n",
       "      <td>0.015992</td>\n",
       "      <td>0.014438</td>\n",
       "      <td>0.013029</td>\n",
       "      <td>0.011774</td>\n",
       "      <td>0.010633</td>\n",
       "      <td>0.009597</td>\n",
       "      <td>0.008665</td>\n",
       "      <td>0.007825</td>\n",
       "    </tr>\n",
       "    <tr>\n",
       "      <th>96</th>\n",
       "      <td>0.008876</td>\n",
       "      <td>0.009801</td>\n",
       "      <td>0.010836</td>\n",
       "      <td>0.011971</td>\n",
       "      <td>0.013229</td>\n",
       "      <td>0.014625</td>\n",
       "      <td>0.016159</td>\n",
       "      <td>0.017861</td>\n",
       "      <td>0.019754</td>\n",
       "      <td>0.021838</td>\n",
       "      <td>...</td>\n",
       "      <td>0.020211</td>\n",
       "      <td>0.018222</td>\n",
       "      <td>0.016423</td>\n",
       "      <td>0.014809</td>\n",
       "      <td>0.013360</td>\n",
       "      <td>0.012046</td>\n",
       "      <td>0.010865</td>\n",
       "      <td>0.009803</td>\n",
       "      <td>0.008838</td>\n",
       "      <td>0.007979</td>\n",
       "    </tr>\n",
       "    <tr>\n",
       "      <th>98</th>\n",
       "      <td>0.008939</td>\n",
       "      <td>0.009883</td>\n",
       "      <td>0.010918</td>\n",
       "      <td>0.012076</td>\n",
       "      <td>0.013346</td>\n",
       "      <td>0.014770</td>\n",
       "      <td>0.016335</td>\n",
       "      <td>0.018072</td>\n",
       "      <td>0.019984</td>\n",
       "      <td>0.022130</td>\n",
       "      <td>...</td>\n",
       "      <td>0.020482</td>\n",
       "      <td>0.018435</td>\n",
       "      <td>0.016618</td>\n",
       "      <td>0.014971</td>\n",
       "      <td>0.013493</td>\n",
       "      <td>0.012153</td>\n",
       "      <td>0.010960</td>\n",
       "      <td>0.009877</td>\n",
       "      <td>0.008912</td>\n",
       "      <td>0.008035</td>\n",
       "    </tr>\n",
       "    <tr>\n",
       "      <th>100</th>\n",
       "      <td>0.008885</td>\n",
       "      <td>0.009825</td>\n",
       "      <td>0.010865</td>\n",
       "      <td>0.012018</td>\n",
       "      <td>0.013295</td>\n",
       "      <td>0.014695</td>\n",
       "      <td>0.016264</td>\n",
       "      <td>0.017987</td>\n",
       "      <td>0.019899</td>\n",
       "      <td>0.022023</td>\n",
       "      <td>...</td>\n",
       "      <td>0.020382</td>\n",
       "      <td>0.018357</td>\n",
       "      <td>0.016539</td>\n",
       "      <td>0.014906</td>\n",
       "      <td>0.013425</td>\n",
       "      <td>0.012106</td>\n",
       "      <td>0.010907</td>\n",
       "      <td>0.009829</td>\n",
       "      <td>0.008859</td>\n",
       "      <td>0.007986</td>\n",
       "    </tr>\n",
       "    <tr>\n",
       "      <th>102</th>\n",
       "      <td>0.008735</td>\n",
       "      <td>0.009650</td>\n",
       "      <td>0.010672</td>\n",
       "      <td>0.011802</td>\n",
       "      <td>0.013041</td>\n",
       "      <td>0.014425</td>\n",
       "      <td>0.015941</td>\n",
       "      <td>0.017619</td>\n",
       "      <td>0.019495</td>\n",
       "      <td>0.021554</td>\n",
       "      <td>...</td>\n",
       "      <td>0.019948</td>\n",
       "      <td>0.017984</td>\n",
       "      <td>0.016200</td>\n",
       "      <td>0.014610</td>\n",
       "      <td>0.013177</td>\n",
       "      <td>0.011874</td>\n",
       "      <td>0.010712</td>\n",
       "      <td>0.009654</td>\n",
       "      <td>0.008702</td>\n",
       "      <td>0.007852</td>\n",
       "    </tr>\n",
       "    <tr>\n",
       "      <th>104</th>\n",
       "      <td>0.008481</td>\n",
       "      <td>0.009359</td>\n",
       "      <td>0.010339</td>\n",
       "      <td>0.011421</td>\n",
       "      <td>0.012615</td>\n",
       "      <td>0.013934</td>\n",
       "      <td>0.015389</td>\n",
       "      <td>0.016996</td>\n",
       "      <td>0.018769</td>\n",
       "      <td>0.020727</td>\n",
       "      <td>...</td>\n",
       "      <td>0.019181</td>\n",
       "      <td>0.017313</td>\n",
       "      <td>0.015627</td>\n",
       "      <td>0.014103</td>\n",
       "      <td>0.012728</td>\n",
       "      <td>0.011486</td>\n",
       "      <td>0.010365</td>\n",
       "      <td>0.009353</td>\n",
       "      <td>0.008439</td>\n",
       "      <td>0.007622</td>\n",
       "    </tr>\n",
       "  </tbody>\n",
       "</table>\n",
       "<p>28 rows × 69 columns</p>\n",
       "</div>"
      ],
      "text/plain": [
       "y        0.0       1.0       2.0       3.0       4.0       5.0       6.0   \\\n",
       "x                                                                           \n",
       "50   0.000847  0.000894  0.000942  0.000991  0.001041  0.001093  0.001145   \n",
       "52   0.000983  0.001039  0.001096  0.001155  0.001216  0.001277  0.001342   \n",
       "54   0.001139  0.001204  0.001273  0.001344  0.001417  0.001491  0.001569   \n",
       "56   0.001315  0.001393  0.001476  0.001561  0.001649  0.001738  0.001830   \n",
       "58   0.001516  0.001609  0.001707  0.001809  0.001913  0.002021  0.002133   \n",
       "60   0.001743  0.001855  0.001970  0.002092  0.002218  0.002346  0.002481   \n",
       "62   0.001998  0.002131  0.002268  0.002412  0.002562  0.002716  0.002880   \n",
       "64   0.002285  0.002440  0.002603  0.002774  0.002954  0.003139  0.003332   \n",
       "66   0.002602  0.002785  0.002978  0.003181  0.003394  0.003615  0.003846   \n",
       "68   0.002953  0.003168  0.003395  0.003634  0.003887  0.004150  0.004425   \n",
       "70   0.003337  0.003591  0.003857  0.004138  0.004432  0.004747  0.005074   \n",
       "72   0.003757  0.004048  0.004357  0.004686  0.005035  0.005406  0.005793   \n",
       "74   0.004206  0.004541  0.004905  0.005287  0.005695  0.006128  0.006588   \n",
       "76   0.004681  0.005072  0.005484  0.005932  0.006403  0.006914  0.007451   \n",
       "78   0.005180  0.005625  0.006102  0.006615  0.007165  0.007754  0.008376   \n",
       "80   0.005699  0.006201  0.006743  0.007333  0.007960  0.008635  0.009359   \n",
       "82   0.006219  0.006788  0.007397  0.008062  0.008780  0.009555  0.010381   \n",
       "84   0.006737  0.007362  0.008047  0.008799  0.009603  0.010474  0.011428   \n",
       "86   0.007232  0.007926  0.008681  0.009511  0.010414  0.011394  0.012458   \n",
       "88   0.007697  0.008453  0.009276  0.010183  0.011182  0.012259  0.013446   \n",
       "90   0.008107  0.008919  0.009815  0.010795  0.011876  0.013057  0.014363   \n",
       "92   0.008450  0.009312  0.010265  0.011308  0.012461  0.013738  0.015137   \n",
       "94   0.008706  0.009609  0.010608  0.011716  0.012930  0.014262  0.015754   \n",
       "96   0.008876  0.009801  0.010836  0.011971  0.013229  0.014625  0.016159   \n",
       "98   0.008939  0.009883  0.010918  0.012076  0.013346  0.014770  0.016335   \n",
       "100  0.008885  0.009825  0.010865  0.012018  0.013295  0.014695  0.016264   \n",
       "102  0.008735  0.009650  0.010672  0.011802  0.013041  0.014425  0.015941   \n",
       "104  0.008481  0.009359  0.010339  0.011421  0.012615  0.013934  0.015389   \n",
       "\n",
       "y        7.0       8.0       9.0   ...      59.0      60.0      61.0  \\\n",
       "x                                  ...                                 \n",
       "50   0.001199  0.001253  0.001308  ...  0.001209  0.001155  0.001101   \n",
       "52   0.001407  0.001473  0.001540  ...  0.001423  0.001357  0.001292   \n",
       "54   0.001647  0.001727  0.001809  ...  0.001671  0.001591  0.001512   \n",
       "56   0.001926  0.002024  0.002122  ...  0.001961  0.001864  0.001768   \n",
       "58   0.002249  0.002367  0.002485  ...  0.002297  0.002180  0.002066   \n",
       "60   0.002619  0.002762  0.002907  ...  0.002687  0.002545  0.002406   \n",
       "62   0.003047  0.003218  0.003394  ...  0.003137  0.002964  0.002798   \n",
       "64   0.003534  0.003740  0.003954  ...  0.003655  0.003446  0.003245   \n",
       "66   0.004088  0.004337  0.004597  ...  0.004249  0.003996  0.003755   \n",
       "68   0.004715  0.005014  0.005326  ...  0.004923  0.004620  0.004331   \n",
       "70   0.005419  0.005776  0.006151  ...  0.005686  0.005323  0.004978   \n",
       "72   0.006201  0.006632  0.007080  ...  0.006545  0.006112  0.005696   \n",
       "74   0.007070  0.007580  0.008119  ...  0.007507  0.006986  0.006495   \n",
       "76   0.008023  0.008622  0.009259  ...  0.008561  0.007947  0.007371   \n",
       "78   0.009050  0.009760  0.010507  ...  0.009716  0.008996  0.008315   \n",
       "80   0.010136  0.010969  0.011850  ...  0.010959  0.010112  0.009314   \n",
       "82   0.011281  0.012250  0.013280  ...  0.012283  0.011294  0.010367   \n",
       "84   0.012448  0.013563  0.014754  ...  0.013647  0.012506  0.011440   \n",
       "86   0.013614  0.014882  0.016244  ...  0.015027  0.013724  0.012513   \n",
       "88   0.014738  0.016163  0.017699  ...  0.016375  0.014906  0.013548   \n",
       "90   0.015775  0.017334  0.019058  ...  0.017635  0.015987  0.014502   \n",
       "92   0.016671  0.018370  0.020234  ...  0.018724  0.016944  0.015327   \n",
       "94   0.017393  0.019195  0.021195  ...  0.019616  0.017706  0.015992   \n",
       "96   0.017861  0.019754  0.021838  ...  0.020211  0.018222  0.016423   \n",
       "98   0.018072  0.019984  0.022130  ...  0.020482  0.018435  0.016618   \n",
       "100  0.017987  0.019899  0.022023  ...  0.020382  0.018357  0.016539   \n",
       "102  0.017619  0.019495  0.021554  ...  0.019948  0.017984  0.016200   \n",
       "104  0.016996  0.018769  0.020727  ...  0.019181  0.017313  0.015627   \n",
       "\n",
       "y        62.0      63.0      64.0      65.0      66.0      67.0      68.0  \n",
       "x                                                                          \n",
       "50   0.001048  0.000997  0.000947  0.000899  0.000851  0.000805  0.000761  \n",
       "52   0.001228  0.001165  0.001106  0.001047  0.000991  0.000936  0.000883  \n",
       "54   0.001436  0.001361  0.001288  0.001219  0.001150  0.001085  0.001023  \n",
       "56   0.001675  0.001586  0.001500  0.001415  0.001334  0.001256  0.001181  \n",
       "58   0.001953  0.001844  0.001740  0.001640  0.001543  0.001450  0.001361  \n",
       "60   0.002272  0.002141  0.002017  0.001897  0.001781  0.001671  0.001566  \n",
       "62   0.002636  0.002479  0.002331  0.002187  0.002050  0.001920  0.001795  \n",
       "64   0.003050  0.002864  0.002687  0.002516  0.002353  0.002199  0.002053  \n",
       "66   0.003521  0.003299  0.003088  0.002884  0.002692  0.002510  0.002337  \n",
       "68   0.004052  0.003787  0.003536  0.003296  0.003069  0.002855  0.002653  \n",
       "70   0.004646  0.004333  0.004032  0.003753  0.003487  0.003236  0.002997  \n",
       "72   0.005304  0.004934  0.004582  0.004250  0.003939  0.003648  0.003375  \n",
       "74   0.006033  0.005594  0.005182  0.004796  0.004435  0.004093  0.003778  \n",
       "76   0.006823  0.006311  0.005827  0.005380  0.004959  0.004571  0.004206  \n",
       "78   0.007672  0.007079  0.006520  0.006001  0.005518  0.005070  0.004655  \n",
       "80   0.008573  0.007884  0.007245  0.006652  0.006098  0.005590  0.005121  \n",
       "82   0.009510  0.008725  0.007992  0.007315  0.006690  0.006120  0.005588  \n",
       "84   0.010470  0.009565  0.008742  0.007983  0.007278  0.006637  0.006055  \n",
       "86   0.011414  0.010406  0.009480  0.008631  0.007852  0.007146  0.006499  \n",
       "88   0.012320  0.011197  0.010180  0.009240  0.008391  0.007621  0.006918  \n",
       "90   0.013161  0.011927  0.010812  0.009796  0.008879  0.008042  0.007287  \n",
       "92   0.013872  0.012549  0.011346  0.010262  0.009286  0.008396  0.007595  \n",
       "94   0.014438  0.013029  0.011774  0.010633  0.009597  0.008665  0.007825  \n",
       "96   0.014809  0.013360  0.012046  0.010865  0.009803  0.008838  0.007979  \n",
       "98   0.014971  0.013493  0.012153  0.010960  0.009877  0.008912  0.008035  \n",
       "100  0.014906  0.013425  0.012106  0.010907  0.009829  0.008859  0.007986  \n",
       "102  0.014610  0.013177  0.011874  0.010712  0.009654  0.008702  0.007852  \n",
       "104  0.014103  0.012728  0.011486  0.010365  0.009353  0.008439  0.007622  \n",
       "\n",
       "[28 rows x 69 columns]"
      ]
     },
     "execution_count": 285,
     "metadata": {},
     "output_type": "execute_result"
    }
   ],
   "source": [
    "heatmap"
   ]
  },
  {
   "cell_type": "code",
   "execution_count": 288,
   "metadata": {},
   "outputs": [
    {
     "data": {
      "text/plain": [
       "<matplotlib.axes._subplots.AxesSubplot at 0x2bc7640ed08>"
      ]
     },
     "execution_count": 288,
     "metadata": {},
     "output_type": "execute_result"
    },
    {
     "data": {
      "image/png": "[encoded data removed]",
      "text/plain": [
       "<Figure size 576x432 with 2 Axes>"
      ]
     },
     "metadata": {
      "needs_background": "light"
     },
     "output_type": "display_data"
    }
   ],
   "source": [
    "from mplsoccer import Pitch, VerticalPitch\n",
    "pitch = Pitch(pitch_type='custom',half=True, goal_type='box', line_color='black', pitch_color='white', linewidth=2,pitch_length=105, pitch_width=68, constrained_layout=True)\n",
    "\n",
    "pitch.draw(figsize=(8,6))\n",
    "sns.heatmap(heatmap,vmin=0, vmax=1)\n"
   ]
  },
  {
   "cell_type": "code",
   "execution_count": 241,
   "metadata": {},
   "outputs": [],
   "source": [
    "x=np.arange(50,106,1)"
   ]
  },
  {
   "cell_type": "code",
   "execution_count": 242,
   "metadata": {},
   "outputs": [
    {
     "data": {
      "text/plain": [
       "56"
      ]
     },
     "execution_count": 242,
     "metadata": {},
     "output_type": "execute_result"
    }
   ],
   "source": [
    "len(x)"
   ]
  },
  {
   "cell_type": "code",
   "execution_count": null,
   "metadata": {},
   "outputs": [],
   "source": []
  }
 ],
 "metadata": {
  "kernelspec": {
   "display_name": "Python 3",
   "language": "python",
   "name": "python3"
  },
  "language_info": {
   "codemirror_mode": {
    "name": "ipython",
    "version": 3
   },
   "file_extension": ".py",
   "mimetype": "text/x-python",
   "name": "python",
   "nbconvert_exporter": "python",
   "pygments_lexer": "ipython3",
   "version": "3.7.7"
  }
 },
 "nbformat": 4,
 "nbformat_minor": 4
}
