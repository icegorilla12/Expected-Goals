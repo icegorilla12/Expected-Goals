{
 "cells": [
  {
   "cell_type": "markdown",
   "metadata": {},
   "source": [
    "# xG\n",
    "\n",
    "xG has gained traction in the past few years in the football analytics community. It tells us about the probability of a shot being scored. It's value ranges from 0 to 1. 1 signifying a definite goal, and 0 signifying a definite miss."
   ]
  },
  {
   "cell_type": "markdown",
   "metadata": {},
   "source": [
    "Model 1 = Logistic Regression <br>\n",
    "Model 2 = Random Forests <br>\n",
    "Model 3 = AdaBOOST <br>"
   ]
  },
  {
   "cell_type": "code",
   "execution_count": 6,
   "metadata": {},
   "outputs": [],
   "source": [
    "import numpy as np\n",
    "import pandas as pd\n",
    "from sklearn.metrics import classification_report, confusion_matrix\n",
    "import matplotlib.pyplot as plt\n",
    "import seaborn as sns\n",
    "import sklearn.metrics as metrics\n",
    "from sklearn.metrics import roc_curve\n",
    "from sklearn.metrics import roc_auc_score\n",
    "from sklearn.metrics import accuracy_score\n",
    "from sklearn.metrics import f1_score\n",
    "from sklearn.metrics import precision_recall_curve\n",
    "from sklearn.metrics import plot_precision_recall_curve\n",
    "from sklearn.metrics import log_loss\n",
    "from sklearn.calibration import calibration_curve\n",
    "\n",
    "sns.set_context('poster')\n"
   ]
  },
  {
   "cell_type": "code",
   "execution_count": 7,
   "metadata": {},
   "outputs": [],
   "source": [
    "def plot_ROC_curve(fpr, tpr):\n",
    "    plt.plot(fpr, tpr, color='orange', label='ROC')\n",
    "    plt.plot([0, 1], [0, 1], color='darkblue', linestyle='--')\n",
    "    plt.xlabel('False Positive Rate')\n",
    "    plt.ylabel('True Positive Rate')\n",
    "    plt.title('Receiver Operating Characteristic (ROC) Curve')\n",
    "    plt.legend()\n",
    "    plt.show()\n",
    "def plot_PR_curve(recall, precision):\n",
    "    plt.plot(recall, precision, color='blue', label='PR')\n",
    "    plt.xlabel('Recall')\n",
    "    plt.ylabel('Precision')\n",
    "    plt.title('Precision-Recall Curve')\n",
    "    plt.legend()\n",
    "    plt.show()\n",
    "def plot_pr_curve(y,ytest_prob):\n",
    "    precision, recall, thresholds = metrics.precision_recall_curve(y, ytest_prob)\n",
    "    plot_PR_curve(recall,precision)\n",
    "    f1score = 2*precision*recall/(precision+recall)\n",
    "    index = np.argmax(f1score)\n",
    "    optimal_threshold= thresholds[index]\n",
    "    return optimal_threshold,f1score[index],recall[index],precision[index]\n",
    "def plot_roc_curve(y,ytest_prob):\n",
    "    fpr, tpr, thresholds = metrics.roc_curve(y, ytest_prob)\n",
    "    plot_ROC_curve(fpr,tpr)\n",
    "    auc = roc_auc_score(y,ytest_prob)\n",
    "    gmean = np.sqrt(tpr * (1 - fpr))\n",
    "    index = np.argmax(gmean)\n",
    "    optimal_threshold= thresholds[index]\n",
    "    \n",
    "    \n",
    "def optimal_confusion_matrix(y,ytest_prob,optimal_threshold):\n",
    "    ytemp=(ytest_prob > optimal_threshold).astype(int)\n",
    "    mat= confusion_matrix(y,ytemp) \n",
    "    sns.heatmap(mat, square=True, annot=True, fmt='d', cbar=False)\n",
    "    accuracy=accuracy_score(y,ytemp)\n",
    "    print('The optimal accuracy is ' ,accuracy)\n"
   ]
  },
  {
   "cell_type": "code",
   "execution_count": 8,
   "metadata": {},
   "outputs": [
    {
     "data": {
      "text/html": [
       "<div>\n",
       "<style scoped>\n",
       "    .dataframe tbody tr th:only-of-type {\n",
       "        vertical-align: middle;\n",
       "    }\n",
       "\n",
       "    .dataframe tbody tr th {\n",
       "        vertical-align: top;\n",
       "    }\n",
       "\n",
       "    .dataframe thead th {\n",
       "        text-align: right;\n",
       "    }\n",
       "</style>\n",
       "<table border=\"1\" class=\"dataframe\">\n",
       "  <thead>\n",
       "    <tr style=\"text-align: right;\">\n",
       "      <th></th>\n",
       "      <th>playerId</th>\n",
       "      <th>id</th>\n",
       "      <th>x_coordinates</th>\n",
       "      <th>y_coordinates</th>\n",
       "      <th>blocked</th>\n",
       "      <th>goal</th>\n",
       "      <th>time</th>\n",
       "      <th>matchPeriod</th>\n",
       "      <th>counter</th>\n",
       "      <th>competition</th>\n",
       "      <th>foot</th>\n",
       "      <th>bodypart</th>\n",
       "      <th>preferrence</th>\n",
       "      <th>angles</th>\n",
       "      <th>distance</th>\n",
       "      <th>headers</th>\n",
       "    </tr>\n",
       "  </thead>\n",
       "  <tbody>\n",
       "    <tr>\n",
       "      <th>0</th>\n",
       "      <td>25413</td>\n",
       "      <td>177959212</td>\n",
       "      <td>92.40</td>\n",
       "      <td>27.88</td>\n",
       "      <td>0.0</td>\n",
       "      <td>1.0</td>\n",
       "      <td>2.0</td>\n",
       "      <td>0</td>\n",
       "      <td>0.0</td>\n",
       "      <td>0</td>\n",
       "      <td>1.0</td>\n",
       "      <td>1.0</td>\n",
       "      <td>1.0</td>\n",
       "      <td>26.77</td>\n",
       "      <td>14.01</td>\n",
       "      <td>0.0</td>\n",
       "    </tr>\n",
       "    <tr>\n",
       "      <th>1</th>\n",
       "      <td>26150</td>\n",
       "      <td>177959247</td>\n",
       "      <td>89.25</td>\n",
       "      <td>35.36</td>\n",
       "      <td>0.0</td>\n",
       "      <td>0.0</td>\n",
       "      <td>3.0</td>\n",
       "      <td>0</td>\n",
       "      <td>0.0</td>\n",
       "      <td>0</td>\n",
       "      <td>0.0</td>\n",
       "      <td>2.0</td>\n",
       "      <td>1.0</td>\n",
       "      <td>25.99</td>\n",
       "      <td>15.81</td>\n",
       "      <td>0.0</td>\n",
       "    </tr>\n",
       "    <tr>\n",
       "      <th>2</th>\n",
       "      <td>14763</td>\n",
       "      <td>177959280</td>\n",
       "      <td>100.80</td>\n",
       "      <td>35.36</td>\n",
       "      <td>0.0</td>\n",
       "      <td>1.0</td>\n",
       "      <td>4.0</td>\n",
       "      <td>0</td>\n",
       "      <td>0.0</td>\n",
       "      <td>0</td>\n",
       "      <td>1.0</td>\n",
       "      <td>3.0</td>\n",
       "      <td>1.0</td>\n",
       "      <td>78.79</td>\n",
       "      <td>4.41</td>\n",
       "      <td>1.0</td>\n",
       "    </tr>\n",
       "    <tr>\n",
       "      <th>3</th>\n",
       "      <td>7868</td>\n",
       "      <td>177959289</td>\n",
       "      <td>85.05</td>\n",
       "      <td>22.44</td>\n",
       "      <td>0.0</td>\n",
       "      <td>0.0</td>\n",
       "      <td>7.0</td>\n",
       "      <td>0</td>\n",
       "      <td>0.0</td>\n",
       "      <td>0</td>\n",
       "      <td>1.0</td>\n",
       "      <td>2.0</td>\n",
       "      <td>0.0</td>\n",
       "      <td>15.74</td>\n",
       "      <td>23.06</td>\n",
       "      <td>0.0</td>\n",
       "    </tr>\n",
       "    <tr>\n",
       "      <th>4</th>\n",
       "      <td>7868</td>\n",
       "      <td>177959429</td>\n",
       "      <td>78.75</td>\n",
       "      <td>20.40</td>\n",
       "      <td>0.0</td>\n",
       "      <td>0.0</td>\n",
       "      <td>14.0</td>\n",
       "      <td>0</td>\n",
       "      <td>0.0</td>\n",
       "      <td>0</td>\n",
       "      <td>1.0</td>\n",
       "      <td>1.0</td>\n",
       "      <td>1.0</td>\n",
       "      <td>12.59</td>\n",
       "      <td>29.56</td>\n",
       "      <td>0.0</td>\n",
       "    </tr>\n",
       "    <tr>\n",
       "      <th>...</th>\n",
       "      <td>...</td>\n",
       "      <td>...</td>\n",
       "      <td>...</td>\n",
       "      <td>...</td>\n",
       "      <td>...</td>\n",
       "      <td>...</td>\n",
       "      <td>...</td>\n",
       "      <td>...</td>\n",
       "      <td>...</td>\n",
       "      <td>...</td>\n",
       "      <td>...</td>\n",
       "      <td>...</td>\n",
       "      <td>...</td>\n",
       "      <td>...</td>\n",
       "      <td>...</td>\n",
       "      <td>...</td>\n",
       "    </tr>\n",
       "    <tr>\n",
       "      <th>43073</th>\n",
       "      <td>25575</td>\n",
       "      <td>90588469</td>\n",
       "      <td>81.90</td>\n",
       "      <td>41.48</td>\n",
       "      <td>1.0</td>\n",
       "      <td>0.0</td>\n",
       "      <td>85.0</td>\n",
       "      <td>1</td>\n",
       "      <td>0.0</td>\n",
       "      <td>6</td>\n",
       "      <td>1.0</td>\n",
       "      <td>2.0</td>\n",
       "      <td>0.0</td>\n",
       "      <td>16.36</td>\n",
       "      <td>24.28</td>\n",
       "      <td>0.0</td>\n",
       "    </tr>\n",
       "    <tr>\n",
       "      <th>43074</th>\n",
       "      <td>25575</td>\n",
       "      <td>90588583</td>\n",
       "      <td>97.65</td>\n",
       "      <td>28.56</td>\n",
       "      <td>0.0</td>\n",
       "      <td>0.0</td>\n",
       "      <td>91.0</td>\n",
       "      <td>1</td>\n",
       "      <td>0.0</td>\n",
       "      <td>6</td>\n",
       "      <td>1.0</td>\n",
       "      <td>1.0</td>\n",
       "      <td>1.0</td>\n",
       "      <td>37.46</td>\n",
       "      <td>9.14</td>\n",
       "      <td>0.0</td>\n",
       "    </tr>\n",
       "    <tr>\n",
       "      <th>43075</th>\n",
       "      <td>70410</td>\n",
       "      <td>90589205</td>\n",
       "      <td>94.50</td>\n",
       "      <td>25.84</td>\n",
       "      <td>0.0</td>\n",
       "      <td>0.0</td>\n",
       "      <td>13.0</td>\n",
       "      <td>2</td>\n",
       "      <td>0.0</td>\n",
       "      <td>6</td>\n",
       "      <td>1.0</td>\n",
       "      <td>3.0</td>\n",
       "      <td>1.0</td>\n",
       "      <td>25.19</td>\n",
       "      <td>13.30</td>\n",
       "      <td>1.0</td>\n",
       "    </tr>\n",
       "    <tr>\n",
       "      <th>43076</th>\n",
       "      <td>70410</td>\n",
       "      <td>90589254</td>\n",
       "      <td>80.85</td>\n",
       "      <td>31.28</td>\n",
       "      <td>0.0</td>\n",
       "      <td>1.0</td>\n",
       "      <td>3.0</td>\n",
       "      <td>3</td>\n",
       "      <td>0.0</td>\n",
       "      <td>6</td>\n",
       "      <td>1.0</td>\n",
       "      <td>1.0</td>\n",
       "      <td>1.0</td>\n",
       "      <td>17.03</td>\n",
       "      <td>24.30</td>\n",
       "      <td>0.0</td>\n",
       "    </tr>\n",
       "    <tr>\n",
       "      <th>43077</th>\n",
       "      <td>134513</td>\n",
       "      <td>90589034</td>\n",
       "      <td>91.35</td>\n",
       "      <td>27.20</td>\n",
       "      <td>1.0</td>\n",
       "      <td>0.0</td>\n",
       "      <td>16.0</td>\n",
       "      <td>3</td>\n",
       "      <td>0.0</td>\n",
       "      <td>6</td>\n",
       "      <td>1.0</td>\n",
       "      <td>1.0</td>\n",
       "      <td>1.0</td>\n",
       "      <td>24.51</td>\n",
       "      <td>15.25</td>\n",
       "      <td>0.0</td>\n",
       "    </tr>\n",
       "  </tbody>\n",
       "</table>\n",
       "<p>43078 rows × 16 columns</p>\n",
       "</div>"
      ],
      "text/plain": [
       "       playerId         id  x_coordinates  y_coordinates  blocked  goal  time  \\\n",
       "0         25413  177959212          92.40          27.88      0.0   1.0   2.0   \n",
       "1         26150  177959247          89.25          35.36      0.0   0.0   3.0   \n",
       "2         14763  177959280         100.80          35.36      0.0   1.0   4.0   \n",
       "3          7868  177959289          85.05          22.44      0.0   0.0   7.0   \n",
       "4          7868  177959429          78.75          20.40      0.0   0.0  14.0   \n",
       "...         ...        ...            ...            ...      ...   ...   ...   \n",
       "43073     25575   90588469          81.90          41.48      1.0   0.0  85.0   \n",
       "43074     25575   90588583          97.65          28.56      0.0   0.0  91.0   \n",
       "43075     70410   90589205          94.50          25.84      0.0   0.0  13.0   \n",
       "43076     70410   90589254          80.85          31.28      0.0   1.0   3.0   \n",
       "43077    134513   90589034          91.35          27.20      1.0   0.0  16.0   \n",
       "\n",
       "       matchPeriod  counter  competition  foot  bodypart  preferrence  angles  \\\n",
       "0                0      0.0            0   1.0       1.0          1.0   26.77   \n",
       "1                0      0.0            0   0.0       2.0          1.0   25.99   \n",
       "2                0      0.0            0   1.0       3.0          1.0   78.79   \n",
       "3                0      0.0            0   1.0       2.0          0.0   15.74   \n",
       "4                0      0.0            0   1.0       1.0          1.0   12.59   \n",
       "...            ...      ...          ...   ...       ...          ...     ...   \n",
       "43073            1      0.0            6   1.0       2.0          0.0   16.36   \n",
       "43074            1      0.0            6   1.0       1.0          1.0   37.46   \n",
       "43075            2      0.0            6   1.0       3.0          1.0   25.19   \n",
       "43076            3      0.0            6   1.0       1.0          1.0   17.03   \n",
       "43077            3      0.0            6   1.0       1.0          1.0   24.51   \n",
       "\n",
       "       distance  headers  \n",
       "0         14.01      0.0  \n",
       "1         15.81      0.0  \n",
       "2          4.41      1.0  \n",
       "3         23.06      0.0  \n",
       "4         29.56      0.0  \n",
       "...         ...      ...  \n",
       "43073     24.28      0.0  \n",
       "43074      9.14      0.0  \n",
       "43075     13.30      1.0  \n",
       "43076     24.30      0.0  \n",
       "43077     15.25      0.0  \n",
       "\n",
       "[43078 rows x 16 columns]"
      ]
     },
     "execution_count": 8,
     "metadata": {},
     "output_type": "execute_result"
    }
   ],
   "source": [
    "allshots=pd.read_csv('shots.csv')\n",
    "allshots"
   ]
  },
  {
   "cell_type": "markdown",
   "metadata": {},
   "source": [
    "# Features \n",
    "**x_coordinates** - the closer the player is to the goal, higher is the probability of the goal being scored.  <br><br>\n",
    "**y_coordinates** - the closer the player is to the centre of the goal, higher is the probaboility of the goal being scored.<br>  <br>\n",
    "**angles** - greater angles imply that the player is close to the goal with a better view of of it and hence a larger area to aim at. <br><br>\n",
    "**counter** - goals are easier to score in a counterattack. <br><br>\n",
    "**preference** - the quality of shot is directly dependent on the preferred foot being used or not.<br><br>\n",
    "**distance** - less is better. <br><br>\n",
    "**headers** - Headers might positively or negatively affect the goal scoring chance."
   ]
  },
  {
   "cell_type": "code",
   "execution_count": 9,
   "metadata": {},
   "outputs": [],
   "source": [
    "model_input = allshots[['x_coordinates','y_coordinates','angles','counter','preferrence','distance','headers']]\n",
    "model_output = np.ravel(allshots[['goal']])"
   ]
  },
  {
   "cell_type": "code",
   "execution_count": 10,
   "metadata": {},
   "outputs": [],
   "source": [
    "from sklearn.model_selection import train_test_split\n",
    "X1, X2, y1, y2 = train_test_split(model_input, model_output, random_state=0,\n",
    "train_size=0.8)"
   ]
  },
  {
   "cell_type": "markdown",
   "metadata": {},
   "source": [
    "## LOGISTIC REGRESSION"
   ]
  },
  {
   "cell_type": "code",
   "execution_count": 11,
   "metadata": {},
   "outputs": [],
   "source": [
    "from sklearn.model_selection import GridSearchCV\n",
    "from sklearn.linear_model import LogisticRegression\n",
    "from sklearn.pipeline import make_pipeline\n",
    "pipe_1=make_pipeline(LogisticRegression())"
   ]
  },
  {
   "cell_type": "code",
   "execution_count": 12,
   "metadata": {},
   "outputs": [],
   "source": [
    "grid_values = [{'logisticregression__C': [0.001,0.01,0.1,1,3,5,7,10,100]}]"
   ]
  },
  {
   "cell_type": "code",
   "execution_count": 13,
   "metadata": {},
   "outputs": [],
   "source": [
    "grid_1 = GridSearchCV(pipe_1, param_grid = grid_values,scoring = 'f1',verbose=1, cv=5)"
   ]
  },
  {
   "cell_type": "code",
   "execution_count": 14,
   "metadata": {
    "scrolled": true
   },
   "outputs": [
    {
     "name": "stdout",
     "output_type": "stream",
     "text": [
      "Fitting 5 folds for each of 9 candidates, totalling 45 fits\n"
     ]
    },
    {
     "name": "stderr",
     "output_type": "stream",
     "text": [
      "[Parallel(n_jobs=1)]: Using backend SequentialBackend with 1 concurrent workers.\n",
      "[Parallel(n_jobs=1)]: Done  45 out of  45 | elapsed:    7.2s finished\n"
     ]
    },
    {
     "data": {
      "text/plain": [
       "GridSearchCV(cv=5,\n",
       "             estimator=Pipeline(steps=[('logisticregression',\n",
       "                                        LogisticRegression())]),\n",
       "             param_grid=[{'logisticregression__C': [0.001, 0.01, 0.1, 1, 3, 5,\n",
       "                                                    7, 10, 100]}],\n",
       "             scoring='f1', verbose=1)"
      ]
     },
     "execution_count": 14,
     "metadata": {},
     "output_type": "execute_result"
    }
   ],
   "source": [
    "grid_1.fit(X1,y1)"
   ]
  },
  {
   "cell_type": "code",
   "execution_count": 15,
   "metadata": {},
   "outputs": [
    {
     "data": {
      "text/plain": [
       "0.181408159787053"
      ]
     },
     "execution_count": 15,
     "metadata": {},
     "output_type": "execute_result"
    }
   ],
   "source": [
    "grid_1.best_score_"
   ]
  },
  {
   "cell_type": "code",
   "execution_count": 16,
   "metadata": {},
   "outputs": [
    {
     "data": {
      "text/plain": [
       "{'logisticregression__C': 1}"
      ]
     },
     "execution_count": 16,
     "metadata": {},
     "output_type": "execute_result"
    }
   ],
   "source": [
    "grid_1.best_params_"
   ]
  },
  {
   "cell_type": "code",
   "execution_count": 17,
   "metadata": {},
   "outputs": [],
   "source": [
    "ytest_labels1=grid_1.predict(X2)\n",
    "ytest_prob1=grid_1.predict_proba(X2)[:,1]"
   ]
  },
  {
   "cell_type": "code",
   "execution_count": 18,
   "metadata": {},
   "outputs": [
    {
     "data": {
      "image/png": "[encoded data removed]",
      "text/plain": [
       "<Figure size 432x288 with 1 Axes>"
      ]
     },
     "metadata": {
      "needs_background": "light"
     },
     "output_type": "display_data"
    }
   ],
   "source": [
    "threshold1,f1score1,recall1,precision1=plot_pr_curve(y2,ytest_prob1)\n",
    "threshold1=np.around(threshold1,4)\n",
    "f1score1=np.around(f1score1,4)\n",
    "recall1=np.around(recall1,4)\n",
    "precision1=np.around(precision1,4)"
   ]
  },
  {
   "cell_type": "code",
   "execution_count": 19,
   "metadata": {},
   "outputs": [
    {
     "data": {
      "image/png": "[encoded data removed]",
      "text/plain": [
       "<Figure size 432x288 with 1 Axes>"
      ]
     },
     "metadata": {
      "needs_background": "light"
     },
     "output_type": "display_data"
    }
   ],
   "source": [
    "plot_roc_curve(y2,ytest_prob1)"
   ]
  },
  {
   "cell_type": "code",
   "execution_count": 20,
   "metadata": {},
   "outputs": [],
   "source": [
    "log_loss1=log_loss(y2, ytest_prob1, eps=1e-15)\n",
    "log_loss1=np.around(log_loss1,4)"
   ]
  },
  {
   "cell_type": "code",
   "execution_count": 21,
   "metadata": {},
   "outputs": [
    {
     "data": {
      "text/plain": [
       "Text(0.5, 1.0, 'Reliability Curve')"
      ]
     },
     "execution_count": 21,
     "metadata": {},
     "output_type": "execute_result"
    },
    {
     "data": {
      "image/png": "[encoded data removed]",
      "text/plain": [
       "<Figure size 432x288 with 1 Axes>"
      ]
     },
     "metadata": {
      "needs_background": "light"
     },
     "output_type": "display_data"
    }
   ],
   "source": [
    "fraction_of_positives1, mean_predicted_values1 = calibration_curve(y2, ytest_prob1, n_bins=10)\n",
    "plt.plot(mean_predicted_values1, fraction_of_positives1, 's-')\n",
    "plt.plot([0, 1], [0, 1], '--', color='gray')\n",
    "plt.title('Reliability Curve')"
   ]
  },
  {
   "cell_type": "markdown",
   "metadata": {},
   "source": [
    "## RANDOM FOREST"
   ]
  },
  {
   "cell_type": "code",
   "execution_count": 22,
   "metadata": {},
   "outputs": [],
   "source": [
    "from sklearn.ensemble import RandomForestClassifier"
   ]
  },
  {
   "cell_type": "code",
   "execution_count": 23,
   "metadata": {},
   "outputs": [],
   "source": [
    "pipe_2 = make_pipeline(RandomForestClassifier())\n",
    "grid_values_2 = [{'randomforestclassifier__n_estimators': [100,200], 'randomforestclassifier__max_depth':[6,8,10]}]\n",
    "grid_2 = GridSearchCV(pipe_2, param_grid = grid_values_2,scoring = 'f1',verbose=1, cv=5)"
   ]
  },
  {
   "cell_type": "code",
   "execution_count": 24,
   "metadata": {
    "scrolled": true
   },
   "outputs": [
    {
     "name": "stdout",
     "output_type": "stream",
     "text": [
      "Fitting 5 folds for each of 6 candidates, totalling 30 fits\n"
     ]
    },
    {
     "name": "stderr",
     "output_type": "stream",
     "text": [
      "[Parallel(n_jobs=1)]: Using backend SequentialBackend with 1 concurrent workers.\n",
      "[Parallel(n_jobs=1)]: Done  30 out of  30 | elapsed:   51.0s finished\n"
     ]
    },
    {
     "data": {
      "text/plain": [
       "GridSearchCV(cv=5,\n",
       "             estimator=Pipeline(steps=[('randomforestclassifier',\n",
       "                                        RandomForestClassifier())]),\n",
       "             param_grid=[{'randomforestclassifier__max_depth': [6, 8, 10],\n",
       "                          'randomforestclassifier__n_estimators': [100, 200]}],\n",
       "             scoring='f1', verbose=1)"
      ]
     },
     "execution_count": 24,
     "metadata": {},
     "output_type": "execute_result"
    }
   ],
   "source": [
    "grid_2.fit(X1,y1)"
   ]
  },
  {
   "cell_type": "code",
   "execution_count": 25,
   "metadata": {},
   "outputs": [
    {
     "data": {
      "text/plain": [
       "0.18120834023466365"
      ]
     },
     "execution_count": 25,
     "metadata": {},
     "output_type": "execute_result"
    }
   ],
   "source": [
    "grid_2.best_score_"
   ]
  },
  {
   "cell_type": "code",
   "execution_count": 26,
   "metadata": {},
   "outputs": [
    {
     "data": {
      "text/plain": [
       "{'randomforestclassifier__max_depth': 8,\n",
       " 'randomforestclassifier__n_estimators': 100}"
      ]
     },
     "execution_count": 26,
     "metadata": {},
     "output_type": "execute_result"
    }
   ],
   "source": [
    "grid_2.best_params_"
   ]
  },
  {
   "cell_type": "code",
   "execution_count": 27,
   "metadata": {},
   "outputs": [],
   "source": [
    "ytest_labels2=grid_2.predict(X2)\n",
    "ytest_prob2=grid_2.predict_proba(X2)[:,1]"
   ]
  },
  {
   "cell_type": "code",
   "execution_count": 28,
   "metadata": {},
   "outputs": [
    {
     "data": {
      "image/png": "[encoded data removed]",
      "text/plain": [
       "<Figure size 432x288 with 1 Axes>"
      ]
     },
     "metadata": {
      "needs_background": "light"
     },
     "output_type": "display_data"
    }
   ],
   "source": [
    "threshold2,f1score2,recall2,precision2=plot_pr_curve(y2,ytest_prob2)\n",
    "threshold2=np.around(threshold2,4)\n",
    "f1score2=np.around(f1score2,4)\n",
    "recall2=np.around(recall2,4)\n",
    "precision2=np.around(precision2,4)"
   ]
  },
  {
   "cell_type": "code",
   "execution_count": 29,
   "metadata": {},
   "outputs": [
    {
     "data": {
      "image/png": "[encoded data removed]",
      "text/plain": [
       "<Figure size 432x288 with 1 Axes>"
      ]
     },
     "metadata": {
      "needs_background": "light"
     },
     "output_type": "display_data"
    }
   ],
   "source": [
    "plot_roc_curve(y2,ytest_prob2)"
   ]
  },
  {
   "cell_type": "code",
   "execution_count": 30,
   "metadata": {},
   "outputs": [],
   "source": [
    "log_loss2=log_loss(y2, ytest_prob2, eps=1e-15)\n",
    "log_loss2=np.around(log_loss2,4)"
   ]
  },
  {
   "cell_type": "code",
   "execution_count": 31,
   "metadata": {},
   "outputs": [
    {
     "data": {
      "text/plain": [
       "[<matplotlib.lines.Line2D at 0x1f46cf4b088>]"
      ]
     },
     "execution_count": 31,
     "metadata": {},
     "output_type": "execute_result"
    },
    {
     "data": {
      "image/png": "[encoded data removed]",
      "text/plain": [
       "<Figure size 432x288 with 1 Axes>"
      ]
     },
     "metadata": {
      "needs_background": "light"
     },
     "output_type": "display_data"
    }
   ],
   "source": [
    "fraction_of_positives2, mean_predicted_values2 = calibration_curve(y2, ytest_prob2, n_bins=10)\n",
    "plt.plot(mean_predicted_values2, fraction_of_positives2, 's-')\n",
    "plt.plot([0, 1], [0, 1], '--', color='gray')"
   ]
  },
  {
   "cell_type": "markdown",
   "metadata": {},
   "source": [
    "## AdaBOOST"
   ]
  },
  {
   "cell_type": "code",
   "execution_count": 32,
   "metadata": {},
   "outputs": [],
   "source": [
    "from sklearn.ensemble import AdaBoostClassifier"
   ]
  },
  {
   "cell_type": "code",
   "execution_count": 33,
   "metadata": {},
   "outputs": [],
   "source": [
    "pipe_3=make_pipeline(AdaBoostClassifier())\n",
    "grid_values_3 = [{'adaboostclassifier__n_estimators': [100], 'adaboostclassifier__learning_rate':np.arange(0.1,1.1,0.1)}]"
   ]
  },
  {
   "cell_type": "code",
   "execution_count": 34,
   "metadata": {},
   "outputs": [],
   "source": [
    "grid_3 = GridSearchCV(pipe_3, param_grid = grid_values_3,scoring = 'f1',verbose=1, cv=5)"
   ]
  },
  {
   "cell_type": "code",
   "execution_count": 35,
   "metadata": {
    "scrolled": true
   },
   "outputs": [
    {
     "name": "stdout",
     "output_type": "stream",
     "text": [
      "Fitting 5 folds for each of 10 candidates, totalling 50 fits\n"
     ]
    },
    {
     "name": "stderr",
     "output_type": "stream",
     "text": [
      "[Parallel(n_jobs=1)]: Using backend SequentialBackend with 1 concurrent workers.\n",
      "[Parallel(n_jobs=1)]: Done  50 out of  50 | elapsed:  1.1min finished\n"
     ]
    },
    {
     "data": {
      "text/plain": [
       "GridSearchCV(cv=5,\n",
       "             estimator=Pipeline(steps=[('adaboostclassifier',\n",
       "                                        AdaBoostClassifier())]),\n",
       "             param_grid=[{'adaboostclassifier__learning_rate': array([0.1, 0.2, 0.3, 0.4, 0.5, 0.6, 0.7, 0.8, 0.9, 1. ]),\n",
       "                          'adaboostclassifier__n_estimators': [100]}],\n",
       "             scoring='f1', verbose=1)"
      ]
     },
     "execution_count": 35,
     "metadata": {},
     "output_type": "execute_result"
    }
   ],
   "source": [
    "grid_3.fit(X1,y1)"
   ]
  },
  {
   "cell_type": "code",
   "execution_count": 36,
   "metadata": {},
   "outputs": [
    {
     "data": {
      "text/plain": [
       "{'adaboostclassifier__learning_rate': 0.6,\n",
       " 'adaboostclassifier__n_estimators': 100}"
      ]
     },
     "execution_count": 36,
     "metadata": {},
     "output_type": "execute_result"
    }
   ],
   "source": [
    "grid_3.best_params_"
   ]
  },
  {
   "cell_type": "code",
   "execution_count": 37,
   "metadata": {},
   "outputs": [
    {
     "data": {
      "text/plain": [
       "0.19482542809832332"
      ]
     },
     "execution_count": 37,
     "metadata": {},
     "output_type": "execute_result"
    }
   ],
   "source": [
    "grid_3.best_score_"
   ]
  },
  {
   "cell_type": "code",
   "execution_count": 38,
   "metadata": {},
   "outputs": [],
   "source": [
    "ytest_labels3=grid_3.predict(X2)\n",
    "ytest_prob3=grid_3.predict_proba(X2)[:,1]"
   ]
  },
  {
   "cell_type": "code",
   "execution_count": 39,
   "metadata": {},
   "outputs": [
    {
     "data": {
      "image/png": "[encoded data removed]",
      "text/plain": [
       "<Figure size 432x288 with 1 Axes>"
      ]
     },
     "metadata": {
      "needs_background": "light"
     },
     "output_type": "display_data"
    }
   ],
   "source": [
    "plot_roc_curve(y2,ytest_prob3)"
   ]
  },
  {
   "cell_type": "code",
   "execution_count": 40,
   "metadata": {},
   "outputs": [
    {
     "data": {
      "text/plain": [
       "0.6742704791586309"
      ]
     },
     "execution_count": 40,
     "metadata": {},
     "output_type": "execute_result"
    }
   ],
   "source": [
    "log_loss(y2, ytest_prob3, eps=1e-15)"
   ]
  },
  {
   "cell_type": "code",
   "execution_count": 41,
   "metadata": {},
   "outputs": [
    {
     "data": {
      "text/plain": [
       "[<matplotlib.lines.Line2D at 0x1f46d59eac8>]"
      ]
     },
     "execution_count": 41,
     "metadata": {},
     "output_type": "execute_result"
    },
    {
     "data": {
      "image/png": "[encoded data removed]",
      "text/plain": [
       "<Figure size 432x288 with 1 Axes>"
      ]
     },
     "metadata": {
      "needs_background": "light"
     },
     "output_type": "display_data"
    }
   ],
   "source": [
    "fraction_of_positives3, mean_predicted_values3 = calibration_curve(y2, ytest_prob3, n_bins=10)\n",
    "plt.plot(mean_predicted_values3, fraction_of_positives3, 's-')\n",
    "plt.plot([0, 1], [0, 1], '--', color='gray')"
   ]
  },
  {
   "cell_type": "markdown",
   "metadata": {},
   "source": [
    "This shows us that AdaBOOST is not a well calibrated classifier as the probabilities cannot be interpreted as a confidence level. Hence we need to calibrate the predicted probabilities in order to get good 'xG' values"
   ]
  },
  {
   "cell_type": "code",
   "execution_count": 42,
   "metadata": {},
   "outputs": [],
   "source": [
    "from sklearn.calibration import CalibratedClassifierCV"
   ]
  },
  {
   "cell_type": "code",
   "execution_count": 43,
   "metadata": {},
   "outputs": [],
   "source": [
    "calibration = CalibratedClassifierCV(base_estimator = grid_3 , cv='prefit')"
   ]
  },
  {
   "cell_type": "code",
   "execution_count": 44,
   "metadata": {},
   "outputs": [
    {
     "data": {
      "text/plain": [
       "CalibratedClassifierCV(base_estimator=GridSearchCV(cv=5,\n",
       "                                                   estimator=Pipeline(steps=[('adaboostclassifier',\n",
       "                                                                              AdaBoostClassifier())]),\n",
       "                                                   param_grid=[{'adaboostclassifier__learning_rate': array([0.1, 0.2, 0.3, 0.4, 0.5, 0.6, 0.7, 0.8, 0.9, 1. ]),\n",
       "                                                                'adaboostclassifier__n_estimators': [100]}],\n",
       "                                                   scoring='f1', verbose=1),\n",
       "                       cv='prefit')"
      ]
     },
     "execution_count": 44,
     "metadata": {},
     "output_type": "execute_result"
    }
   ],
   "source": [
    "calibration.fit(X2,y2)"
   ]
  },
  {
   "cell_type": "code",
   "execution_count": 45,
   "metadata": {},
   "outputs": [
    {
     "data": {
      "image/png": "[encoded data removed]",
      "text/plain": [
       "<Figure size 432x288 with 1 Axes>"
      ]
     },
     "metadata": {
      "needs_background": "light"
     },
     "output_type": "display_data"
    }
   ],
   "source": [
    "ytest_prob3C=calibration.predict_proba(X2)[:,1]\n",
    "threshold3,f1score3,recall3,precision3=plot_pr_curve(y2,ytest_prob3C)\n",
    "threshold3=np.around(threshold3,4)\n",
    "f1score3=np.around(f1score3,4)\n",
    "recall3=np.around(recall3,4)\n",
    "precision3=np.around(precision3,4)\n"
   ]
  },
  {
   "cell_type": "code",
   "execution_count": 46,
   "metadata": {},
   "outputs": [
    {
     "data": {
      "text/plain": [
       "[<matplotlib.lines.Line2D at 0x1f46d648288>]"
      ]
     },
     "execution_count": 46,
     "metadata": {},
     "output_type": "execute_result"
    },
    {
     "data": {
      "image/png": "[encoded data removed]",
      "text/plain": [
       "<Figure size 432x288 with 1 Axes>"
      ]
     },
     "metadata": {
      "needs_background": "light"
     },
     "output_type": "display_data"
    }
   ],
   "source": [
    "fraction_of_positives3C, mean_predicted_values3C = calibration_curve(y2, ytest_prob3C, n_bins=10)\n",
    "plt.plot(mean_predicted_values3C, fraction_of_positives3C, 's-')\n",
    "plt.plot([0, 1], [0, 1], '--', color='gray')"
   ]
  },
  {
   "cell_type": "markdown",
   "metadata": {},
   "source": [
    "Post calibration the predicted probabilities become reliable"
   ]
  },
  {
   "cell_type": "code",
   "execution_count": 47,
   "metadata": {},
   "outputs": [],
   "source": [
    "log_loss3=log_loss(y2, ytest_prob3C, eps=1e-15)\n",
    "log_loss3=np.around(log_loss3,4)"
   ]
  },
  {
   "cell_type": "code",
   "execution_count": 48,
   "metadata": {},
   "outputs": [
    {
     "data": {
      "text/plain": [
       "[<matplotlib.lines.Line2D at 0x1f46e6cb748>]"
      ]
     },
     "execution_count": 48,
     "metadata": {},
     "output_type": "execute_result"
    },
    {
     "data": {
      "image/png": "[encoded data removed]",
      "text/plain": [
       "<Figure size 432x288 with 1 Axes>"
      ]
     },
     "metadata": {
      "needs_background": "light"
     },
     "output_type": "display_data"
    }
   ],
   "source": [
    "precisions1, recalls1, thresholds1 = metrics.precision_recall_curve(y2, ytest_prob1)\n",
    "precisions2, recalls2, thresholds2 = metrics.precision_recall_curve(y2, ytest_prob2)\n",
    "precisions3, recalls3, thresholds3 = metrics.precision_recall_curve(y2, ytest_prob3)\n",
    "plt.plot(recalls1, precisions1, color='blue')\n",
    "plt.plot(recalls2, precisions2, color='red')\n",
    "plt.plot(recalls3, precisions3, color='black')\n",
    "\n"
   ]
  },
  {
   "cell_type": "markdown",
   "metadata": {},
   "source": [
    "All three classifiers perform relatively same with logistic regression having a slight edge."
   ]
  },
  {
   "cell_type": "code",
   "execution_count": 49,
   "metadata": {},
   "outputs": [
    {
     "data": {
      "text/plain": [
       "[<matplotlib.lines.Line2D at 0x1f46e72da88>]"
      ]
     },
     "execution_count": 49,
     "metadata": {},
     "output_type": "execute_result"
    },
    {
     "data": {
      "image/png": "[encoded data removed]",
      "text/plain": [
       "<Figure size 432x288 with 1 Axes>"
      ]
     },
     "metadata": {
      "needs_background": "light"
     },
     "output_type": "display_data"
    }
   ],
   "source": [
    "fprs1, tprs1, thresholds1 = metrics.roc_curve(y2, ytest_prob1)\n",
    "fprs2, tprs2, thresholds2 = metrics.roc_curve(y2, ytest_prob2)\n",
    "fprs3, tprs3, thresholds3 = metrics.roc_curve(y2, ytest_prob3)\n",
    "plt.plot(fprs1, tprs1, color='blue')\n",
    "plt.plot(fprs2, tprs2, color='red')\n",
    "plt.plot(fprs3, tprs3, color='black')\n"
   ]
  },
  {
   "cell_type": "code",
   "execution_count": null,
   "metadata": {},
   "outputs": [],
   "source": []
  },
  {
   "cell_type": "code",
   "execution_count": 50,
   "metadata": {},
   "outputs": [],
   "source": [
    "from tabulate import tabulate"
   ]
  },
  {
   "cell_type": "code",
   "execution_count": 51,
   "metadata": {},
   "outputs": [],
   "source": [
    "table = [['Model','Threshold','F1score','Precision','Recall','Log_loss'],['Logistic Regression',threshold1,f1score1,precision1,recall1,log_loss1],['Random Forest',threshold2,f1score2,precision2,recall2,log_loss2],['AdaBOOST',threshold3,f1score3,precision3,recall3,log_loss3]]"
   ]
  },
  {
   "cell_type": "code",
   "execution_count": 52,
   "metadata": {},
   "outputs": [
    {
     "data": {
      "text/plain": [
       "[['Model', 'Threshold', 'F1score', 'Precision', 'Recall', 'Log_loss'],\n",
       " ['Logistic Regression', 0.1591, 0.3904, 0.306, 0.5392, 0.2739],\n",
       " ['Random Forest', 0.164, 0.3861, 0.2943, 0.5609, 0.2732],\n",
       " ['AdaBOOST', 0.1624, 0.3847, 0.3049, 0.521, 0.2741]]"
      ]
     },
     "execution_count": 52,
     "metadata": {},
     "output_type": "execute_result"
    }
   ],
   "source": [
    "table"
   ]
  },
  {
   "cell_type": "code",
   "execution_count": 53,
   "metadata": {},
   "outputs": [
    {
     "name": "stdout",
     "output_type": "stream",
     "text": [
      "╒═════════════════════╤═════════════╤═══════════╤═════════════╤══════════╤════════════╕\n",
      "│ Model               │   Threshold │   F1score │   Precision │   Recall │   Log_loss │\n",
      "╞═════════════════════╪═════════════╪═══════════╪═════════════╪══════════╪════════════╡\n",
      "│ Logistic Regression │      0.1591 │    0.3904 │      0.306  │   0.5392 │     0.2739 │\n",
      "├─────────────────────┼─────────────┼───────────┼─────────────┼──────────┼────────────┤\n",
      "│ Random Forest       │      0.164  │    0.3861 │      0.2943 │   0.5609 │     0.2732 │\n",
      "├─────────────────────┼─────────────┼───────────┼─────────────┼──────────┼────────────┤\n",
      "│ AdaBOOST            │      0.1624 │    0.3847 │      0.3049 │   0.521  │     0.2741 │\n",
      "╘═════════════════════╧═════════════╧═══════════╧═════════════╧══════════╧════════════╛\n"
     ]
    }
   ],
   "source": [
    "print(tabulate(table, headers='firstrow', tablefmt='fancy_grid'))"
   ]
  },
  {
   "cell_type": "markdown",
   "metadata": {},
   "source": [
    "Confusion matrix for Random Forest"
   ]
  },
  {
   "cell_type": "code",
   "execution_count": 54,
   "metadata": {},
   "outputs": [
    {
     "name": "stdout",
     "output_type": "stream",
     "text": [
      "The optimal accuracy is  0.8182451253481894\n"
     ]
    },
    {
     "data": {
      "image/png": "[encoded data removed]",
      "text/plain": [
       "<Figure size 432x288 with 1 Axes>"
      ]
     },
     "metadata": {
      "needs_background": "light"
     },
     "output_type": "display_data"
    }
   ],
   "source": [
    "optimal_confusion_matrix(y2,ytest_prob2,0.164)"
   ]
  },
  {
   "cell_type": "markdown",
   "metadata": {},
   "source": [
    "Confusion matrix for logistic regression"
   ]
  },
  {
   "cell_type": "code",
   "execution_count": 55,
   "metadata": {},
   "outputs": [
    {
     "name": "stdout",
     "output_type": "stream",
     "text": [
      "The optimal accuracy is  0.8288068709377902\n"
     ]
    },
    {
     "data": {
      "image/png": "[encoded data removed]",
      "text/plain": [
       "<Figure size 432x288 with 1 Axes>"
      ]
     },
     "metadata": {
      "needs_background": "light"
     },
     "output_type": "display_data"
    }
   ],
   "source": [
    "optimal_confusion_matrix(y2,ytest_prob1,0.1591)"
   ]
  },
  {
   "cell_type": "markdown",
   "metadata": {},
   "source": [
    "All the three classifiers have relatively the same performance. I have chose Random Forest for predicting xG values on the account of it having better recall, log_loss and reliability curve. "
   ]
  },
  {
   "cell_type": "code",
   "execution_count": 59,
   "metadata": {},
   "outputs": [],
   "source": [
    "xG=grid_2.predict_proba(model_input)[:,1]"
   ]
  },
  {
   "cell_type": "code",
   "execution_count": 60,
   "metadata": {},
   "outputs": [],
   "source": [
    "xG=np.around(xG,4)"
   ]
  },
  {
   "cell_type": "code",
   "execution_count": 61,
   "metadata": {},
   "outputs": [],
   "source": [
    "allshots['xG']=xG"
   ]
  },
  {
   "cell_type": "code",
   "execution_count": 62,
   "metadata": {},
   "outputs": [],
   "source": [
    "allshots.to_csv('allshots.csv',index=False)"
   ]
  },
  {
   "cell_type": "code",
   "execution_count": 63,
   "metadata": {},
   "outputs": [
    {
     "data": {
      "text/html": [
       "<div>\n",
       "<style scoped>\n",
       "    .dataframe tbody tr th:only-of-type {\n",
       "        vertical-align: middle;\n",
       "    }\n",
       "\n",
       "    .dataframe tbody tr th {\n",
       "        vertical-align: top;\n",
       "    }\n",
       "\n",
       "    .dataframe thead th {\n",
       "        text-align: right;\n",
       "    }\n",
       "</style>\n",
       "<table border=\"1\" class=\"dataframe\">\n",
       "  <thead>\n",
       "    <tr style=\"text-align: right;\">\n",
       "      <th></th>\n",
       "      <th>playerId</th>\n",
       "      <th>id</th>\n",
       "      <th>x_coordinates</th>\n",
       "      <th>y_coordinates</th>\n",
       "      <th>blocked</th>\n",
       "      <th>goal</th>\n",
       "      <th>time</th>\n",
       "      <th>matchPeriod</th>\n",
       "      <th>counter</th>\n",
       "      <th>competition</th>\n",
       "      <th>foot</th>\n",
       "      <th>bodypart</th>\n",
       "      <th>preferrence</th>\n",
       "      <th>angles</th>\n",
       "      <th>distance</th>\n",
       "      <th>headers</th>\n",
       "      <th>xG</th>\n",
       "    </tr>\n",
       "  </thead>\n",
       "  <tbody>\n",
       "    <tr>\n",
       "      <th>0</th>\n",
       "      <td>25413</td>\n",
       "      <td>177959212</td>\n",
       "      <td>92.40</td>\n",
       "      <td>27.88</td>\n",
       "      <td>0.0</td>\n",
       "      <td>1.0</td>\n",
       "      <td>2.0</td>\n",
       "      <td>0</td>\n",
       "      <td>0.0</td>\n",
       "      <td>0</td>\n",
       "      <td>1.0</td>\n",
       "      <td>1.0</td>\n",
       "      <td>1.0</td>\n",
       "      <td>26.77</td>\n",
       "      <td>14.01</td>\n",
       "      <td>0.0</td>\n",
       "      <td>0.1466</td>\n",
       "    </tr>\n",
       "    <tr>\n",
       "      <th>1</th>\n",
       "      <td>26150</td>\n",
       "      <td>177959247</td>\n",
       "      <td>89.25</td>\n",
       "      <td>35.36</td>\n",
       "      <td>0.0</td>\n",
       "      <td>0.0</td>\n",
       "      <td>3.0</td>\n",
       "      <td>0</td>\n",
       "      <td>0.0</td>\n",
       "      <td>0</td>\n",
       "      <td>0.0</td>\n",
       "      <td>2.0</td>\n",
       "      <td>1.0</td>\n",
       "      <td>25.99</td>\n",
       "      <td>15.81</td>\n",
       "      <td>0.0</td>\n",
       "      <td>0.1106</td>\n",
       "    </tr>\n",
       "    <tr>\n",
       "      <th>2</th>\n",
       "      <td>14763</td>\n",
       "      <td>177959280</td>\n",
       "      <td>100.80</td>\n",
       "      <td>35.36</td>\n",
       "      <td>0.0</td>\n",
       "      <td>1.0</td>\n",
       "      <td>4.0</td>\n",
       "      <td>0</td>\n",
       "      <td>0.0</td>\n",
       "      <td>0</td>\n",
       "      <td>1.0</td>\n",
       "      <td>3.0</td>\n",
       "      <td>1.0</td>\n",
       "      <td>78.79</td>\n",
       "      <td>4.41</td>\n",
       "      <td>1.0</td>\n",
       "      <td>0.4348</td>\n",
       "    </tr>\n",
       "    <tr>\n",
       "      <th>3</th>\n",
       "      <td>7868</td>\n",
       "      <td>177959289</td>\n",
       "      <td>85.05</td>\n",
       "      <td>22.44</td>\n",
       "      <td>0.0</td>\n",
       "      <td>0.0</td>\n",
       "      <td>7.0</td>\n",
       "      <td>0</td>\n",
       "      <td>0.0</td>\n",
       "      <td>0</td>\n",
       "      <td>1.0</td>\n",
       "      <td>2.0</td>\n",
       "      <td>0.0</td>\n",
       "      <td>15.74</td>\n",
       "      <td>23.06</td>\n",
       "      <td>0.0</td>\n",
       "      <td>0.0331</td>\n",
       "    </tr>\n",
       "    <tr>\n",
       "      <th>4</th>\n",
       "      <td>7868</td>\n",
       "      <td>177959429</td>\n",
       "      <td>78.75</td>\n",
       "      <td>20.40</td>\n",
       "      <td>0.0</td>\n",
       "      <td>0.0</td>\n",
       "      <td>14.0</td>\n",
       "      <td>0</td>\n",
       "      <td>0.0</td>\n",
       "      <td>0</td>\n",
       "      <td>1.0</td>\n",
       "      <td>1.0</td>\n",
       "      <td>1.0</td>\n",
       "      <td>12.59</td>\n",
       "      <td>29.56</td>\n",
       "      <td>0.0</td>\n",
       "      <td>0.0165</td>\n",
       "    </tr>\n",
       "    <tr>\n",
       "      <th>...</th>\n",
       "      <td>...</td>\n",
       "      <td>...</td>\n",
       "      <td>...</td>\n",
       "      <td>...</td>\n",
       "      <td>...</td>\n",
       "      <td>...</td>\n",
       "      <td>...</td>\n",
       "      <td>...</td>\n",
       "      <td>...</td>\n",
       "      <td>...</td>\n",
       "      <td>...</td>\n",
       "      <td>...</td>\n",
       "      <td>...</td>\n",
       "      <td>...</td>\n",
       "      <td>...</td>\n",
       "      <td>...</td>\n",
       "      <td>...</td>\n",
       "    </tr>\n",
       "    <tr>\n",
       "      <th>43073</th>\n",
       "      <td>25575</td>\n",
       "      <td>90588469</td>\n",
       "      <td>81.90</td>\n",
       "      <td>41.48</td>\n",
       "      <td>1.0</td>\n",
       "      <td>0.0</td>\n",
       "      <td>85.0</td>\n",
       "      <td>1</td>\n",
       "      <td>0.0</td>\n",
       "      <td>6</td>\n",
       "      <td>1.0</td>\n",
       "      <td>2.0</td>\n",
       "      <td>0.0</td>\n",
       "      <td>16.36</td>\n",
       "      <td>24.28</td>\n",
       "      <td>0.0</td>\n",
       "      <td>0.0231</td>\n",
       "    </tr>\n",
       "    <tr>\n",
       "      <th>43074</th>\n",
       "      <td>25575</td>\n",
       "      <td>90588583</td>\n",
       "      <td>97.65</td>\n",
       "      <td>28.56</td>\n",
       "      <td>0.0</td>\n",
       "      <td>0.0</td>\n",
       "      <td>91.0</td>\n",
       "      <td>1</td>\n",
       "      <td>0.0</td>\n",
       "      <td>6</td>\n",
       "      <td>1.0</td>\n",
       "      <td>1.0</td>\n",
       "      <td>1.0</td>\n",
       "      <td>37.46</td>\n",
       "      <td>9.14</td>\n",
       "      <td>0.0</td>\n",
       "      <td>0.2714</td>\n",
       "    </tr>\n",
       "    <tr>\n",
       "      <th>43075</th>\n",
       "      <td>70410</td>\n",
       "      <td>90589205</td>\n",
       "      <td>94.50</td>\n",
       "      <td>25.84</td>\n",
       "      <td>0.0</td>\n",
       "      <td>0.0</td>\n",
       "      <td>13.0</td>\n",
       "      <td>2</td>\n",
       "      <td>0.0</td>\n",
       "      <td>6</td>\n",
       "      <td>1.0</td>\n",
       "      <td>3.0</td>\n",
       "      <td>1.0</td>\n",
       "      <td>25.19</td>\n",
       "      <td>13.30</td>\n",
       "      <td>1.0</td>\n",
       "      <td>0.0895</td>\n",
       "    </tr>\n",
       "    <tr>\n",
       "      <th>43076</th>\n",
       "      <td>70410</td>\n",
       "      <td>90589254</td>\n",
       "      <td>80.85</td>\n",
       "      <td>31.28</td>\n",
       "      <td>0.0</td>\n",
       "      <td>1.0</td>\n",
       "      <td>3.0</td>\n",
       "      <td>3</td>\n",
       "      <td>0.0</td>\n",
       "      <td>6</td>\n",
       "      <td>1.0</td>\n",
       "      <td>1.0</td>\n",
       "      <td>1.0</td>\n",
       "      <td>17.03</td>\n",
       "      <td>24.30</td>\n",
       "      <td>0.0</td>\n",
       "      <td>0.0461</td>\n",
       "    </tr>\n",
       "    <tr>\n",
       "      <th>43077</th>\n",
       "      <td>134513</td>\n",
       "      <td>90589034</td>\n",
       "      <td>91.35</td>\n",
       "      <td>27.20</td>\n",
       "      <td>1.0</td>\n",
       "      <td>0.0</td>\n",
       "      <td>16.0</td>\n",
       "      <td>3</td>\n",
       "      <td>0.0</td>\n",
       "      <td>6</td>\n",
       "      <td>1.0</td>\n",
       "      <td>1.0</td>\n",
       "      <td>1.0</td>\n",
       "      <td>24.51</td>\n",
       "      <td>15.25</td>\n",
       "      <td>0.0</td>\n",
       "      <td>0.1332</td>\n",
       "    </tr>\n",
       "  </tbody>\n",
       "</table>\n",
       "<p>43078 rows × 17 columns</p>\n",
       "</div>"
      ],
      "text/plain": [
       "       playerId         id  x_coordinates  y_coordinates  blocked  goal  time  \\\n",
       "0         25413  177959212          92.40          27.88      0.0   1.0   2.0   \n",
       "1         26150  177959247          89.25          35.36      0.0   0.0   3.0   \n",
       "2         14763  177959280         100.80          35.36      0.0   1.0   4.0   \n",
       "3          7868  177959289          85.05          22.44      0.0   0.0   7.0   \n",
       "4          7868  177959429          78.75          20.40      0.0   0.0  14.0   \n",
       "...         ...        ...            ...            ...      ...   ...   ...   \n",
       "43073     25575   90588469          81.90          41.48      1.0   0.0  85.0   \n",
       "43074     25575   90588583          97.65          28.56      0.0   0.0  91.0   \n",
       "43075     70410   90589205          94.50          25.84      0.0   0.0  13.0   \n",
       "43076     70410   90589254          80.85          31.28      0.0   1.0   3.0   \n",
       "43077    134513   90589034          91.35          27.20      1.0   0.0  16.0   \n",
       "\n",
       "       matchPeriod  counter  competition  foot  bodypart  preferrence  angles  \\\n",
       "0                0      0.0            0   1.0       1.0          1.0   26.77   \n",
       "1                0      0.0            0   0.0       2.0          1.0   25.99   \n",
       "2                0      0.0            0   1.0       3.0          1.0   78.79   \n",
       "3                0      0.0            0   1.0       2.0          0.0   15.74   \n",
       "4                0      0.0            0   1.0       1.0          1.0   12.59   \n",
       "...            ...      ...          ...   ...       ...          ...     ...   \n",
       "43073            1      0.0            6   1.0       2.0          0.0   16.36   \n",
       "43074            1      0.0            6   1.0       1.0          1.0   37.46   \n",
       "43075            2      0.0            6   1.0       3.0          1.0   25.19   \n",
       "43076            3      0.0            6   1.0       1.0          1.0   17.03   \n",
       "43077            3      0.0            6   1.0       1.0          1.0   24.51   \n",
       "\n",
       "       distance  headers      xG  \n",
       "0         14.01      0.0  0.1466  \n",
       "1         15.81      0.0  0.1106  \n",
       "2          4.41      1.0  0.4348  \n",
       "3         23.06      0.0  0.0331  \n",
       "4         29.56      0.0  0.0165  \n",
       "...         ...      ...     ...  \n",
       "43073     24.28      0.0  0.0231  \n",
       "43074      9.14      0.0  0.2714  \n",
       "43075     13.30      1.0  0.0895  \n",
       "43076     24.30      0.0  0.0461  \n",
       "43077     15.25      0.0  0.1332  \n",
       "\n",
       "[43078 rows x 17 columns]"
      ]
     },
     "execution_count": 63,
     "metadata": {},
     "output_type": "execute_result"
    }
   ],
   "source": [
    "allshots"
   ]
  },
  {
   "cell_type": "markdown",
   "metadata": {},
   "source": [
    "## FEATURE IMPORTANCE"
   ]
  },
  {
   "cell_type": "code",
   "execution_count": 65,
   "metadata": {},
   "outputs": [],
   "source": [
    "randomforest=RandomForestClassifier(max_depth=8, n_estimators=100)"
   ]
  },
  {
   "cell_type": "code",
   "execution_count": 66,
   "metadata": {},
   "outputs": [
    {
     "data": {
      "text/plain": [
       "RandomForestClassifier(max_depth=8)"
      ]
     },
     "execution_count": 66,
     "metadata": {},
     "output_type": "execute_result"
    }
   ],
   "source": [
    "randomforest.fit(X1,y1)"
   ]
  },
  {
   "cell_type": "code",
   "execution_count": 69,
   "metadata": {},
   "outputs": [],
   "source": [
    "coefficients=randomforest.feature_importances_\n",
    "coefficients=np.reshape(coefficients,(7,))"
   ]
  },
  {
   "cell_type": "code",
   "execution_count": 70,
   "metadata": {},
   "outputs": [],
   "source": [
    "features=['X-Coordinates','Y-Coordinates','Angles','Counter','Preference','Distance','Headers']"
   ]
  },
  {
   "cell_type": "code",
   "execution_count": 71,
   "metadata": {},
   "outputs": [
    {
     "data": {
      "image/png": "[encoded data removed]",
      "text/plain": [
       "<Figure size 432x288 with 1 Axes>"
      ]
     },
     "metadata": {
      "needs_background": "light"
     },
     "output_type": "display_data"
    }
   ],
   "source": [
    "plt.bar(features, coefficients)\n",
    "plt.xticks(rotation=90)\n",
    "plt.savefig('featureimportance.png')"
   ]
  },
  {
   "cell_type": "code",
   "execution_count": null,
   "metadata": {},
   "outputs": [],
   "source": []
  }
 ],
 "metadata": {
  "kernelspec": {
   "display_name": "Python 3",
   "language": "python",
   "name": "python3"
  },
  "language_info": {
   "codemirror_mode": {
    "name": "ipython",
    "version": 3
   },
   "file_extension": ".py",
   "mimetype": "text/x-python",
   "name": "python",
   "nbconvert_exporter": "python",
   "pygments_lexer": "ipython3",
   "version": "3.7.7"
  }
 },
 "nbformat": 4,
 "nbformat_minor": 4
}
